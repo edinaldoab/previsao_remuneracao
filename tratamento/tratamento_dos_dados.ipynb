{
  "cells": [
    {
      "cell_type": "markdown",
      "metadata": {
        "id": "view-in-github",
        "colab_type": "text"
      },
      "source": [
        "<a href=\"https://colab.research.google.com/github/edinaldoab/previsao_remuneracao/blob/master/tratamento/tratamento_dos_dados.ipynb\" target=\"_parent\"><img src=\"https://colab.research.google.com/assets/colab-badge.svg\" alt=\"Open In Colab\"/></a>"
      ]
    },
    {
      "cell_type": "markdown",
      "source": [
        "# Etapa 02: Preparação do dataset para os modelos de ML"
      ],
      "metadata": {
        "id": "pFDvQSyVr521"
      }
    },
    {
      "cell_type": "markdown",
      "source": [
        "\n",
        "\n",
        "---\n",
        "\n"
      ],
      "metadata": {
        "id": "T3v6YcgXiSmp"
      }
    },
    {
      "cell_type": "code",
      "source": [
        "!rm -rf previsao_remuneracao/\n",
        "!git clone https://github.com/edinaldoab/previsao_remuneracao.git"
      ],
      "metadata": {
        "colab": {
          "base_uri": "https://localhost:8080/"
        },
        "id": "sBJQdPJXD6EX",
        "outputId": "177392e6-dc4b-4eb9-e283-97088f327654"
      },
      "execution_count": 100,
      "outputs": [
        {
          "output_type": "stream",
          "name": "stdout",
          "text": [
            "Cloning into 'previsao_remuneracao'...\n",
            "remote: Enumerating objects: 32065, done.\u001b[K\n",
            "remote: Counting objects: 100% (1351/1351), done.\u001b[K\n",
            "remote: Compressing objects: 100% (979/979), done.\u001b[K\n",
            "remote: Total 32065 (delta 340), reused 1330 (delta 333), pack-reused 30714\u001b[K\n",
            "Receiving objects: 100% (32065/32065), 432.41 MiB | 23.92 MiB/s, done.\n",
            "Resolving deltas: 100% (6882/6882), done.\n",
            "Updating files: 100% (32855/32855), done.\n"
          ]
        }
      ]
    },
    {
      "cell_type": "markdown",
      "source": [
        "## Instalação do PySpark"
      ],
      "metadata": {
        "id": "fi1BInSCsBo-"
      }
    },
    {
      "cell_type": "code",
      "source": [
        "# instalar as dependências\n",
        "!apt-get update -qq\n",
        "!apt-get install openjdk-8-jdk-headless -qq > /dev/null\n",
        "!wget -q https://archive.apache.org/dist/spark/spark-3.1.2/spark-3.1.2-bin-hadoop2.7.tgz\n",
        "!tar xf spark-3.1.2-bin-hadoop2.7.tgz\n",
        "!pip install -q findspark"
      ],
      "metadata": {
        "id": "4Gs-5LKuvWmE"
      },
      "execution_count": 4,
      "outputs": []
    },
    {
      "cell_type": "code",
      "source": [
        "import os\n",
        "os.environ[\"JAVA_HOME\"] = \"/usr/lib/jvm/java-8-openjdk-amd64\"\n",
        "os.environ[\"SPARK_HOME\"] = \"/content/spark-3.1.2-bin-hadoop2.7\""
      ],
      "metadata": {
        "id": "hcNNtLUzBVhk"
      },
      "execution_count": 5,
      "outputs": []
    },
    {
      "cell_type": "code",
      "source": [
        "import findspark\n",
        "findspark.init()"
      ],
      "metadata": {
        "id": "F4J3akfKBWjD"
      },
      "execution_count": 6,
      "outputs": []
    },
    {
      "cell_type": "markdown",
      "source": [
        "### [SparkSession](https://spark.apache.org/docs/latest/api/python/reference/api/pyspark.sql.SparkSession.html)\n",
        "\n",
        "O ponto de entrada para programar o Spark com a API Dataset e DataFrame.\n",
        "\n",
        "Uma SparkSession pode ser utilizada para criar DataFrames, registrar DataFrames como tabelas, executar consultas SQL em tabelas, armazenar em cache e ler arquivos parquet. Para criar uma SparkSession, use o seguinte padrão de construtor:"
      ],
      "metadata": {
        "id": "43dP4NVZOEI2"
      }
    },
    {
      "cell_type": "code",
      "source": [
        "from pyspark.sql import SparkSession\n",
        "\n",
        "spark = SparkSession.builder \\\n",
        "    .master('local[*]') \\\n",
        "    .appName(\"Tratamento dos dados de vagas do GD\") \\\n",
        "    .getOrCreate()\n",
        "\n",
        "spark"
      ],
      "metadata": {
        "id": "1_WixBVIvvB-",
        "colab": {
          "base_uri": "https://localhost:8080/",
          "height": 219
        },
        "outputId": "112be080-d96e-4aee-b8a3-8770d9481747"
      },
      "execution_count": 7,
      "outputs": [
        {
          "output_type": "execute_result",
          "data": {
            "text/plain": [
              "<pyspark.sql.session.SparkSession at 0x7f7c4928dcd0>"
            ],
            "text/html": [
              "\n",
              "            <div>\n",
              "                <p><b>SparkSession - in-memory</b></p>\n",
              "                \n",
              "        <div>\n",
              "            <p><b>SparkContext</b></p>\n",
              "\n",
              "            <p><a href=\"http://386ddd4f2c65:4040\">Spark UI</a></p>\n",
              "\n",
              "            <dl>\n",
              "              <dt>Version</dt>\n",
              "                <dd><code>v3.1.2</code></dd>\n",
              "              <dt>Master</dt>\n",
              "                <dd><code>local[*]</code></dd>\n",
              "              <dt>AppName</dt>\n",
              "                <dd><code>Tratamento dos dados de vagas do GD</code></dd>\n",
              "            </dl>\n",
              "        </div>\n",
              "        \n",
              "            </div>\n",
              "        "
            ]
          },
          "metadata": {},
          "execution_count": 7
        }
      ]
    },
    {
      "cell_type": "markdown",
      "source": [
        "## Carregamento dos Dados"
      ],
      "metadata": {
        "id": "BOQSXCsB-XJ4"
      }
    },
    {
      "cell_type": "markdown",
      "source": [
        "## Leitura do dataset"
      ],
      "metadata": {
        "id": "KoE6FUm9sZr2"
      }
    },
    {
      "cell_type": "code",
      "source": [
        "url_github = 'https://raw.githubusercontent.com/edinaldoab/previsao_remuneracao/master/notebook_scrapping/Data_Engineer_United_States.csv'"
      ],
      "metadata": {
        "id": "q0BGWZIYqKjC"
      },
      "execution_count": 8,
      "outputs": []
    },
    {
      "cell_type": "code",
      "source": [
        "from pyspark import SparkFiles\n",
        "\n",
        "spark.sparkContext.addFile(url_github)\n",
        "\n",
        "dados = spark.read.csv(SparkFiles.get('Data_Engineer_United_States.csv'), header=True, multiLine=True, escape='\"')"
      ],
      "metadata": {
        "id": "bItkwybT-BOG"
      },
      "execution_count": 9,
      "outputs": []
    },
    {
      "cell_type": "code",
      "source": [
        "dados.count()"
      ],
      "metadata": {
        "colab": {
          "base_uri": "https://localhost:8080/"
        },
        "id": "sAa89GYLHtP5",
        "outputId": "0ded71bc-bb10-4e6e-a42d-5ec49848a2a3"
      },
      "execution_count": 10,
      "outputs": [
        {
          "output_type": "execute_result",
          "data": {
            "text/plain": [
              "450"
            ]
          },
          "metadata": {},
          "execution_count": 10
        }
      ]
    },
    {
      "cell_type": "code",
      "source": [
        "dados.limit(5).toPandas()"
      ],
      "metadata": {
        "id": "DyXF17Oo-BCw",
        "colab": {
          "base_uri": "https://localhost:8080/",
          "height": 461
        },
        "outputId": "a233c789-e60a-4215-fe3a-ee19aba6bf80"
      },
      "execution_count": 11,
      "outputs": [
        {
          "output_type": "execute_result",
          "data": {
            "text/plain": [
              "               company              job title         location  \\\n",
              "0          DataPattern      Sr. Data Engineer  Los Angeles, CA   \n",
              "1    YT Global Network  Data Engineer- Remote           Remote   \n",
              "2         Wevision LLC          Data Engineer       Irvine, CA   \n",
              "3  kairos technologies          Data Engineer       Boston, MA   \n",
              "4       Konnectingtree          Data Engineer           Remote   \n",
              "\n",
              "                                     job description  \\\n",
              "0  Responsibilities\\n● Contribute to the design a...   \n",
              "1  Data Engineer- Remote\\nRole: Data and Analytic...   \n",
              "2  Job description\\nWe build services, data platf...   \n",
              "3  Job Title: Data Engineer with AWS – Hybrid\\nLo...   \n",
              "4  Greetings from KonnectingTree!\\nWe are looking...   \n",
              "\n",
              "             salary estimate         company_size       company_type  \\\n",
              "0   $65.00 - $75.00 Per hour    1 to 50 Employees   Company - Public   \n",
              "1  $90.00 - $120.00 Per hour              Unknown   Company - Public   \n",
              "2   $55.00 - $85.00 Per hour    1 to 50 Employees  Company - Private   \n",
              "3   $60.00 - $68.00 Per hour  51 to 200 Employees  Company - Private   \n",
              "4   $45.00 - $50.00 Per hour    1 to 50 Employees   Company - Public   \n",
              "\n",
              "           company_sector                         company_industry  \\\n",
              "0                    #N/A                                     #N/A   \n",
              "1                    #N/A                                     #N/A   \n",
              "2                    #N/A                                     #N/A   \n",
              "3  Information Technology  Information Technology Support Services   \n",
              "4                    #N/A                                     #N/A   \n",
              "\n",
              "  company_founded           company_revenue  \n",
              "0            #N/A  Unknown / Non-Applicable  \n",
              "1            #N/A  Unknown / Non-Applicable  \n",
              "2            #N/A  Unknown / Non-Applicable  \n",
              "3            2003   $5 to $25 million (USD)  \n",
              "4            #N/A  Unknown / Non-Applicable  "
            ],
            "text/html": [
              "\n",
              "  <div id=\"df-83ed749b-51b9-4a47-9a86-76a4e249df45\">\n",
              "    <div class=\"colab-df-container\">\n",
              "      <div>\n",
              "<style scoped>\n",
              "    .dataframe tbody tr th:only-of-type {\n",
              "        vertical-align: middle;\n",
              "    }\n",
              "\n",
              "    .dataframe tbody tr th {\n",
              "        vertical-align: top;\n",
              "    }\n",
              "\n",
              "    .dataframe thead th {\n",
              "        text-align: right;\n",
              "    }\n",
              "</style>\n",
              "<table border=\"1\" class=\"dataframe\">\n",
              "  <thead>\n",
              "    <tr style=\"text-align: right;\">\n",
              "      <th></th>\n",
              "      <th>company</th>\n",
              "      <th>job title</th>\n",
              "      <th>location</th>\n",
              "      <th>job description</th>\n",
              "      <th>salary estimate</th>\n",
              "      <th>company_size</th>\n",
              "      <th>company_type</th>\n",
              "      <th>company_sector</th>\n",
              "      <th>company_industry</th>\n",
              "      <th>company_founded</th>\n",
              "      <th>company_revenue</th>\n",
              "    </tr>\n",
              "  </thead>\n",
              "  <tbody>\n",
              "    <tr>\n",
              "      <th>0</th>\n",
              "      <td>DataPattern</td>\n",
              "      <td>Sr. Data Engineer</td>\n",
              "      <td>Los Angeles, CA</td>\n",
              "      <td>Responsibilities\\n● Contribute to the design a...</td>\n",
              "      <td>$65.00 - $75.00 Per hour</td>\n",
              "      <td>1 to 50 Employees</td>\n",
              "      <td>Company - Public</td>\n",
              "      <td>#N/A</td>\n",
              "      <td>#N/A</td>\n",
              "      <td>#N/A</td>\n",
              "      <td>Unknown / Non-Applicable</td>\n",
              "    </tr>\n",
              "    <tr>\n",
              "      <th>1</th>\n",
              "      <td>YT Global Network</td>\n",
              "      <td>Data Engineer- Remote</td>\n",
              "      <td>Remote</td>\n",
              "      <td>Data Engineer- Remote\\nRole: Data and Analytic...</td>\n",
              "      <td>$90.00 - $120.00 Per hour</td>\n",
              "      <td>Unknown</td>\n",
              "      <td>Company - Public</td>\n",
              "      <td>#N/A</td>\n",
              "      <td>#N/A</td>\n",
              "      <td>#N/A</td>\n",
              "      <td>Unknown / Non-Applicable</td>\n",
              "    </tr>\n",
              "    <tr>\n",
              "      <th>2</th>\n",
              "      <td>Wevision LLC</td>\n",
              "      <td>Data Engineer</td>\n",
              "      <td>Irvine, CA</td>\n",
              "      <td>Job description\\nWe build services, data platf...</td>\n",
              "      <td>$55.00 - $85.00 Per hour</td>\n",
              "      <td>1 to 50 Employees</td>\n",
              "      <td>Company - Private</td>\n",
              "      <td>#N/A</td>\n",
              "      <td>#N/A</td>\n",
              "      <td>#N/A</td>\n",
              "      <td>Unknown / Non-Applicable</td>\n",
              "    </tr>\n",
              "    <tr>\n",
              "      <th>3</th>\n",
              "      <td>kairos technologies</td>\n",
              "      <td>Data Engineer</td>\n",
              "      <td>Boston, MA</td>\n",
              "      <td>Job Title: Data Engineer with AWS – Hybrid\\nLo...</td>\n",
              "      <td>$60.00 - $68.00 Per hour</td>\n",
              "      <td>51 to 200 Employees</td>\n",
              "      <td>Company - Private</td>\n",
              "      <td>Information Technology</td>\n",
              "      <td>Information Technology Support Services</td>\n",
              "      <td>2003</td>\n",
              "      <td>$5 to $25 million (USD)</td>\n",
              "    </tr>\n",
              "    <tr>\n",
              "      <th>4</th>\n",
              "      <td>Konnectingtree</td>\n",
              "      <td>Data Engineer</td>\n",
              "      <td>Remote</td>\n",
              "      <td>Greetings from KonnectingTree!\\nWe are looking...</td>\n",
              "      <td>$45.00 - $50.00 Per hour</td>\n",
              "      <td>1 to 50 Employees</td>\n",
              "      <td>Company - Public</td>\n",
              "      <td>#N/A</td>\n",
              "      <td>#N/A</td>\n",
              "      <td>#N/A</td>\n",
              "      <td>Unknown / Non-Applicable</td>\n",
              "    </tr>\n",
              "  </tbody>\n",
              "</table>\n",
              "</div>\n",
              "      <button class=\"colab-df-convert\" onclick=\"convertToInteractive('df-83ed749b-51b9-4a47-9a86-76a4e249df45')\"\n",
              "              title=\"Convert this dataframe to an interactive table.\"\n",
              "              style=\"display:none;\">\n",
              "        \n",
              "  <svg xmlns=\"http://www.w3.org/2000/svg\" height=\"24px\"viewBox=\"0 0 24 24\"\n",
              "       width=\"24px\">\n",
              "    <path d=\"M0 0h24v24H0V0z\" fill=\"none\"/>\n",
              "    <path d=\"M18.56 5.44l.94 2.06.94-2.06 2.06-.94-2.06-.94-.94-2.06-.94 2.06-2.06.94zm-11 1L8.5 8.5l.94-2.06 2.06-.94-2.06-.94L8.5 2.5l-.94 2.06-2.06.94zm10 10l.94 2.06.94-2.06 2.06-.94-2.06-.94-.94-2.06-.94 2.06-2.06.94z\"/><path d=\"M17.41 7.96l-1.37-1.37c-.4-.4-.92-.59-1.43-.59-.52 0-1.04.2-1.43.59L10.3 9.45l-7.72 7.72c-.78.78-.78 2.05 0 2.83L4 21.41c.39.39.9.59 1.41.59.51 0 1.02-.2 1.41-.59l7.78-7.78 2.81-2.81c.8-.78.8-2.07 0-2.86zM5.41 20L4 18.59l7.72-7.72 1.47 1.35L5.41 20z\"/>\n",
              "  </svg>\n",
              "      </button>\n",
              "      \n",
              "  <style>\n",
              "    .colab-df-container {\n",
              "      display:flex;\n",
              "      flex-wrap:wrap;\n",
              "      gap: 12px;\n",
              "    }\n",
              "\n",
              "    .colab-df-convert {\n",
              "      background-color: #E8F0FE;\n",
              "      border: none;\n",
              "      border-radius: 50%;\n",
              "      cursor: pointer;\n",
              "      display: none;\n",
              "      fill: #1967D2;\n",
              "      height: 32px;\n",
              "      padding: 0 0 0 0;\n",
              "      width: 32px;\n",
              "    }\n",
              "\n",
              "    .colab-df-convert:hover {\n",
              "      background-color: #E2EBFA;\n",
              "      box-shadow: 0px 1px 2px rgba(60, 64, 67, 0.3), 0px 1px 3px 1px rgba(60, 64, 67, 0.15);\n",
              "      fill: #174EA6;\n",
              "    }\n",
              "\n",
              "    [theme=dark] .colab-df-convert {\n",
              "      background-color: #3B4455;\n",
              "      fill: #D2E3FC;\n",
              "    }\n",
              "\n",
              "    [theme=dark] .colab-df-convert:hover {\n",
              "      background-color: #434B5C;\n",
              "      box-shadow: 0px 1px 3px 1px rgba(0, 0, 0, 0.15);\n",
              "      filter: drop-shadow(0px 1px 2px rgba(0, 0, 0, 0.3));\n",
              "      fill: #FFFFFF;\n",
              "    }\n",
              "  </style>\n",
              "\n",
              "      <script>\n",
              "        const buttonEl =\n",
              "          document.querySelector('#df-83ed749b-51b9-4a47-9a86-76a4e249df45 button.colab-df-convert');\n",
              "        buttonEl.style.display =\n",
              "          google.colab.kernel.accessAllowed ? 'block' : 'none';\n",
              "\n",
              "        async function convertToInteractive(key) {\n",
              "          const element = document.querySelector('#df-83ed749b-51b9-4a47-9a86-76a4e249df45');\n",
              "          const dataTable =\n",
              "            await google.colab.kernel.invokeFunction('convertToInteractive',\n",
              "                                                     [key], {});\n",
              "          if (!dataTable) return;\n",
              "\n",
              "          const docLinkHtml = 'Like what you see? Visit the ' +\n",
              "            '<a target=\"_blank\" href=https://colab.research.google.com/notebooks/data_table.ipynb>data table notebook</a>'\n",
              "            + ' to learn more about interactive tables.';\n",
              "          element.innerHTML = '';\n",
              "          dataTable['output_type'] = 'display_data';\n",
              "          await google.colab.output.renderOutput(dataTable, element);\n",
              "          const docLink = document.createElement('div');\n",
              "          docLink.innerHTML = docLinkHtml;\n",
              "          element.appendChild(docLink);\n",
              "        }\n",
              "      </script>\n",
              "    </div>\n",
              "  </div>\n",
              "  "
            ]
          },
          "metadata": {},
          "execution_count": 11
        }
      ]
    },
    {
      "cell_type": "markdown",
      "source": [
        "## Análise e tratamento de Dados"
      ],
      "metadata": {
        "id": "FLn2a7ym7MLp"
      }
    },
    {
      "cell_type": "markdown",
      "source": [
        "Renomeando as colunas:"
      ],
      "metadata": {
        "id": "y2VQHWqyr2Xl"
      }
    },
    {
      "cell_type": "code",
      "source": [
        "from pyspark.sql.functions import col"
      ],
      "metadata": {
        "id": "YaHKkFYesGK4"
      },
      "execution_count": 12,
      "outputs": []
    },
    {
      "cell_type": "code",
      "source": [
        "dados = dados\\\n",
        "    .select(*[col(c).alias(c.replace(' ', '_')) for c in dados.columns])"
      ],
      "metadata": {
        "id": "s8Dpai0pr6xT"
      },
      "execution_count": 13,
      "outputs": []
    },
    {
      "cell_type": "code",
      "source": [
        "dados.show(3)"
      ],
      "metadata": {
        "colab": {
          "base_uri": "https://localhost:8080/"
        },
        "id": "A1BHxU_7siLE",
        "outputId": "33e533b7-423d-41b3-e5d6-f79a6393b387"
      },
      "execution_count": 14,
      "outputs": [
        {
          "output_type": "stream",
          "name": "stdout",
          "text": [
            "+-----------------+--------------------+---------------+--------------------+--------------------+-----------------+-----------------+--------------+----------------+---------------+--------------------+\n",
            "|          company|           job_title|       location|     job_description|     salary_estimate|     company_size|     company_type|company_sector|company_industry|company_founded|     company_revenue|\n",
            "+-----------------+--------------------+---------------+--------------------+--------------------+-----------------+-----------------+--------------+----------------+---------------+--------------------+\n",
            "|      DataPattern|   Sr. Data Engineer|Los Angeles, CA|Responsibilities\n",
            "...|$65.00 - $75.00 P...|1 to 50 Employees| Company - Public|          #N/A|            #N/A|           #N/A|Unknown / Non-App...|\n",
            "|YT Global Network|Data Engineer- Re...|         Remote|Data Engineer- Re...|$90.00 - $120.00 ...|          Unknown| Company - Public|          #N/A|            #N/A|           #N/A|Unknown / Non-App...|\n",
            "|     Wevision LLC|       Data Engineer|     Irvine, CA|Job description\n",
            "W...|$55.00 - $85.00 P...|1 to 50 Employees|Company - Private|          #N/A|            #N/A|           #N/A|Unknown / Non-App...|\n",
            "+-----------------+--------------------+---------------+--------------------+--------------------+-----------------+-----------------+--------------+----------------+---------------+--------------------+\n",
            "only showing top 3 rows\n",
            "\n"
          ]
        }
      ]
    },
    {
      "cell_type": "code",
      "source": [
        "dados.printSchema()"
      ],
      "metadata": {
        "id": "E_Hs2oXj9-pq",
        "colab": {
          "base_uri": "https://localhost:8080/"
        },
        "outputId": "02c297e9-2b84-4901-a954-fca9f67396c4"
      },
      "execution_count": 15,
      "outputs": [
        {
          "output_type": "stream",
          "name": "stdout",
          "text": [
            "root\n",
            " |-- company: string (nullable = true)\n",
            " |-- job_title: string (nullable = true)\n",
            " |-- location: string (nullable = true)\n",
            " |-- job_description: string (nullable = true)\n",
            " |-- salary_estimate: string (nullable = true)\n",
            " |-- company_size: string (nullable = true)\n",
            " |-- company_type: string (nullable = true)\n",
            " |-- company_sector: string (nullable = true)\n",
            " |-- company_industry: string (nullable = true)\n",
            " |-- company_founded: string (nullable = true)\n",
            " |-- company_revenue: string (nullable = true)\n",
            "\n"
          ]
        }
      ]
    },
    {
      "cell_type": "markdown",
      "source": [
        "### Análise e tratamento de `salary_estimate`:"
      ],
      "metadata": {
        "id": "z0fZHBRFEGRK"
      }
    },
    {
      "cell_type": "code",
      "source": [
        "from pyspark.sql.functions import desc"
      ],
      "metadata": {
        "id": "asXFFs6cvv9m"
      },
      "execution_count": 16,
      "outputs": []
    },
    {
      "cell_type": "code",
      "source": [
        "dados\\\n",
        "    .select('salary_estimate')\\\n",
        "    .groupBy('salary_estimate')\\\n",
        "    .count()\\\n",
        "    .sort(desc('count'))\\\n",
        "    .show(200, truncate=False)"
      ],
      "metadata": {
        "id": "LEAFs5UGwZWy",
        "colab": {
          "base_uri": "https://localhost:8080/"
        },
        "outputId": "86cdd9dc-7508-4475-c31c-f1d43a31a761"
      },
      "execution_count": 17,
      "outputs": [
        {
          "output_type": "stream",
          "name": "stdout",
          "text": [
            "+--------------------------+-----+\n",
            "|salary_estimate           |count|\n",
            "+--------------------------+-----+\n",
            "|$1L - $2L                 |52   |\n",
            "|#N/A                      |47   |\n",
            "|$65.00 - $75.00 Per hour  |20   |\n",
            "|$90T - $1L                |19   |\n",
            "|$85T - $1L                |15   |\n",
            "|$95T - $1L                |14   |\n",
            "|$42.96 - $60.84 Per hour  |13   |\n",
            "|$73T - $1L                |12   |\n",
            "|$86T - $1L                |12   |\n",
            "|$70.00 - $80.00 Per hour  |12   |\n",
            "|$1L - $1L                 |12   |\n",
            "|$83T - $1L                |11   |\n",
            "|$60.00 - $70.00 Per hour  |11   |\n",
            "|$88T - $1L                |11   |\n",
            "|$43.82 - $66.67 Per hour  |11   |\n",
            "|$2L - $2L                 |11   |\n",
            "|$60.00 - $65.00 Per hour  |10   |\n",
            "|$73.00 Per hour           |10   |\n",
            "|$65.00 Per hour           |9    |\n",
            "|$80.00 - $95.00 Per hour  |9    |\n",
            "|$55.00 - $60.00 Per hour  |8    |\n",
            "|$70.00 Per hour           |8    |\n",
            "|$60.00 Per hour           |7    |\n",
            "|$87T - $1L                |7    |\n",
            "|$70T - $75T               |7    |\n",
            "|$100.00 - $125.00 Per hour|6    |\n",
            "|$91T - $1L                |6    |\n",
            "|$90.00 - $120.00 Per hour |6    |\n",
            "|$50.00 - $70.00 Per hour  |5    |\n",
            "|$39.86 Per hour           |5    |\n",
            "|$89T - $1L                |4    |\n",
            "|$45.00 - $50.00 Per hour  |4    |\n",
            "|$2L - $3L                 |3    |\n",
            "|$2L                       |3    |\n",
            "|$75T - $1L                |3    |\n",
            "|$100.00 - $103.00 Per hour|3    |\n",
            "|$42.14 - $70.29 Per hour  |3    |\n",
            "|$80T - $1L                |3    |\n",
            "|$96T - $1L                |3    |\n",
            "|$65.00 - $70.00 Per hour  |2    |\n",
            "|$52.06 - $69.28 Per hour  |2    |\n",
            "|$90T - $2L                |2    |\n",
            "|$92T - $1L                |2    |\n",
            "|$55T - $60T               |2    |\n",
            "|$90.00 Per hour           |2    |\n",
            "|$72.00 - $80.00 Per hour  |2    |\n",
            "|$50.00 - $80.00 Per hour  |1    |\n",
            "|$69T - $1L                |1    |\n",
            "|$60.00 - $68.00 Per hour  |1    |\n",
            "|$82T - $1L                |1    |\n",
            "|$55.00 - $65.00 Per hour  |1    |\n",
            "|$55.00 - $85.00 Per hour  |1    |\n",
            "|$97T - $1L                |1    |\n",
            "|$60.00 - $80.00 Per hour  |1    |\n",
            "|$60.00 - $63.00 Per hour  |1    |\n",
            "|$59T - $88T               |1    |\n",
            "|$95T - $2L                |1    |\n",
            "|$56T                      |1    |\n",
            "|$1L                       |1    |\n",
            "|$100.00 - $120.00 Per hour|1    |\n",
            "|$54T - $72T               |1    |\n",
            "|$65.00 - $100.00 Per hour |1    |\n",
            "|$84T - $1L                |1    |\n",
            "|$1L - $3L                 |1    |\n",
            "|$39T - $58T               |1    |\n",
            "|$80T                      |1    |\n",
            "|$98T - $1L                |1    |\n",
            "+--------------------------+-----+\n",
            "\n"
          ]
        }
      ]
    },
    {
      "cell_type": "markdown",
      "source": [
        "Eliminando vagas sem informações de salários:"
      ],
      "metadata": {
        "id": "2FzPdSXWEMsy"
      }
    },
    {
      "cell_type": "code",
      "source": [
        "dados = dados.filter(dados['salary_estimate'] != '#N/A')"
      ],
      "metadata": {
        "id": "9XyGT4maEt45"
      },
      "execution_count": 18,
      "outputs": []
    },
    {
      "cell_type": "code",
      "source": [
        "dados.count()"
      ],
      "metadata": {
        "colab": {
          "base_uri": "https://localhost:8080/"
        },
        "id": "o2hH_EACHw9K",
        "outputId": "76f53f8b-9a56-4841-c1c4-3310549b1209"
      },
      "execution_count": 19,
      "outputs": [
        {
          "output_type": "execute_result",
          "data": {
            "text/plain": [
              "403"
            ]
          },
          "metadata": {},
          "execution_count": 19
        }
      ]
    },
    {
      "cell_type": "markdown",
      "source": [
        "Como pretende-se ter como produto uma **previsão de salário**, todos os tratamentos a seguir se dão com o objetivo de calcular uma média de estimativa, seguindo:\n",
        "\n",
        "1.   \"Explosão\" do intervalo `'salary_estimate'` para se obter mínimo e máximo possível\n",
        "2.   Limpeza dos caracteres de `$`\n",
        "3.   Multiplicação dos valores pelos fatores L e T (padrão indiano) quando existirem\n",
        "4.   Adequação dos valores `\"Per hour\"` para `\"Per year\"`\n",
        "5.   Cálculo da média simples entre os valores"
      ],
      "metadata": {
        "id": "j-7l8RqytYRf"
      }
    },
    {
      "cell_type": "code",
      "source": [
        "from pyspark.sql.functions import split, size"
      ],
      "metadata": {
        "id": "_0n6uJUsHNZl"
      },
      "execution_count": 20,
      "outputs": []
    },
    {
      "cell_type": "code",
      "source": [
        "dados\\\n",
        "    .withColumn('split_size', size(split(dados['salary_estimate'],' ')))\\\n",
        "    .select('split_size')\\\n",
        "    .groupBy('split_size')\\\n",
        "    .count()\\\n",
        "    .sort(desc('count'))\\\n",
        "    .show(100)"
      ],
      "metadata": {
        "id": "cE6CVC3OILeV",
        "colab": {
          "base_uri": "https://localhost:8080/"
        },
        "outputId": "e7a15872-0e9d-477b-bd5a-2e7a1494981b"
      },
      "execution_count": 21,
      "outputs": [
        {
          "output_type": "stream",
          "name": "stdout",
          "text": [
            "+----------+-----+\n",
            "|split_size|count|\n",
            "+----------+-----+\n",
            "|         3|  262|\n",
            "|         5|  135|\n",
            "|         1|    6|\n",
            "+----------+-----+\n",
            "\n"
          ]
        }
      ]
    },
    {
      "cell_type": "markdown",
      "source": [
        "Ao explodir o intervalo de salários, surgem duas possibilidades para os splits que geraram `split_size == 3`:\n",
        "\n",
        "> *   **Valor fixo**\n",
        "        Ex.: '$60 per hour' -> ['$60','per','hour']\n",
        "\n",
        "> Neste caso, opta-se em atribuir o mesmo valor mínimo ao valor máximo, para não se ter impacto no cálculo futuro do salário médio.\n",
        "\n",
        "> *   **com valor mínimo e com valor máximo**\n",
        "        Ex.: '$75T - $1L' -> ['$75T','-','$1L']"
      ],
      "metadata": {
        "id": "6_mRpkUe1jVH"
      }
    },
    {
      "cell_type": "code",
      "source": [
        "dados = dados\\\n",
        "    .select('*')\\\n",
        "    .withColumn('split_size', size(split(dados['salary_estimate'], ' ')))"
      ],
      "metadata": {
        "id": "B9GHUoBJcDcJ"
      },
      "execution_count": 22,
      "outputs": []
    },
    {
      "cell_type": "code",
      "source": [
        "dados.printSchema()"
      ],
      "metadata": {
        "colab": {
          "base_uri": "https://localhost:8080/"
        },
        "id": "M0wB6vpJvUJf",
        "outputId": "d19159a6-0520-426f-821c-b0f91696d2f4"
      },
      "execution_count": 23,
      "outputs": [
        {
          "output_type": "stream",
          "name": "stdout",
          "text": [
            "root\n",
            " |-- company: string (nullable = true)\n",
            " |-- job_title: string (nullable = true)\n",
            " |-- location: string (nullable = true)\n",
            " |-- job_description: string (nullable = true)\n",
            " |-- salary_estimate: string (nullable = true)\n",
            " |-- company_size: string (nullable = true)\n",
            " |-- company_type: string (nullable = true)\n",
            " |-- company_sector: string (nullable = true)\n",
            " |-- company_industry: string (nullable = true)\n",
            " |-- company_founded: string (nullable = true)\n",
            " |-- company_revenue: string (nullable = true)\n",
            " |-- split_size: integer (nullable = false)\n",
            "\n"
          ]
        }
      ]
    },
    {
      "cell_type": "code",
      "source": [
        "from pyspark.sql.functions import when, lit,concat"
      ],
      "metadata": {
        "id": "WQNnGEKIw8Lk"
      },
      "execution_count": 24,
      "outputs": []
    },
    {
      "cell_type": "code",
      "source": [
        "dados.withColumn('salary_estimate', \n",
        "                 when(dados['split_size'] == 1, \n",
        "                      concat(dados['salary_estimate'], lit(' - '), dados['salary_estimate'])\n",
        "                     ).otherwise(dados['salary_estimate'])\n",
        "                )\\\n",
        "                .filter(dados['split_size'] == 1)\\\n",
        "                .toPandas()"
      ],
      "metadata": {
        "colab": {
          "base_uri": "https://localhost:8080/",
          "height": 666
        },
        "id": "ct0V8VyhjpW4",
        "outputId": "972a9a87-363b-4df6-e90b-2cddc9bb2b92"
      },
      "execution_count": 25,
      "outputs": [
        {
          "output_type": "execute_result",
          "data": {
            "text/plain": [
              "             company                                        job_title  \\\n",
              "0        VirginPulse                                  Data Engineer I   \n",
              "1         FocuzMindz  AWS Data Architect/ Engineer with Redshift, RDS   \n",
              "2         FocuzMindz  AWS Data Architect/ Engineer with Redshift, RDS   \n",
              "3  Fiable Consulting                      Data and Knowledge Engineer   \n",
              "4       Talent Group                           Sr. Data Engineer- BHS   \n",
              "5         FocuzMindz  AWS Data Architect/ Engineer with Redshift, RDS   \n",
              "\n",
              "         location                                    job_description  \\\n",
              "0          Remote  Overview:\\nNow is the time to join us!\\nAt Vir...   \n",
              "1  Alexandria, VA  We are seeking an AWS Data Engineer to join ou...   \n",
              "2  Alexandria, VA  We are seeking an AWS Data Engineer to join ou...   \n",
              "3          Remote  REQUIRED\\nPython, Data Pipelines/ETL, Apache N...   \n",
              "4          Remote  Job Description :\\nMust have Behavioral Health...   \n",
              "5  Alexandria, VA  We are seeking an AWS Data Engineer to join ou...   \n",
              "\n",
              "  salary_estimate            company_size       company_type  \\\n",
              "0     $80T - $80T  1001 to 5000 Employees  Company - Private   \n",
              "1       $2L - $2L                    #N/A               #N/A   \n",
              "2       $2L - $2L                    #N/A               #N/A   \n",
              "3     $56T - $56T     51 to 200 Employees  Company - Private   \n",
              "4       $1L - $1L       1 to 50 Employees   Company - Public   \n",
              "5       $2L - $2L                    #N/A               #N/A   \n",
              "\n",
              "           company_sector                         company_industry  \\\n",
              "0  Information Technology            Computer Hardware Development   \n",
              "1                    #N/A                                     #N/A   \n",
              "2                    #N/A                                     #N/A   \n",
              "3  Information Technology  Information Technology Support Services   \n",
              "4   Media & Communication                          Broadcast Media   \n",
              "5                    #N/A                                     #N/A   \n",
              "\n",
              "  company_founded             company_revenue  split_size  \n",
              "0            2004    $25 to $50 million (USD)           1  \n",
              "1            #N/A                        #N/A           1  \n",
              "2            #N/A                        #N/A           1  \n",
              "3            2017    Unknown / Non-Applicable           1  \n",
              "4            #N/A  Less than $1 million (USD)           1  \n",
              "5            #N/A                        #N/A           1  "
            ],
            "text/html": [
              "\n",
              "  <div id=\"df-54b23e12-3c43-4ff1-916f-2edc99721bd3\">\n",
              "    <div class=\"colab-df-container\">\n",
              "      <div>\n",
              "<style scoped>\n",
              "    .dataframe tbody tr th:only-of-type {\n",
              "        vertical-align: middle;\n",
              "    }\n",
              "\n",
              "    .dataframe tbody tr th {\n",
              "        vertical-align: top;\n",
              "    }\n",
              "\n",
              "    .dataframe thead th {\n",
              "        text-align: right;\n",
              "    }\n",
              "</style>\n",
              "<table border=\"1\" class=\"dataframe\">\n",
              "  <thead>\n",
              "    <tr style=\"text-align: right;\">\n",
              "      <th></th>\n",
              "      <th>company</th>\n",
              "      <th>job_title</th>\n",
              "      <th>location</th>\n",
              "      <th>job_description</th>\n",
              "      <th>salary_estimate</th>\n",
              "      <th>company_size</th>\n",
              "      <th>company_type</th>\n",
              "      <th>company_sector</th>\n",
              "      <th>company_industry</th>\n",
              "      <th>company_founded</th>\n",
              "      <th>company_revenue</th>\n",
              "      <th>split_size</th>\n",
              "    </tr>\n",
              "  </thead>\n",
              "  <tbody>\n",
              "    <tr>\n",
              "      <th>0</th>\n",
              "      <td>VirginPulse</td>\n",
              "      <td>Data Engineer I</td>\n",
              "      <td>Remote</td>\n",
              "      <td>Overview:\\nNow is the time to join us!\\nAt Vir...</td>\n",
              "      <td>$80T - $80T</td>\n",
              "      <td>1001 to 5000 Employees</td>\n",
              "      <td>Company - Private</td>\n",
              "      <td>Information Technology</td>\n",
              "      <td>Computer Hardware Development</td>\n",
              "      <td>2004</td>\n",
              "      <td>$25 to $50 million (USD)</td>\n",
              "      <td>1</td>\n",
              "    </tr>\n",
              "    <tr>\n",
              "      <th>1</th>\n",
              "      <td>FocuzMindz</td>\n",
              "      <td>AWS Data Architect/ Engineer with Redshift, RDS</td>\n",
              "      <td>Alexandria, VA</td>\n",
              "      <td>We are seeking an AWS Data Engineer to join ou...</td>\n",
              "      <td>$2L - $2L</td>\n",
              "      <td>#N/A</td>\n",
              "      <td>#N/A</td>\n",
              "      <td>#N/A</td>\n",
              "      <td>#N/A</td>\n",
              "      <td>#N/A</td>\n",
              "      <td>#N/A</td>\n",
              "      <td>1</td>\n",
              "    </tr>\n",
              "    <tr>\n",
              "      <th>2</th>\n",
              "      <td>FocuzMindz</td>\n",
              "      <td>AWS Data Architect/ Engineer with Redshift, RDS</td>\n",
              "      <td>Alexandria, VA</td>\n",
              "      <td>We are seeking an AWS Data Engineer to join ou...</td>\n",
              "      <td>$2L - $2L</td>\n",
              "      <td>#N/A</td>\n",
              "      <td>#N/A</td>\n",
              "      <td>#N/A</td>\n",
              "      <td>#N/A</td>\n",
              "      <td>#N/A</td>\n",
              "      <td>#N/A</td>\n",
              "      <td>1</td>\n",
              "    </tr>\n",
              "    <tr>\n",
              "      <th>3</th>\n",
              "      <td>Fiable Consulting</td>\n",
              "      <td>Data and Knowledge Engineer</td>\n",
              "      <td>Remote</td>\n",
              "      <td>REQUIRED\\nPython, Data Pipelines/ETL, Apache N...</td>\n",
              "      <td>$56T - $56T</td>\n",
              "      <td>51 to 200 Employees</td>\n",
              "      <td>Company - Private</td>\n",
              "      <td>Information Technology</td>\n",
              "      <td>Information Technology Support Services</td>\n",
              "      <td>2017</td>\n",
              "      <td>Unknown / Non-Applicable</td>\n",
              "      <td>1</td>\n",
              "    </tr>\n",
              "    <tr>\n",
              "      <th>4</th>\n",
              "      <td>Talent Group</td>\n",
              "      <td>Sr. Data Engineer- BHS</td>\n",
              "      <td>Remote</td>\n",
              "      <td>Job Description :\\nMust have Behavioral Health...</td>\n",
              "      <td>$1L - $1L</td>\n",
              "      <td>1 to 50 Employees</td>\n",
              "      <td>Company - Public</td>\n",
              "      <td>Media &amp; Communication</td>\n",
              "      <td>Broadcast Media</td>\n",
              "      <td>#N/A</td>\n",
              "      <td>Less than $1 million (USD)</td>\n",
              "      <td>1</td>\n",
              "    </tr>\n",
              "    <tr>\n",
              "      <th>5</th>\n",
              "      <td>FocuzMindz</td>\n",
              "      <td>AWS Data Architect/ Engineer with Redshift, RDS</td>\n",
              "      <td>Alexandria, VA</td>\n",
              "      <td>We are seeking an AWS Data Engineer to join ou...</td>\n",
              "      <td>$2L - $2L</td>\n",
              "      <td>#N/A</td>\n",
              "      <td>#N/A</td>\n",
              "      <td>#N/A</td>\n",
              "      <td>#N/A</td>\n",
              "      <td>#N/A</td>\n",
              "      <td>#N/A</td>\n",
              "      <td>1</td>\n",
              "    </tr>\n",
              "  </tbody>\n",
              "</table>\n",
              "</div>\n",
              "      <button class=\"colab-df-convert\" onclick=\"convertToInteractive('df-54b23e12-3c43-4ff1-916f-2edc99721bd3')\"\n",
              "              title=\"Convert this dataframe to an interactive table.\"\n",
              "              style=\"display:none;\">\n",
              "        \n",
              "  <svg xmlns=\"http://www.w3.org/2000/svg\" height=\"24px\"viewBox=\"0 0 24 24\"\n",
              "       width=\"24px\">\n",
              "    <path d=\"M0 0h24v24H0V0z\" fill=\"none\"/>\n",
              "    <path d=\"M18.56 5.44l.94 2.06.94-2.06 2.06-.94-2.06-.94-.94-2.06-.94 2.06-2.06.94zm-11 1L8.5 8.5l.94-2.06 2.06-.94-2.06-.94L8.5 2.5l-.94 2.06-2.06.94zm10 10l.94 2.06.94-2.06 2.06-.94-2.06-.94-.94-2.06-.94 2.06-2.06.94z\"/><path d=\"M17.41 7.96l-1.37-1.37c-.4-.4-.92-.59-1.43-.59-.52 0-1.04.2-1.43.59L10.3 9.45l-7.72 7.72c-.78.78-.78 2.05 0 2.83L4 21.41c.39.39.9.59 1.41.59.51 0 1.02-.2 1.41-.59l7.78-7.78 2.81-2.81c.8-.78.8-2.07 0-2.86zM5.41 20L4 18.59l7.72-7.72 1.47 1.35L5.41 20z\"/>\n",
              "  </svg>\n",
              "      </button>\n",
              "      \n",
              "  <style>\n",
              "    .colab-df-container {\n",
              "      display:flex;\n",
              "      flex-wrap:wrap;\n",
              "      gap: 12px;\n",
              "    }\n",
              "\n",
              "    .colab-df-convert {\n",
              "      background-color: #E8F0FE;\n",
              "      border: none;\n",
              "      border-radius: 50%;\n",
              "      cursor: pointer;\n",
              "      display: none;\n",
              "      fill: #1967D2;\n",
              "      height: 32px;\n",
              "      padding: 0 0 0 0;\n",
              "      width: 32px;\n",
              "    }\n",
              "\n",
              "    .colab-df-convert:hover {\n",
              "      background-color: #E2EBFA;\n",
              "      box-shadow: 0px 1px 2px rgba(60, 64, 67, 0.3), 0px 1px 3px 1px rgba(60, 64, 67, 0.15);\n",
              "      fill: #174EA6;\n",
              "    }\n",
              "\n",
              "    [theme=dark] .colab-df-convert {\n",
              "      background-color: #3B4455;\n",
              "      fill: #D2E3FC;\n",
              "    }\n",
              "\n",
              "    [theme=dark] .colab-df-convert:hover {\n",
              "      background-color: #434B5C;\n",
              "      box-shadow: 0px 1px 3px 1px rgba(0, 0, 0, 0.15);\n",
              "      filter: drop-shadow(0px 1px 2px rgba(0, 0, 0, 0.3));\n",
              "      fill: #FFFFFF;\n",
              "    }\n",
              "  </style>\n",
              "\n",
              "      <script>\n",
              "        const buttonEl =\n",
              "          document.querySelector('#df-54b23e12-3c43-4ff1-916f-2edc99721bd3 button.colab-df-convert');\n",
              "        buttonEl.style.display =\n",
              "          google.colab.kernel.accessAllowed ? 'block' : 'none';\n",
              "\n",
              "        async function convertToInteractive(key) {\n",
              "          const element = document.querySelector('#df-54b23e12-3c43-4ff1-916f-2edc99721bd3');\n",
              "          const dataTable =\n",
              "            await google.colab.kernel.invokeFunction('convertToInteractive',\n",
              "                                                     [key], {});\n",
              "          if (!dataTable) return;\n",
              "\n",
              "          const docLinkHtml = 'Like what you see? Visit the ' +\n",
              "            '<a target=\"_blank\" href=https://colab.research.google.com/notebooks/data_table.ipynb>data table notebook</a>'\n",
              "            + ' to learn more about interactive tables.';\n",
              "          element.innerHTML = '';\n",
              "          dataTable['output_type'] = 'display_data';\n",
              "          await google.colab.output.renderOutput(dataTable, element);\n",
              "          const docLink = document.createElement('div');\n",
              "          docLink.innerHTML = docLinkHtml;\n",
              "          element.appendChild(docLink);\n",
              "        }\n",
              "      </script>\n",
              "    </div>\n",
              "  </div>\n",
              "  "
            ]
          },
          "metadata": {},
          "execution_count": 25
        }
      ]
    },
    {
      "cell_type": "code",
      "source": [
        "dados = dados.withColumn('salary_estimate', \n",
        "                 when(dados['split_size'] == 1, \n",
        "                      concat(dados['salary_estimate'], lit(' - '), dados['salary_estimate'])\n",
        "                     ).otherwise(dados['salary_estimate'])\n",
        "                )"
      ],
      "metadata": {
        "id": "3ctrnKomQ8Dg"
      },
      "execution_count": 26,
      "outputs": []
    },
    {
      "cell_type": "code",
      "source": [
        "dados\\\n",
        "    .withColumn('min_salary', split(dados['salary_estimate'], ' ')[0])\\\n",
        "    .withColumn('max_salary',\n",
        "                when(split(dados['salary_estimate'], ' ')[1] == 'Per', split(dados['salary_estimate'], ' ')[0])\\\n",
        "                .otherwise(split(dados['salary_estimate'], ' ')[2]))\\\n",
        "    .withColumn(\"multiplicador\", when(dados['salary_estimate'].contains('Per hour'), 'Per hour').otherwise('Per year'))\\\n",
        "    .select('salary_estimate', 'min_salary', 'max_salary')\\\n",
        "    .show()"
      ],
      "metadata": {
        "colab": {
          "base_uri": "https://localhost:8080/"
        },
        "id": "VJe7vBcjn2e1",
        "outputId": "8b575b4f-c0f9-4414-ccba-36d593ca22b9"
      },
      "execution_count": 27,
      "outputs": [
        {
          "output_type": "stream",
          "name": "stdout",
          "text": [
            "+--------------------+----------+----------+\n",
            "|     salary_estimate|min_salary|max_salary|\n",
            "+--------------------+----------+----------+\n",
            "|$65.00 - $75.00 P...|    $65.00|    $75.00|\n",
            "|$90.00 - $120.00 ...|    $90.00|   $120.00|\n",
            "|$55.00 - $85.00 P...|    $55.00|    $85.00|\n",
            "|$60.00 - $68.00 P...|    $60.00|    $68.00|\n",
            "|$45.00 - $50.00 P...|    $45.00|    $50.00|\n",
            "|           $1L - $2L|       $1L|       $2L|\n",
            "|$65.00 - $70.00 P...|    $65.00|    $70.00|\n",
            "|$65.00 - $75.00 P...|    $65.00|    $75.00|\n",
            "|$50.00 - $80.00 P...|    $50.00|    $80.00|\n",
            "|          $87T - $1L|      $87T|       $1L|\n",
            "|$60.00 - $65.00 P...|    $60.00|    $65.00|\n",
            "|     $73.00 Per hour|    $73.00|    $73.00|\n",
            "|          $75T - $1L|      $75T|       $1L|\n",
            "|$60.00 - $65.00 P...|    $60.00|    $65.00|\n",
            "|           $1L - $3L|       $1L|       $3L|\n",
            "|           $1L - $2L|       $1L|       $2L|\n",
            "|           $1L - $1L|       $1L|       $1L|\n",
            "|          $84T - $1L|      $84T|       $1L|\n",
            "|          $97T - $1L|      $97T|       $1L|\n",
            "|$55.00 - $65.00 P...|    $55.00|    $65.00|\n",
            "+--------------------+----------+----------+\n",
            "only showing top 20 rows\n",
            "\n"
          ]
        }
      ]
    },
    {
      "cell_type": "code",
      "source": [
        "dados = dados\\\n",
        "    .withColumn('min_salary', split(dados['salary_estimate'], ' ')[0])\\\n",
        "    .withColumn('max_salary',\n",
        "                when(split(dados['salary_estimate'], ' ')[1] == 'Per', split(dados['salary_estimate'], ' ')[0])\\\n",
        "                .otherwise(split(dados['salary_estimate'], ' ')[2]))\\\n",
        "    .withColumn(\"multiplicador\", when(dados['salary_estimate'].contains('Per hour'), 'Per hour').otherwise('Per year'))"
      ],
      "metadata": {
        "id": "GyUrOYrYPPCr"
      },
      "execution_count": 28,
      "outputs": []
    },
    {
      "cell_type": "code",
      "source": [
        "from pyspark.sql.functions import regexp_replace\n",
        "from pyspark.sql.types import DoubleType"
      ],
      "metadata": {
        "id": "M2Qx3VnFwLth"
      },
      "execution_count": 29,
      "outputs": []
    },
    {
      "cell_type": "markdown",
      "source": [
        "Limpando os caracteres `$`:"
      ],
      "metadata": {
        "id": "cgqhwynK2ab-"
      }
    },
    {
      "cell_type": "code",
      "source": [
        "dados = dados\\\n",
        "    .withColumn('min_salary_sem', regexp_replace(dados['min_salary'], '^\\$', ''))\\\n",
        "    .withColumn('max_salary_sem', regexp_replace(dados['max_salary'], '^\\$', ''))\\\n",
        "    .drop('min_salary')\\\n",
        "    .drop('max_salary')"
      ],
      "metadata": {
        "id": "lRP4joXQu6vx"
      },
      "execution_count": 30,
      "outputs": []
    },
    {
      "cell_type": "code",
      "source": [
        "dados.limit(5).toPandas()"
      ],
      "metadata": {
        "id": "hCiBvWCv2BLm",
        "colab": {
          "base_uri": "https://localhost:8080/",
          "height": 443
        },
        "outputId": "340f49f7-de29-41eb-8860-05aa8f04590f"
      },
      "execution_count": 31,
      "outputs": [
        {
          "output_type": "execute_result",
          "data": {
            "text/plain": [
              "               company              job_title         location  \\\n",
              "0          DataPattern      Sr. Data Engineer  Los Angeles, CA   \n",
              "1    YT Global Network  Data Engineer- Remote           Remote   \n",
              "2         Wevision LLC          Data Engineer       Irvine, CA   \n",
              "3  kairos technologies          Data Engineer       Boston, MA   \n",
              "4       Konnectingtree          Data Engineer           Remote   \n",
              "\n",
              "                                     job_description  \\\n",
              "0  Responsibilities\\n● Contribute to the design a...   \n",
              "1  Data Engineer- Remote\\nRole: Data and Analytic...   \n",
              "2  Job description\\nWe build services, data platf...   \n",
              "3  Job Title: Data Engineer with AWS – Hybrid\\nLo...   \n",
              "4  Greetings from KonnectingTree!\\nWe are looking...   \n",
              "\n",
              "             salary_estimate         company_size       company_type  \\\n",
              "0   $65.00 - $75.00 Per hour    1 to 50 Employees   Company - Public   \n",
              "1  $90.00 - $120.00 Per hour              Unknown   Company - Public   \n",
              "2   $55.00 - $85.00 Per hour    1 to 50 Employees  Company - Private   \n",
              "3   $60.00 - $68.00 Per hour  51 to 200 Employees  Company - Private   \n",
              "4   $45.00 - $50.00 Per hour    1 to 50 Employees   Company - Public   \n",
              "\n",
              "           company_sector                         company_industry  \\\n",
              "0                    #N/A                                     #N/A   \n",
              "1                    #N/A                                     #N/A   \n",
              "2                    #N/A                                     #N/A   \n",
              "3  Information Technology  Information Technology Support Services   \n",
              "4                    #N/A                                     #N/A   \n",
              "\n",
              "  company_founded           company_revenue  split_size multiplicador  \\\n",
              "0            #N/A  Unknown / Non-Applicable           5      Per hour   \n",
              "1            #N/A  Unknown / Non-Applicable           5      Per hour   \n",
              "2            #N/A  Unknown / Non-Applicable           5      Per hour   \n",
              "3            2003   $5 to $25 million (USD)           5      Per hour   \n",
              "4            #N/A  Unknown / Non-Applicable           5      Per hour   \n",
              "\n",
              "  min_salary_sem max_salary_sem  \n",
              "0          65.00          75.00  \n",
              "1          90.00         120.00  \n",
              "2          55.00          85.00  \n",
              "3          60.00          68.00  \n",
              "4          45.00          50.00  "
            ],
            "text/html": [
              "\n",
              "  <div id=\"df-3c701c6d-dcca-4428-94f0-508f9e6dc9dc\">\n",
              "    <div class=\"colab-df-container\">\n",
              "      <div>\n",
              "<style scoped>\n",
              "    .dataframe tbody tr th:only-of-type {\n",
              "        vertical-align: middle;\n",
              "    }\n",
              "\n",
              "    .dataframe tbody tr th {\n",
              "        vertical-align: top;\n",
              "    }\n",
              "\n",
              "    .dataframe thead th {\n",
              "        text-align: right;\n",
              "    }\n",
              "</style>\n",
              "<table border=\"1\" class=\"dataframe\">\n",
              "  <thead>\n",
              "    <tr style=\"text-align: right;\">\n",
              "      <th></th>\n",
              "      <th>company</th>\n",
              "      <th>job_title</th>\n",
              "      <th>location</th>\n",
              "      <th>job_description</th>\n",
              "      <th>salary_estimate</th>\n",
              "      <th>company_size</th>\n",
              "      <th>company_type</th>\n",
              "      <th>company_sector</th>\n",
              "      <th>company_industry</th>\n",
              "      <th>company_founded</th>\n",
              "      <th>company_revenue</th>\n",
              "      <th>split_size</th>\n",
              "      <th>multiplicador</th>\n",
              "      <th>min_salary_sem</th>\n",
              "      <th>max_salary_sem</th>\n",
              "    </tr>\n",
              "  </thead>\n",
              "  <tbody>\n",
              "    <tr>\n",
              "      <th>0</th>\n",
              "      <td>DataPattern</td>\n",
              "      <td>Sr. Data Engineer</td>\n",
              "      <td>Los Angeles, CA</td>\n",
              "      <td>Responsibilities\\n● Contribute to the design a...</td>\n",
              "      <td>$65.00 - $75.00 Per hour</td>\n",
              "      <td>1 to 50 Employees</td>\n",
              "      <td>Company - Public</td>\n",
              "      <td>#N/A</td>\n",
              "      <td>#N/A</td>\n",
              "      <td>#N/A</td>\n",
              "      <td>Unknown / Non-Applicable</td>\n",
              "      <td>5</td>\n",
              "      <td>Per hour</td>\n",
              "      <td>65.00</td>\n",
              "      <td>75.00</td>\n",
              "    </tr>\n",
              "    <tr>\n",
              "      <th>1</th>\n",
              "      <td>YT Global Network</td>\n",
              "      <td>Data Engineer- Remote</td>\n",
              "      <td>Remote</td>\n",
              "      <td>Data Engineer- Remote\\nRole: Data and Analytic...</td>\n",
              "      <td>$90.00 - $120.00 Per hour</td>\n",
              "      <td>Unknown</td>\n",
              "      <td>Company - Public</td>\n",
              "      <td>#N/A</td>\n",
              "      <td>#N/A</td>\n",
              "      <td>#N/A</td>\n",
              "      <td>Unknown / Non-Applicable</td>\n",
              "      <td>5</td>\n",
              "      <td>Per hour</td>\n",
              "      <td>90.00</td>\n",
              "      <td>120.00</td>\n",
              "    </tr>\n",
              "    <tr>\n",
              "      <th>2</th>\n",
              "      <td>Wevision LLC</td>\n",
              "      <td>Data Engineer</td>\n",
              "      <td>Irvine, CA</td>\n",
              "      <td>Job description\\nWe build services, data platf...</td>\n",
              "      <td>$55.00 - $85.00 Per hour</td>\n",
              "      <td>1 to 50 Employees</td>\n",
              "      <td>Company - Private</td>\n",
              "      <td>#N/A</td>\n",
              "      <td>#N/A</td>\n",
              "      <td>#N/A</td>\n",
              "      <td>Unknown / Non-Applicable</td>\n",
              "      <td>5</td>\n",
              "      <td>Per hour</td>\n",
              "      <td>55.00</td>\n",
              "      <td>85.00</td>\n",
              "    </tr>\n",
              "    <tr>\n",
              "      <th>3</th>\n",
              "      <td>kairos technologies</td>\n",
              "      <td>Data Engineer</td>\n",
              "      <td>Boston, MA</td>\n",
              "      <td>Job Title: Data Engineer with AWS – Hybrid\\nLo...</td>\n",
              "      <td>$60.00 - $68.00 Per hour</td>\n",
              "      <td>51 to 200 Employees</td>\n",
              "      <td>Company - Private</td>\n",
              "      <td>Information Technology</td>\n",
              "      <td>Information Technology Support Services</td>\n",
              "      <td>2003</td>\n",
              "      <td>$5 to $25 million (USD)</td>\n",
              "      <td>5</td>\n",
              "      <td>Per hour</td>\n",
              "      <td>60.00</td>\n",
              "      <td>68.00</td>\n",
              "    </tr>\n",
              "    <tr>\n",
              "      <th>4</th>\n",
              "      <td>Konnectingtree</td>\n",
              "      <td>Data Engineer</td>\n",
              "      <td>Remote</td>\n",
              "      <td>Greetings from KonnectingTree!\\nWe are looking...</td>\n",
              "      <td>$45.00 - $50.00 Per hour</td>\n",
              "      <td>1 to 50 Employees</td>\n",
              "      <td>Company - Public</td>\n",
              "      <td>#N/A</td>\n",
              "      <td>#N/A</td>\n",
              "      <td>#N/A</td>\n",
              "      <td>Unknown / Non-Applicable</td>\n",
              "      <td>5</td>\n",
              "      <td>Per hour</td>\n",
              "      <td>45.00</td>\n",
              "      <td>50.00</td>\n",
              "    </tr>\n",
              "  </tbody>\n",
              "</table>\n",
              "</div>\n",
              "      <button class=\"colab-df-convert\" onclick=\"convertToInteractive('df-3c701c6d-dcca-4428-94f0-508f9e6dc9dc')\"\n",
              "              title=\"Convert this dataframe to an interactive table.\"\n",
              "              style=\"display:none;\">\n",
              "        \n",
              "  <svg xmlns=\"http://www.w3.org/2000/svg\" height=\"24px\"viewBox=\"0 0 24 24\"\n",
              "       width=\"24px\">\n",
              "    <path d=\"M0 0h24v24H0V0z\" fill=\"none\"/>\n",
              "    <path d=\"M18.56 5.44l.94 2.06.94-2.06 2.06-.94-2.06-.94-.94-2.06-.94 2.06-2.06.94zm-11 1L8.5 8.5l.94-2.06 2.06-.94-2.06-.94L8.5 2.5l-.94 2.06-2.06.94zm10 10l.94 2.06.94-2.06 2.06-.94-2.06-.94-.94-2.06-.94 2.06-2.06.94z\"/><path d=\"M17.41 7.96l-1.37-1.37c-.4-.4-.92-.59-1.43-.59-.52 0-1.04.2-1.43.59L10.3 9.45l-7.72 7.72c-.78.78-.78 2.05 0 2.83L4 21.41c.39.39.9.59 1.41.59.51 0 1.02-.2 1.41-.59l7.78-7.78 2.81-2.81c.8-.78.8-2.07 0-2.86zM5.41 20L4 18.59l7.72-7.72 1.47 1.35L5.41 20z\"/>\n",
              "  </svg>\n",
              "      </button>\n",
              "      \n",
              "  <style>\n",
              "    .colab-df-container {\n",
              "      display:flex;\n",
              "      flex-wrap:wrap;\n",
              "      gap: 12px;\n",
              "    }\n",
              "\n",
              "    .colab-df-convert {\n",
              "      background-color: #E8F0FE;\n",
              "      border: none;\n",
              "      border-radius: 50%;\n",
              "      cursor: pointer;\n",
              "      display: none;\n",
              "      fill: #1967D2;\n",
              "      height: 32px;\n",
              "      padding: 0 0 0 0;\n",
              "      width: 32px;\n",
              "    }\n",
              "\n",
              "    .colab-df-convert:hover {\n",
              "      background-color: #E2EBFA;\n",
              "      box-shadow: 0px 1px 2px rgba(60, 64, 67, 0.3), 0px 1px 3px 1px rgba(60, 64, 67, 0.15);\n",
              "      fill: #174EA6;\n",
              "    }\n",
              "\n",
              "    [theme=dark] .colab-df-convert {\n",
              "      background-color: #3B4455;\n",
              "      fill: #D2E3FC;\n",
              "    }\n",
              "\n",
              "    [theme=dark] .colab-df-convert:hover {\n",
              "      background-color: #434B5C;\n",
              "      box-shadow: 0px 1px 3px 1px rgba(0, 0, 0, 0.15);\n",
              "      filter: drop-shadow(0px 1px 2px rgba(0, 0, 0, 0.3));\n",
              "      fill: #FFFFFF;\n",
              "    }\n",
              "  </style>\n",
              "\n",
              "      <script>\n",
              "        const buttonEl =\n",
              "          document.querySelector('#df-3c701c6d-dcca-4428-94f0-508f9e6dc9dc button.colab-df-convert');\n",
              "        buttonEl.style.display =\n",
              "          google.colab.kernel.accessAllowed ? 'block' : 'none';\n",
              "\n",
              "        async function convertToInteractive(key) {\n",
              "          const element = document.querySelector('#df-3c701c6d-dcca-4428-94f0-508f9e6dc9dc');\n",
              "          const dataTable =\n",
              "            await google.colab.kernel.invokeFunction('convertToInteractive',\n",
              "                                                     [key], {});\n",
              "          if (!dataTable) return;\n",
              "\n",
              "          const docLinkHtml = 'Like what you see? Visit the ' +\n",
              "            '<a target=\"_blank\" href=https://colab.research.google.com/notebooks/data_table.ipynb>data table notebook</a>'\n",
              "            + ' to learn more about interactive tables.';\n",
              "          element.innerHTML = '';\n",
              "          dataTable['output_type'] = 'display_data';\n",
              "          await google.colab.output.renderOutput(dataTable, element);\n",
              "          const docLink = document.createElement('div');\n",
              "          docLink.innerHTML = docLinkHtml;\n",
              "          element.appendChild(docLink);\n",
              "        }\n",
              "      </script>\n",
              "    </div>\n",
              "  </div>\n",
              "  "
            ]
          },
          "metadata": {},
          "execution_count": 31
        }
      ]
    },
    {
      "cell_type": "markdown",
      "source": [
        "Aplicando os multiplicadores $L = 10^{5}$ e $T=10^{3}$ nos salários:"
      ],
      "metadata": {
        "id": "69s8GVJWuCMY"
      }
    },
    {
      "cell_type": "code",
      "source": [
        "dados\\\n",
        "    .withColumn('min_salary',\n",
        "                when(dados['min_salary_sem'].contains('L'),\n",
        "                     regexp_replace(dados['min_salary_sem'], 'L', '').cast(DoubleType())*100000)\\\n",
        "                .otherwise(dados['min_salary_sem']))\\\n",
        "    .withColumn('max_salary',\n",
        "                when(dados['max_salary_sem'].contains('L'),\n",
        "                     regexp_replace(dados['max_salary_sem'], 'L', '').cast(DoubleType())*100000)\\\n",
        "                .otherwise(dados['max_salary_sem']))\\\n",
        "    .toPandas()"
      ],
      "metadata": {
        "id": "SkVkFKk13TX5",
        "colab": {
          "base_uri": "https://localhost:8080/",
          "height": 852
        },
        "outputId": "b0598ce9-8c83-4f9f-815f-67c47d2caf55"
      },
      "execution_count": 32,
      "outputs": [
        {
          "output_type": "execute_result",
          "data": {
            "text/plain": [
              "                  company                         job_title         location  \\\n",
              "0             DataPattern                 Sr. Data Engineer  Los Angeles, CA   \n",
              "1       YT Global Network             Data Engineer- Remote           Remote   \n",
              "2            Wevision LLC                     Data Engineer       Irvine, CA   \n",
              "3     kairos technologies                     Data Engineer       Boston, MA   \n",
              "4          Konnectingtree                     Data Engineer           Remote   \n",
              "..                    ...                               ...              ...   \n",
              "398        Konnectingtree                     Data Engineer           Remote   \n",
              "399            FlexIT Inc             Data Science Engineer    Beaverton, OR   \n",
              "400             Ascendion              Senior Data Engineer           Remote   \n",
              "401  Findability Sciences  Snowflake Data Engineer pipeline      Houston, TX   \n",
              "402           Edrstaffing              Python Data Engineer       Boston, MA   \n",
              "\n",
              "                                       job_description  \\\n",
              "0    Responsibilities\\n● Contribute to the design a...   \n",
              "1    Data Engineer- Remote\\nRole: Data and Analytic...   \n",
              "2    Job description\\nWe build services, data platf...   \n",
              "3    Job Title: Data Engineer with AWS – Hybrid\\nLo...   \n",
              "4    Greetings from KonnectingTree!\\nWe are looking...   \n",
              "..                                                 ...   \n",
              "398  Greetings from KonnectingTree!\\nWe are looking...   \n",
              "399  We are looking for strong experience in Python...   \n",
              "400  Responsibilities:\\n8+ years professional exper...   \n",
              "401  Snowflake data engineers will be responsible f...   \n",
              "402  Great opportunity to join a dynamic company on...   \n",
              "\n",
              "               salary_estimate            company_size       company_type  \\\n",
              "0     $65.00 - $75.00 Per hour       1 to 50 Employees   Company - Public   \n",
              "1    $90.00 - $120.00 Per hour                 Unknown   Company - Public   \n",
              "2     $55.00 - $85.00 Per hour       1 to 50 Employees  Company - Private   \n",
              "3     $60.00 - $68.00 Per hour     51 to 200 Employees  Company - Private   \n",
              "4     $45.00 - $50.00 Per hour       1 to 50 Employees   Company - Public   \n",
              "..                         ...                     ...                ...   \n",
              "398   $45.00 - $50.00 Per hour       1 to 50 Employees   Company - Public   \n",
              "399                 $83T - $1L       1 to 50 Employees  Company - Private   \n",
              "400   $60.00 - $70.00 Per hour  1001 to 5000 Employees  Company - Private   \n",
              "401   $42.14 - $70.29 Per hour                    #N/A               #N/A   \n",
              "402                 $90T - $2L                    #N/A               #N/A   \n",
              "\n",
              "             company_sector                         company_industry  \\\n",
              "0                      #N/A                                     #N/A   \n",
              "1                      #N/A                                     #N/A   \n",
              "2                      #N/A                                     #N/A   \n",
              "3    Information Technology  Information Technology Support Services   \n",
              "4                      #N/A                                     #N/A   \n",
              "..                      ...                                      ...   \n",
              "398                    #N/A                                     #N/A   \n",
              "399                    #N/A                                     #N/A   \n",
              "400  Information Technology                     Software Development   \n",
              "401                    #N/A                                     #N/A   \n",
              "402                    #N/A                                     #N/A   \n",
              "\n",
              "    company_founded           company_revenue  split_size multiplicador  \\\n",
              "0              #N/A  Unknown / Non-Applicable           5      Per hour   \n",
              "1              #N/A  Unknown / Non-Applicable           5      Per hour   \n",
              "2              #N/A  Unknown / Non-Applicable           5      Per hour   \n",
              "3              2003   $5 to $25 million (USD)           5      Per hour   \n",
              "4              #N/A  Unknown / Non-Applicable           5      Per hour   \n",
              "..              ...                       ...         ...           ...   \n",
              "398            #N/A  Unknown / Non-Applicable           5      Per hour   \n",
              "399            #N/A  Unknown / Non-Applicable           3      Per year   \n",
              "400            2022  Unknown / Non-Applicable           5      Per hour   \n",
              "401            #N/A                      #N/A           5      Per hour   \n",
              "402            #N/A                      #N/A           3      Per year   \n",
              "\n",
              "    min_salary_sem max_salary_sem min_salary max_salary  \n",
              "0            65.00          75.00      65.00      75.00  \n",
              "1            90.00         120.00      90.00     120.00  \n",
              "2            55.00          85.00      55.00      85.00  \n",
              "3            60.00          68.00      60.00      68.00  \n",
              "4            45.00          50.00      45.00      50.00  \n",
              "..             ...            ...        ...        ...  \n",
              "398          45.00          50.00      45.00      50.00  \n",
              "399            83T             1L        83T   100000.0  \n",
              "400          60.00          70.00      60.00      70.00  \n",
              "401          42.14          70.29      42.14      70.29  \n",
              "402            90T             2L        90T   200000.0  \n",
              "\n",
              "[403 rows x 17 columns]"
            ],
            "text/html": [
              "\n",
              "  <div id=\"df-19509586-fef2-4dd6-8d05-04a6f6bad1da\">\n",
              "    <div class=\"colab-df-container\">\n",
              "      <div>\n",
              "<style scoped>\n",
              "    .dataframe tbody tr th:only-of-type {\n",
              "        vertical-align: middle;\n",
              "    }\n",
              "\n",
              "    .dataframe tbody tr th {\n",
              "        vertical-align: top;\n",
              "    }\n",
              "\n",
              "    .dataframe thead th {\n",
              "        text-align: right;\n",
              "    }\n",
              "</style>\n",
              "<table border=\"1\" class=\"dataframe\">\n",
              "  <thead>\n",
              "    <tr style=\"text-align: right;\">\n",
              "      <th></th>\n",
              "      <th>company</th>\n",
              "      <th>job_title</th>\n",
              "      <th>location</th>\n",
              "      <th>job_description</th>\n",
              "      <th>salary_estimate</th>\n",
              "      <th>company_size</th>\n",
              "      <th>company_type</th>\n",
              "      <th>company_sector</th>\n",
              "      <th>company_industry</th>\n",
              "      <th>company_founded</th>\n",
              "      <th>company_revenue</th>\n",
              "      <th>split_size</th>\n",
              "      <th>multiplicador</th>\n",
              "      <th>min_salary_sem</th>\n",
              "      <th>max_salary_sem</th>\n",
              "      <th>min_salary</th>\n",
              "      <th>max_salary</th>\n",
              "    </tr>\n",
              "  </thead>\n",
              "  <tbody>\n",
              "    <tr>\n",
              "      <th>0</th>\n",
              "      <td>DataPattern</td>\n",
              "      <td>Sr. Data Engineer</td>\n",
              "      <td>Los Angeles, CA</td>\n",
              "      <td>Responsibilities\\n● Contribute to the design a...</td>\n",
              "      <td>$65.00 - $75.00 Per hour</td>\n",
              "      <td>1 to 50 Employees</td>\n",
              "      <td>Company - Public</td>\n",
              "      <td>#N/A</td>\n",
              "      <td>#N/A</td>\n",
              "      <td>#N/A</td>\n",
              "      <td>Unknown / Non-Applicable</td>\n",
              "      <td>5</td>\n",
              "      <td>Per hour</td>\n",
              "      <td>65.00</td>\n",
              "      <td>75.00</td>\n",
              "      <td>65.00</td>\n",
              "      <td>75.00</td>\n",
              "    </tr>\n",
              "    <tr>\n",
              "      <th>1</th>\n",
              "      <td>YT Global Network</td>\n",
              "      <td>Data Engineer- Remote</td>\n",
              "      <td>Remote</td>\n",
              "      <td>Data Engineer- Remote\\nRole: Data and Analytic...</td>\n",
              "      <td>$90.00 - $120.00 Per hour</td>\n",
              "      <td>Unknown</td>\n",
              "      <td>Company - Public</td>\n",
              "      <td>#N/A</td>\n",
              "      <td>#N/A</td>\n",
              "      <td>#N/A</td>\n",
              "      <td>Unknown / Non-Applicable</td>\n",
              "      <td>5</td>\n",
              "      <td>Per hour</td>\n",
              "      <td>90.00</td>\n",
              "      <td>120.00</td>\n",
              "      <td>90.00</td>\n",
              "      <td>120.00</td>\n",
              "    </tr>\n",
              "    <tr>\n",
              "      <th>2</th>\n",
              "      <td>Wevision LLC</td>\n",
              "      <td>Data Engineer</td>\n",
              "      <td>Irvine, CA</td>\n",
              "      <td>Job description\\nWe build services, data platf...</td>\n",
              "      <td>$55.00 - $85.00 Per hour</td>\n",
              "      <td>1 to 50 Employees</td>\n",
              "      <td>Company - Private</td>\n",
              "      <td>#N/A</td>\n",
              "      <td>#N/A</td>\n",
              "      <td>#N/A</td>\n",
              "      <td>Unknown / Non-Applicable</td>\n",
              "      <td>5</td>\n",
              "      <td>Per hour</td>\n",
              "      <td>55.00</td>\n",
              "      <td>85.00</td>\n",
              "      <td>55.00</td>\n",
              "      <td>85.00</td>\n",
              "    </tr>\n",
              "    <tr>\n",
              "      <th>3</th>\n",
              "      <td>kairos technologies</td>\n",
              "      <td>Data Engineer</td>\n",
              "      <td>Boston, MA</td>\n",
              "      <td>Job Title: Data Engineer with AWS – Hybrid\\nLo...</td>\n",
              "      <td>$60.00 - $68.00 Per hour</td>\n",
              "      <td>51 to 200 Employees</td>\n",
              "      <td>Company - Private</td>\n",
              "      <td>Information Technology</td>\n",
              "      <td>Information Technology Support Services</td>\n",
              "      <td>2003</td>\n",
              "      <td>$5 to $25 million (USD)</td>\n",
              "      <td>5</td>\n",
              "      <td>Per hour</td>\n",
              "      <td>60.00</td>\n",
              "      <td>68.00</td>\n",
              "      <td>60.00</td>\n",
              "      <td>68.00</td>\n",
              "    </tr>\n",
              "    <tr>\n",
              "      <th>4</th>\n",
              "      <td>Konnectingtree</td>\n",
              "      <td>Data Engineer</td>\n",
              "      <td>Remote</td>\n",
              "      <td>Greetings from KonnectingTree!\\nWe are looking...</td>\n",
              "      <td>$45.00 - $50.00 Per hour</td>\n",
              "      <td>1 to 50 Employees</td>\n",
              "      <td>Company - Public</td>\n",
              "      <td>#N/A</td>\n",
              "      <td>#N/A</td>\n",
              "      <td>#N/A</td>\n",
              "      <td>Unknown / Non-Applicable</td>\n",
              "      <td>5</td>\n",
              "      <td>Per hour</td>\n",
              "      <td>45.00</td>\n",
              "      <td>50.00</td>\n",
              "      <td>45.00</td>\n",
              "      <td>50.00</td>\n",
              "    </tr>\n",
              "    <tr>\n",
              "      <th>...</th>\n",
              "      <td>...</td>\n",
              "      <td>...</td>\n",
              "      <td>...</td>\n",
              "      <td>...</td>\n",
              "      <td>...</td>\n",
              "      <td>...</td>\n",
              "      <td>...</td>\n",
              "      <td>...</td>\n",
              "      <td>...</td>\n",
              "      <td>...</td>\n",
              "      <td>...</td>\n",
              "      <td>...</td>\n",
              "      <td>...</td>\n",
              "      <td>...</td>\n",
              "      <td>...</td>\n",
              "      <td>...</td>\n",
              "      <td>...</td>\n",
              "    </tr>\n",
              "    <tr>\n",
              "      <th>398</th>\n",
              "      <td>Konnectingtree</td>\n",
              "      <td>Data Engineer</td>\n",
              "      <td>Remote</td>\n",
              "      <td>Greetings from KonnectingTree!\\nWe are looking...</td>\n",
              "      <td>$45.00 - $50.00 Per hour</td>\n",
              "      <td>1 to 50 Employees</td>\n",
              "      <td>Company - Public</td>\n",
              "      <td>#N/A</td>\n",
              "      <td>#N/A</td>\n",
              "      <td>#N/A</td>\n",
              "      <td>Unknown / Non-Applicable</td>\n",
              "      <td>5</td>\n",
              "      <td>Per hour</td>\n",
              "      <td>45.00</td>\n",
              "      <td>50.00</td>\n",
              "      <td>45.00</td>\n",
              "      <td>50.00</td>\n",
              "    </tr>\n",
              "    <tr>\n",
              "      <th>399</th>\n",
              "      <td>FlexIT Inc</td>\n",
              "      <td>Data Science Engineer</td>\n",
              "      <td>Beaverton, OR</td>\n",
              "      <td>We are looking for strong experience in Python...</td>\n",
              "      <td>$83T - $1L</td>\n",
              "      <td>1 to 50 Employees</td>\n",
              "      <td>Company - Private</td>\n",
              "      <td>#N/A</td>\n",
              "      <td>#N/A</td>\n",
              "      <td>#N/A</td>\n",
              "      <td>Unknown / Non-Applicable</td>\n",
              "      <td>3</td>\n",
              "      <td>Per year</td>\n",
              "      <td>83T</td>\n",
              "      <td>1L</td>\n",
              "      <td>83T</td>\n",
              "      <td>100000.0</td>\n",
              "    </tr>\n",
              "    <tr>\n",
              "      <th>400</th>\n",
              "      <td>Ascendion</td>\n",
              "      <td>Senior Data Engineer</td>\n",
              "      <td>Remote</td>\n",
              "      <td>Responsibilities:\\n8+ years professional exper...</td>\n",
              "      <td>$60.00 - $70.00 Per hour</td>\n",
              "      <td>1001 to 5000 Employees</td>\n",
              "      <td>Company - Private</td>\n",
              "      <td>Information Technology</td>\n",
              "      <td>Software Development</td>\n",
              "      <td>2022</td>\n",
              "      <td>Unknown / Non-Applicable</td>\n",
              "      <td>5</td>\n",
              "      <td>Per hour</td>\n",
              "      <td>60.00</td>\n",
              "      <td>70.00</td>\n",
              "      <td>60.00</td>\n",
              "      <td>70.00</td>\n",
              "    </tr>\n",
              "    <tr>\n",
              "      <th>401</th>\n",
              "      <td>Findability Sciences</td>\n",
              "      <td>Snowflake Data Engineer pipeline</td>\n",
              "      <td>Houston, TX</td>\n",
              "      <td>Snowflake data engineers will be responsible f...</td>\n",
              "      <td>$42.14 - $70.29 Per hour</td>\n",
              "      <td>#N/A</td>\n",
              "      <td>#N/A</td>\n",
              "      <td>#N/A</td>\n",
              "      <td>#N/A</td>\n",
              "      <td>#N/A</td>\n",
              "      <td>#N/A</td>\n",
              "      <td>5</td>\n",
              "      <td>Per hour</td>\n",
              "      <td>42.14</td>\n",
              "      <td>70.29</td>\n",
              "      <td>42.14</td>\n",
              "      <td>70.29</td>\n",
              "    </tr>\n",
              "    <tr>\n",
              "      <th>402</th>\n",
              "      <td>Edrstaffing</td>\n",
              "      <td>Python Data Engineer</td>\n",
              "      <td>Boston, MA</td>\n",
              "      <td>Great opportunity to join a dynamic company on...</td>\n",
              "      <td>$90T - $2L</td>\n",
              "      <td>#N/A</td>\n",
              "      <td>#N/A</td>\n",
              "      <td>#N/A</td>\n",
              "      <td>#N/A</td>\n",
              "      <td>#N/A</td>\n",
              "      <td>#N/A</td>\n",
              "      <td>3</td>\n",
              "      <td>Per year</td>\n",
              "      <td>90T</td>\n",
              "      <td>2L</td>\n",
              "      <td>90T</td>\n",
              "      <td>200000.0</td>\n",
              "    </tr>\n",
              "  </tbody>\n",
              "</table>\n",
              "<p>403 rows × 17 columns</p>\n",
              "</div>\n",
              "      <button class=\"colab-df-convert\" onclick=\"convertToInteractive('df-19509586-fef2-4dd6-8d05-04a6f6bad1da')\"\n",
              "              title=\"Convert this dataframe to an interactive table.\"\n",
              "              style=\"display:none;\">\n",
              "        \n",
              "  <svg xmlns=\"http://www.w3.org/2000/svg\" height=\"24px\"viewBox=\"0 0 24 24\"\n",
              "       width=\"24px\">\n",
              "    <path d=\"M0 0h24v24H0V0z\" fill=\"none\"/>\n",
              "    <path d=\"M18.56 5.44l.94 2.06.94-2.06 2.06-.94-2.06-.94-.94-2.06-.94 2.06-2.06.94zm-11 1L8.5 8.5l.94-2.06 2.06-.94-2.06-.94L8.5 2.5l-.94 2.06-2.06.94zm10 10l.94 2.06.94-2.06 2.06-.94-2.06-.94-.94-2.06-.94 2.06-2.06.94z\"/><path d=\"M17.41 7.96l-1.37-1.37c-.4-.4-.92-.59-1.43-.59-.52 0-1.04.2-1.43.59L10.3 9.45l-7.72 7.72c-.78.78-.78 2.05 0 2.83L4 21.41c.39.39.9.59 1.41.59.51 0 1.02-.2 1.41-.59l7.78-7.78 2.81-2.81c.8-.78.8-2.07 0-2.86zM5.41 20L4 18.59l7.72-7.72 1.47 1.35L5.41 20z\"/>\n",
              "  </svg>\n",
              "      </button>\n",
              "      \n",
              "  <style>\n",
              "    .colab-df-container {\n",
              "      display:flex;\n",
              "      flex-wrap:wrap;\n",
              "      gap: 12px;\n",
              "    }\n",
              "\n",
              "    .colab-df-convert {\n",
              "      background-color: #E8F0FE;\n",
              "      border: none;\n",
              "      border-radius: 50%;\n",
              "      cursor: pointer;\n",
              "      display: none;\n",
              "      fill: #1967D2;\n",
              "      height: 32px;\n",
              "      padding: 0 0 0 0;\n",
              "      width: 32px;\n",
              "    }\n",
              "\n",
              "    .colab-df-convert:hover {\n",
              "      background-color: #E2EBFA;\n",
              "      box-shadow: 0px 1px 2px rgba(60, 64, 67, 0.3), 0px 1px 3px 1px rgba(60, 64, 67, 0.15);\n",
              "      fill: #174EA6;\n",
              "    }\n",
              "\n",
              "    [theme=dark] .colab-df-convert {\n",
              "      background-color: #3B4455;\n",
              "      fill: #D2E3FC;\n",
              "    }\n",
              "\n",
              "    [theme=dark] .colab-df-convert:hover {\n",
              "      background-color: #434B5C;\n",
              "      box-shadow: 0px 1px 3px 1px rgba(0, 0, 0, 0.15);\n",
              "      filter: drop-shadow(0px 1px 2px rgba(0, 0, 0, 0.3));\n",
              "      fill: #FFFFFF;\n",
              "    }\n",
              "  </style>\n",
              "\n",
              "      <script>\n",
              "        const buttonEl =\n",
              "          document.querySelector('#df-19509586-fef2-4dd6-8d05-04a6f6bad1da button.colab-df-convert');\n",
              "        buttonEl.style.display =\n",
              "          google.colab.kernel.accessAllowed ? 'block' : 'none';\n",
              "\n",
              "        async function convertToInteractive(key) {\n",
              "          const element = document.querySelector('#df-19509586-fef2-4dd6-8d05-04a6f6bad1da');\n",
              "          const dataTable =\n",
              "            await google.colab.kernel.invokeFunction('convertToInteractive',\n",
              "                                                     [key], {});\n",
              "          if (!dataTable) return;\n",
              "\n",
              "          const docLinkHtml = 'Like what you see? Visit the ' +\n",
              "            '<a target=\"_blank\" href=https://colab.research.google.com/notebooks/data_table.ipynb>data table notebook</a>'\n",
              "            + ' to learn more about interactive tables.';\n",
              "          element.innerHTML = '';\n",
              "          dataTable['output_type'] = 'display_data';\n",
              "          await google.colab.output.renderOutput(dataTable, element);\n",
              "          const docLink = document.createElement('div');\n",
              "          docLink.innerHTML = docLinkHtml;\n",
              "          element.appendChild(docLink);\n",
              "        }\n",
              "      </script>\n",
              "    </div>\n",
              "  </div>\n",
              "  "
            ]
          },
          "metadata": {},
          "execution_count": 32
        }
      ]
    },
    {
      "cell_type": "code",
      "source": [
        "dados = dados\\\n",
        "    .withColumn('min_salary',\n",
        "                when(dados['min_salary_sem'].contains('L'),\n",
        "                     regexp_replace(dados['min_salary_sem'], 'L', '').cast(DoubleType())*100000)\\\n",
        "                .otherwise(dados['min_salary_sem']))\\\n",
        "    .withColumn('max_salary',\n",
        "                when(dados['max_salary_sem'].contains('L'),\n",
        "                     regexp_replace(dados['max_salary_sem'], 'L', '').cast(DoubleType())*100000)\\\n",
        "                .otherwise(dados['max_salary_sem']))\\\n",
        "    .drop('min_salary_sem')"
      ],
      "metadata": {
        "id": "AHp4BN6v7Jt4"
      },
      "execution_count": 33,
      "outputs": []
    },
    {
      "cell_type": "code",
      "source": [
        "dados = dados\\\n",
        "    .drop('max_salary_sem')\\\n",
        "    .drop('min_salary_sem')\\\n",
        "    .drop('split_size')"
      ],
      "metadata": {
        "id": "GvQLM0vz8AVb"
      },
      "execution_count": 34,
      "outputs": []
    },
    {
      "cell_type": "code",
      "source": [
        "dados = dados\\\n",
        "    .withColumn('min_salary_double',\n",
        "                when(dados['min_salary'].contains('T'),\n",
        "                     regexp_replace(dados['min_salary'], 'T', '').cast(DoubleType())*1000)\\\n",
        "                .otherwise(dados['min_salary']))\\\n",
        "    .withColumn('max_salary_double',\n",
        "                when(dados['max_salary'].contains('T'),\n",
        "                     regexp_replace(dados['max_salary'], 'T', '').cast(DoubleType())*1000)\\\n",
        "                .otherwise(dados['max_salary']))"
      ],
      "metadata": {
        "id": "Ssb__TYZ6yXY"
      },
      "execution_count": 35,
      "outputs": []
    },
    {
      "cell_type": "code",
      "source": [
        "dados.limit(5).toPandas()"
      ],
      "metadata": {
        "id": "SgplLKrTBu7x",
        "colab": {
          "base_uri": "https://localhost:8080/",
          "height": 443
        },
        "outputId": "a60bd493-d6df-48b9-b311-81a45e0c68e7"
      },
      "execution_count": 36,
      "outputs": [
        {
          "output_type": "execute_result",
          "data": {
            "text/plain": [
              "               company              job_title         location  \\\n",
              "0          DataPattern      Sr. Data Engineer  Los Angeles, CA   \n",
              "1    YT Global Network  Data Engineer- Remote           Remote   \n",
              "2         Wevision LLC          Data Engineer       Irvine, CA   \n",
              "3  kairos technologies          Data Engineer       Boston, MA   \n",
              "4       Konnectingtree          Data Engineer           Remote   \n",
              "\n",
              "                                     job_description  \\\n",
              "0  Responsibilities\\n● Contribute to the design a...   \n",
              "1  Data Engineer- Remote\\nRole: Data and Analytic...   \n",
              "2  Job description\\nWe build services, data platf...   \n",
              "3  Job Title: Data Engineer with AWS – Hybrid\\nLo...   \n",
              "4  Greetings from KonnectingTree!\\nWe are looking...   \n",
              "\n",
              "             salary_estimate         company_size       company_type  \\\n",
              "0   $65.00 - $75.00 Per hour    1 to 50 Employees   Company - Public   \n",
              "1  $90.00 - $120.00 Per hour              Unknown   Company - Public   \n",
              "2   $55.00 - $85.00 Per hour    1 to 50 Employees  Company - Private   \n",
              "3   $60.00 - $68.00 Per hour  51 to 200 Employees  Company - Private   \n",
              "4   $45.00 - $50.00 Per hour    1 to 50 Employees   Company - Public   \n",
              "\n",
              "           company_sector                         company_industry  \\\n",
              "0                    #N/A                                     #N/A   \n",
              "1                    #N/A                                     #N/A   \n",
              "2                    #N/A                                     #N/A   \n",
              "3  Information Technology  Information Technology Support Services   \n",
              "4                    #N/A                                     #N/A   \n",
              "\n",
              "  company_founded           company_revenue multiplicador min_salary  \\\n",
              "0            #N/A  Unknown / Non-Applicable      Per hour      65.00   \n",
              "1            #N/A  Unknown / Non-Applicable      Per hour      90.00   \n",
              "2            #N/A  Unknown / Non-Applicable      Per hour      55.00   \n",
              "3            2003   $5 to $25 million (USD)      Per hour      60.00   \n",
              "4            #N/A  Unknown / Non-Applicable      Per hour      45.00   \n",
              "\n",
              "  max_salary min_salary_double max_salary_double  \n",
              "0      75.00             65.00             75.00  \n",
              "1     120.00             90.00            120.00  \n",
              "2      85.00             55.00             85.00  \n",
              "3      68.00             60.00             68.00  \n",
              "4      50.00             45.00             50.00  "
            ],
            "text/html": [
              "\n",
              "  <div id=\"df-d76c901f-8f86-4067-a084-78ca34440450\">\n",
              "    <div class=\"colab-df-container\">\n",
              "      <div>\n",
              "<style scoped>\n",
              "    .dataframe tbody tr th:only-of-type {\n",
              "        vertical-align: middle;\n",
              "    }\n",
              "\n",
              "    .dataframe tbody tr th {\n",
              "        vertical-align: top;\n",
              "    }\n",
              "\n",
              "    .dataframe thead th {\n",
              "        text-align: right;\n",
              "    }\n",
              "</style>\n",
              "<table border=\"1\" class=\"dataframe\">\n",
              "  <thead>\n",
              "    <tr style=\"text-align: right;\">\n",
              "      <th></th>\n",
              "      <th>company</th>\n",
              "      <th>job_title</th>\n",
              "      <th>location</th>\n",
              "      <th>job_description</th>\n",
              "      <th>salary_estimate</th>\n",
              "      <th>company_size</th>\n",
              "      <th>company_type</th>\n",
              "      <th>company_sector</th>\n",
              "      <th>company_industry</th>\n",
              "      <th>company_founded</th>\n",
              "      <th>company_revenue</th>\n",
              "      <th>multiplicador</th>\n",
              "      <th>min_salary</th>\n",
              "      <th>max_salary</th>\n",
              "      <th>min_salary_double</th>\n",
              "      <th>max_salary_double</th>\n",
              "    </tr>\n",
              "  </thead>\n",
              "  <tbody>\n",
              "    <tr>\n",
              "      <th>0</th>\n",
              "      <td>DataPattern</td>\n",
              "      <td>Sr. Data Engineer</td>\n",
              "      <td>Los Angeles, CA</td>\n",
              "      <td>Responsibilities\\n● Contribute to the design a...</td>\n",
              "      <td>$65.00 - $75.00 Per hour</td>\n",
              "      <td>1 to 50 Employees</td>\n",
              "      <td>Company - Public</td>\n",
              "      <td>#N/A</td>\n",
              "      <td>#N/A</td>\n",
              "      <td>#N/A</td>\n",
              "      <td>Unknown / Non-Applicable</td>\n",
              "      <td>Per hour</td>\n",
              "      <td>65.00</td>\n",
              "      <td>75.00</td>\n",
              "      <td>65.00</td>\n",
              "      <td>75.00</td>\n",
              "    </tr>\n",
              "    <tr>\n",
              "      <th>1</th>\n",
              "      <td>YT Global Network</td>\n",
              "      <td>Data Engineer- Remote</td>\n",
              "      <td>Remote</td>\n",
              "      <td>Data Engineer- Remote\\nRole: Data and Analytic...</td>\n",
              "      <td>$90.00 - $120.00 Per hour</td>\n",
              "      <td>Unknown</td>\n",
              "      <td>Company - Public</td>\n",
              "      <td>#N/A</td>\n",
              "      <td>#N/A</td>\n",
              "      <td>#N/A</td>\n",
              "      <td>Unknown / Non-Applicable</td>\n",
              "      <td>Per hour</td>\n",
              "      <td>90.00</td>\n",
              "      <td>120.00</td>\n",
              "      <td>90.00</td>\n",
              "      <td>120.00</td>\n",
              "    </tr>\n",
              "    <tr>\n",
              "      <th>2</th>\n",
              "      <td>Wevision LLC</td>\n",
              "      <td>Data Engineer</td>\n",
              "      <td>Irvine, CA</td>\n",
              "      <td>Job description\\nWe build services, data platf...</td>\n",
              "      <td>$55.00 - $85.00 Per hour</td>\n",
              "      <td>1 to 50 Employees</td>\n",
              "      <td>Company - Private</td>\n",
              "      <td>#N/A</td>\n",
              "      <td>#N/A</td>\n",
              "      <td>#N/A</td>\n",
              "      <td>Unknown / Non-Applicable</td>\n",
              "      <td>Per hour</td>\n",
              "      <td>55.00</td>\n",
              "      <td>85.00</td>\n",
              "      <td>55.00</td>\n",
              "      <td>85.00</td>\n",
              "    </tr>\n",
              "    <tr>\n",
              "      <th>3</th>\n",
              "      <td>kairos technologies</td>\n",
              "      <td>Data Engineer</td>\n",
              "      <td>Boston, MA</td>\n",
              "      <td>Job Title: Data Engineer with AWS – Hybrid\\nLo...</td>\n",
              "      <td>$60.00 - $68.00 Per hour</td>\n",
              "      <td>51 to 200 Employees</td>\n",
              "      <td>Company - Private</td>\n",
              "      <td>Information Technology</td>\n",
              "      <td>Information Technology Support Services</td>\n",
              "      <td>2003</td>\n",
              "      <td>$5 to $25 million (USD)</td>\n",
              "      <td>Per hour</td>\n",
              "      <td>60.00</td>\n",
              "      <td>68.00</td>\n",
              "      <td>60.00</td>\n",
              "      <td>68.00</td>\n",
              "    </tr>\n",
              "    <tr>\n",
              "      <th>4</th>\n",
              "      <td>Konnectingtree</td>\n",
              "      <td>Data Engineer</td>\n",
              "      <td>Remote</td>\n",
              "      <td>Greetings from KonnectingTree!\\nWe are looking...</td>\n",
              "      <td>$45.00 - $50.00 Per hour</td>\n",
              "      <td>1 to 50 Employees</td>\n",
              "      <td>Company - Public</td>\n",
              "      <td>#N/A</td>\n",
              "      <td>#N/A</td>\n",
              "      <td>#N/A</td>\n",
              "      <td>Unknown / Non-Applicable</td>\n",
              "      <td>Per hour</td>\n",
              "      <td>45.00</td>\n",
              "      <td>50.00</td>\n",
              "      <td>45.00</td>\n",
              "      <td>50.00</td>\n",
              "    </tr>\n",
              "  </tbody>\n",
              "</table>\n",
              "</div>\n",
              "      <button class=\"colab-df-convert\" onclick=\"convertToInteractive('df-d76c901f-8f86-4067-a084-78ca34440450')\"\n",
              "              title=\"Convert this dataframe to an interactive table.\"\n",
              "              style=\"display:none;\">\n",
              "        \n",
              "  <svg xmlns=\"http://www.w3.org/2000/svg\" height=\"24px\"viewBox=\"0 0 24 24\"\n",
              "       width=\"24px\">\n",
              "    <path d=\"M0 0h24v24H0V0z\" fill=\"none\"/>\n",
              "    <path d=\"M18.56 5.44l.94 2.06.94-2.06 2.06-.94-2.06-.94-.94-2.06-.94 2.06-2.06.94zm-11 1L8.5 8.5l.94-2.06 2.06-.94-2.06-.94L8.5 2.5l-.94 2.06-2.06.94zm10 10l.94 2.06.94-2.06 2.06-.94-2.06-.94-.94-2.06-.94 2.06-2.06.94z\"/><path d=\"M17.41 7.96l-1.37-1.37c-.4-.4-.92-.59-1.43-.59-.52 0-1.04.2-1.43.59L10.3 9.45l-7.72 7.72c-.78.78-.78 2.05 0 2.83L4 21.41c.39.39.9.59 1.41.59.51 0 1.02-.2 1.41-.59l7.78-7.78 2.81-2.81c.8-.78.8-2.07 0-2.86zM5.41 20L4 18.59l7.72-7.72 1.47 1.35L5.41 20z\"/>\n",
              "  </svg>\n",
              "      </button>\n",
              "      \n",
              "  <style>\n",
              "    .colab-df-container {\n",
              "      display:flex;\n",
              "      flex-wrap:wrap;\n",
              "      gap: 12px;\n",
              "    }\n",
              "\n",
              "    .colab-df-convert {\n",
              "      background-color: #E8F0FE;\n",
              "      border: none;\n",
              "      border-radius: 50%;\n",
              "      cursor: pointer;\n",
              "      display: none;\n",
              "      fill: #1967D2;\n",
              "      height: 32px;\n",
              "      padding: 0 0 0 0;\n",
              "      width: 32px;\n",
              "    }\n",
              "\n",
              "    .colab-df-convert:hover {\n",
              "      background-color: #E2EBFA;\n",
              "      box-shadow: 0px 1px 2px rgba(60, 64, 67, 0.3), 0px 1px 3px 1px rgba(60, 64, 67, 0.15);\n",
              "      fill: #174EA6;\n",
              "    }\n",
              "\n",
              "    [theme=dark] .colab-df-convert {\n",
              "      background-color: #3B4455;\n",
              "      fill: #D2E3FC;\n",
              "    }\n",
              "\n",
              "    [theme=dark] .colab-df-convert:hover {\n",
              "      background-color: #434B5C;\n",
              "      box-shadow: 0px 1px 3px 1px rgba(0, 0, 0, 0.15);\n",
              "      filter: drop-shadow(0px 1px 2px rgba(0, 0, 0, 0.3));\n",
              "      fill: #FFFFFF;\n",
              "    }\n",
              "  </style>\n",
              "\n",
              "      <script>\n",
              "        const buttonEl =\n",
              "          document.querySelector('#df-d76c901f-8f86-4067-a084-78ca34440450 button.colab-df-convert');\n",
              "        buttonEl.style.display =\n",
              "          google.colab.kernel.accessAllowed ? 'block' : 'none';\n",
              "\n",
              "        async function convertToInteractive(key) {\n",
              "          const element = document.querySelector('#df-d76c901f-8f86-4067-a084-78ca34440450');\n",
              "          const dataTable =\n",
              "            await google.colab.kernel.invokeFunction('convertToInteractive',\n",
              "                                                     [key], {});\n",
              "          if (!dataTable) return;\n",
              "\n",
              "          const docLinkHtml = 'Like what you see? Visit the ' +\n",
              "            '<a target=\"_blank\" href=https://colab.research.google.com/notebooks/data_table.ipynb>data table notebook</a>'\n",
              "            + ' to learn more about interactive tables.';\n",
              "          element.innerHTML = '';\n",
              "          dataTable['output_type'] = 'display_data';\n",
              "          await google.colab.output.renderOutput(dataTable, element);\n",
              "          const docLink = document.createElement('div');\n",
              "          docLink.innerHTML = docLinkHtml;\n",
              "          element.appendChild(docLink);\n",
              "        }\n",
              "      </script>\n",
              "    </div>\n",
              "  </div>\n",
              "  "
            ]
          },
          "metadata": {},
          "execution_count": 36
        }
      ]
    },
    {
      "cell_type": "code",
      "source": [
        "dados = dados\\\n",
        "    .drop('min_salary')\\\n",
        "    .drop('max_salary')"
      ],
      "metadata": {
        "id": "a59byL1X9QCS"
      },
      "execution_count": 37,
      "outputs": []
    },
    {
      "cell_type": "code",
      "source": [
        "dados.limit(5).toPandas()"
      ],
      "metadata": {
        "id": "er-w6WzyEprz",
        "colab": {
          "base_uri": "https://localhost:8080/",
          "height": 443
        },
        "outputId": "6da1bd84-3671-4b8d-fc39-bd605a760ae2"
      },
      "execution_count": 38,
      "outputs": [
        {
          "output_type": "execute_result",
          "data": {
            "text/plain": [
              "               company              job_title         location  \\\n",
              "0          DataPattern      Sr. Data Engineer  Los Angeles, CA   \n",
              "1    YT Global Network  Data Engineer- Remote           Remote   \n",
              "2         Wevision LLC          Data Engineer       Irvine, CA   \n",
              "3  kairos technologies          Data Engineer       Boston, MA   \n",
              "4       Konnectingtree          Data Engineer           Remote   \n",
              "\n",
              "                                     job_description  \\\n",
              "0  Responsibilities\\n● Contribute to the design a...   \n",
              "1  Data Engineer- Remote\\nRole: Data and Analytic...   \n",
              "2  Job description\\nWe build services, data platf...   \n",
              "3  Job Title: Data Engineer with AWS – Hybrid\\nLo...   \n",
              "4  Greetings from KonnectingTree!\\nWe are looking...   \n",
              "\n",
              "             salary_estimate         company_size       company_type  \\\n",
              "0   $65.00 - $75.00 Per hour    1 to 50 Employees   Company - Public   \n",
              "1  $90.00 - $120.00 Per hour              Unknown   Company - Public   \n",
              "2   $55.00 - $85.00 Per hour    1 to 50 Employees  Company - Private   \n",
              "3   $60.00 - $68.00 Per hour  51 to 200 Employees  Company - Private   \n",
              "4   $45.00 - $50.00 Per hour    1 to 50 Employees   Company - Public   \n",
              "\n",
              "           company_sector                         company_industry  \\\n",
              "0                    #N/A                                     #N/A   \n",
              "1                    #N/A                                     #N/A   \n",
              "2                    #N/A                                     #N/A   \n",
              "3  Information Technology  Information Technology Support Services   \n",
              "4                    #N/A                                     #N/A   \n",
              "\n",
              "  company_founded           company_revenue multiplicador min_salary_double  \\\n",
              "0            #N/A  Unknown / Non-Applicable      Per hour             65.00   \n",
              "1            #N/A  Unknown / Non-Applicable      Per hour             90.00   \n",
              "2            #N/A  Unknown / Non-Applicable      Per hour             55.00   \n",
              "3            2003   $5 to $25 million (USD)      Per hour             60.00   \n",
              "4            #N/A  Unknown / Non-Applicable      Per hour             45.00   \n",
              "\n",
              "  max_salary_double  \n",
              "0             75.00  \n",
              "1            120.00  \n",
              "2             85.00  \n",
              "3             68.00  \n",
              "4             50.00  "
            ],
            "text/html": [
              "\n",
              "  <div id=\"df-921330c1-1945-4904-93e8-e7ed50e40ed4\">\n",
              "    <div class=\"colab-df-container\">\n",
              "      <div>\n",
              "<style scoped>\n",
              "    .dataframe tbody tr th:only-of-type {\n",
              "        vertical-align: middle;\n",
              "    }\n",
              "\n",
              "    .dataframe tbody tr th {\n",
              "        vertical-align: top;\n",
              "    }\n",
              "\n",
              "    .dataframe thead th {\n",
              "        text-align: right;\n",
              "    }\n",
              "</style>\n",
              "<table border=\"1\" class=\"dataframe\">\n",
              "  <thead>\n",
              "    <tr style=\"text-align: right;\">\n",
              "      <th></th>\n",
              "      <th>company</th>\n",
              "      <th>job_title</th>\n",
              "      <th>location</th>\n",
              "      <th>job_description</th>\n",
              "      <th>salary_estimate</th>\n",
              "      <th>company_size</th>\n",
              "      <th>company_type</th>\n",
              "      <th>company_sector</th>\n",
              "      <th>company_industry</th>\n",
              "      <th>company_founded</th>\n",
              "      <th>company_revenue</th>\n",
              "      <th>multiplicador</th>\n",
              "      <th>min_salary_double</th>\n",
              "      <th>max_salary_double</th>\n",
              "    </tr>\n",
              "  </thead>\n",
              "  <tbody>\n",
              "    <tr>\n",
              "      <th>0</th>\n",
              "      <td>DataPattern</td>\n",
              "      <td>Sr. Data Engineer</td>\n",
              "      <td>Los Angeles, CA</td>\n",
              "      <td>Responsibilities\\n● Contribute to the design a...</td>\n",
              "      <td>$65.00 - $75.00 Per hour</td>\n",
              "      <td>1 to 50 Employees</td>\n",
              "      <td>Company - Public</td>\n",
              "      <td>#N/A</td>\n",
              "      <td>#N/A</td>\n",
              "      <td>#N/A</td>\n",
              "      <td>Unknown / Non-Applicable</td>\n",
              "      <td>Per hour</td>\n",
              "      <td>65.00</td>\n",
              "      <td>75.00</td>\n",
              "    </tr>\n",
              "    <tr>\n",
              "      <th>1</th>\n",
              "      <td>YT Global Network</td>\n",
              "      <td>Data Engineer- Remote</td>\n",
              "      <td>Remote</td>\n",
              "      <td>Data Engineer- Remote\\nRole: Data and Analytic...</td>\n",
              "      <td>$90.00 - $120.00 Per hour</td>\n",
              "      <td>Unknown</td>\n",
              "      <td>Company - Public</td>\n",
              "      <td>#N/A</td>\n",
              "      <td>#N/A</td>\n",
              "      <td>#N/A</td>\n",
              "      <td>Unknown / Non-Applicable</td>\n",
              "      <td>Per hour</td>\n",
              "      <td>90.00</td>\n",
              "      <td>120.00</td>\n",
              "    </tr>\n",
              "    <tr>\n",
              "      <th>2</th>\n",
              "      <td>Wevision LLC</td>\n",
              "      <td>Data Engineer</td>\n",
              "      <td>Irvine, CA</td>\n",
              "      <td>Job description\\nWe build services, data platf...</td>\n",
              "      <td>$55.00 - $85.00 Per hour</td>\n",
              "      <td>1 to 50 Employees</td>\n",
              "      <td>Company - Private</td>\n",
              "      <td>#N/A</td>\n",
              "      <td>#N/A</td>\n",
              "      <td>#N/A</td>\n",
              "      <td>Unknown / Non-Applicable</td>\n",
              "      <td>Per hour</td>\n",
              "      <td>55.00</td>\n",
              "      <td>85.00</td>\n",
              "    </tr>\n",
              "    <tr>\n",
              "      <th>3</th>\n",
              "      <td>kairos technologies</td>\n",
              "      <td>Data Engineer</td>\n",
              "      <td>Boston, MA</td>\n",
              "      <td>Job Title: Data Engineer with AWS – Hybrid\\nLo...</td>\n",
              "      <td>$60.00 - $68.00 Per hour</td>\n",
              "      <td>51 to 200 Employees</td>\n",
              "      <td>Company - Private</td>\n",
              "      <td>Information Technology</td>\n",
              "      <td>Information Technology Support Services</td>\n",
              "      <td>2003</td>\n",
              "      <td>$5 to $25 million (USD)</td>\n",
              "      <td>Per hour</td>\n",
              "      <td>60.00</td>\n",
              "      <td>68.00</td>\n",
              "    </tr>\n",
              "    <tr>\n",
              "      <th>4</th>\n",
              "      <td>Konnectingtree</td>\n",
              "      <td>Data Engineer</td>\n",
              "      <td>Remote</td>\n",
              "      <td>Greetings from KonnectingTree!\\nWe are looking...</td>\n",
              "      <td>$45.00 - $50.00 Per hour</td>\n",
              "      <td>1 to 50 Employees</td>\n",
              "      <td>Company - Public</td>\n",
              "      <td>#N/A</td>\n",
              "      <td>#N/A</td>\n",
              "      <td>#N/A</td>\n",
              "      <td>Unknown / Non-Applicable</td>\n",
              "      <td>Per hour</td>\n",
              "      <td>45.00</td>\n",
              "      <td>50.00</td>\n",
              "    </tr>\n",
              "  </tbody>\n",
              "</table>\n",
              "</div>\n",
              "      <button class=\"colab-df-convert\" onclick=\"convertToInteractive('df-921330c1-1945-4904-93e8-e7ed50e40ed4')\"\n",
              "              title=\"Convert this dataframe to an interactive table.\"\n",
              "              style=\"display:none;\">\n",
              "        \n",
              "  <svg xmlns=\"http://www.w3.org/2000/svg\" height=\"24px\"viewBox=\"0 0 24 24\"\n",
              "       width=\"24px\">\n",
              "    <path d=\"M0 0h24v24H0V0z\" fill=\"none\"/>\n",
              "    <path d=\"M18.56 5.44l.94 2.06.94-2.06 2.06-.94-2.06-.94-.94-2.06-.94 2.06-2.06.94zm-11 1L8.5 8.5l.94-2.06 2.06-.94-2.06-.94L8.5 2.5l-.94 2.06-2.06.94zm10 10l.94 2.06.94-2.06 2.06-.94-2.06-.94-.94-2.06-.94 2.06-2.06.94z\"/><path d=\"M17.41 7.96l-1.37-1.37c-.4-.4-.92-.59-1.43-.59-.52 0-1.04.2-1.43.59L10.3 9.45l-7.72 7.72c-.78.78-.78 2.05 0 2.83L4 21.41c.39.39.9.59 1.41.59.51 0 1.02-.2 1.41-.59l7.78-7.78 2.81-2.81c.8-.78.8-2.07 0-2.86zM5.41 20L4 18.59l7.72-7.72 1.47 1.35L5.41 20z\"/>\n",
              "  </svg>\n",
              "      </button>\n",
              "      \n",
              "  <style>\n",
              "    .colab-df-container {\n",
              "      display:flex;\n",
              "      flex-wrap:wrap;\n",
              "      gap: 12px;\n",
              "    }\n",
              "\n",
              "    .colab-df-convert {\n",
              "      background-color: #E8F0FE;\n",
              "      border: none;\n",
              "      border-radius: 50%;\n",
              "      cursor: pointer;\n",
              "      display: none;\n",
              "      fill: #1967D2;\n",
              "      height: 32px;\n",
              "      padding: 0 0 0 0;\n",
              "      width: 32px;\n",
              "    }\n",
              "\n",
              "    .colab-df-convert:hover {\n",
              "      background-color: #E2EBFA;\n",
              "      box-shadow: 0px 1px 2px rgba(60, 64, 67, 0.3), 0px 1px 3px 1px rgba(60, 64, 67, 0.15);\n",
              "      fill: #174EA6;\n",
              "    }\n",
              "\n",
              "    [theme=dark] .colab-df-convert {\n",
              "      background-color: #3B4455;\n",
              "      fill: #D2E3FC;\n",
              "    }\n",
              "\n",
              "    [theme=dark] .colab-df-convert:hover {\n",
              "      background-color: #434B5C;\n",
              "      box-shadow: 0px 1px 3px 1px rgba(0, 0, 0, 0.15);\n",
              "      filter: drop-shadow(0px 1px 2px rgba(0, 0, 0, 0.3));\n",
              "      fill: #FFFFFF;\n",
              "    }\n",
              "  </style>\n",
              "\n",
              "      <script>\n",
              "        const buttonEl =\n",
              "          document.querySelector('#df-921330c1-1945-4904-93e8-e7ed50e40ed4 button.colab-df-convert');\n",
              "        buttonEl.style.display =\n",
              "          google.colab.kernel.accessAllowed ? 'block' : 'none';\n",
              "\n",
              "        async function convertToInteractive(key) {\n",
              "          const element = document.querySelector('#df-921330c1-1945-4904-93e8-e7ed50e40ed4');\n",
              "          const dataTable =\n",
              "            await google.colab.kernel.invokeFunction('convertToInteractive',\n",
              "                                                     [key], {});\n",
              "          if (!dataTable) return;\n",
              "\n",
              "          const docLinkHtml = 'Like what you see? Visit the ' +\n",
              "            '<a target=\"_blank\" href=https://colab.research.google.com/notebooks/data_table.ipynb>data table notebook</a>'\n",
              "            + ' to learn more about interactive tables.';\n",
              "          element.innerHTML = '';\n",
              "          dataTable['output_type'] = 'display_data';\n",
              "          await google.colab.output.renderOutput(dataTable, element);\n",
              "          const docLink = document.createElement('div');\n",
              "          docLink.innerHTML = docLinkHtml;\n",
              "          element.appendChild(docLink);\n",
              "        }\n",
              "      </script>\n",
              "    </div>\n",
              "  </div>\n",
              "  "
            ]
          },
          "metadata": {},
          "execution_count": 38
        }
      ]
    },
    {
      "cell_type": "code",
      "source": [
        "dados = dados\\\n",
        "    .withColumnRenamed('min_salary_double', 'min_salary')\\\n",
        "    .withColumnRenamed('max_salary_double', 'max_salary')\\\n",
        "    .drop('size_split')"
      ],
      "metadata": {
        "id": "oi4qh8ykDmaY"
      },
      "execution_count": 39,
      "outputs": []
    },
    {
      "cell_type": "code",
      "source": [
        "dados.limit(5).toPandas()"
      ],
      "metadata": {
        "id": "TM_R3RHmICaR",
        "colab": {
          "base_uri": "https://localhost:8080/",
          "height": 443
        },
        "outputId": "107193db-3195-4108-a750-dcb51479d469"
      },
      "execution_count": 40,
      "outputs": [
        {
          "output_type": "execute_result",
          "data": {
            "text/plain": [
              "               company              job_title         location  \\\n",
              "0          DataPattern      Sr. Data Engineer  Los Angeles, CA   \n",
              "1    YT Global Network  Data Engineer- Remote           Remote   \n",
              "2         Wevision LLC          Data Engineer       Irvine, CA   \n",
              "3  kairos technologies          Data Engineer       Boston, MA   \n",
              "4       Konnectingtree          Data Engineer           Remote   \n",
              "\n",
              "                                     job_description  \\\n",
              "0  Responsibilities\\n● Contribute to the design a...   \n",
              "1  Data Engineer- Remote\\nRole: Data and Analytic...   \n",
              "2  Job description\\nWe build services, data platf...   \n",
              "3  Job Title: Data Engineer with AWS – Hybrid\\nLo...   \n",
              "4  Greetings from KonnectingTree!\\nWe are looking...   \n",
              "\n",
              "             salary_estimate         company_size       company_type  \\\n",
              "0   $65.00 - $75.00 Per hour    1 to 50 Employees   Company - Public   \n",
              "1  $90.00 - $120.00 Per hour              Unknown   Company - Public   \n",
              "2   $55.00 - $85.00 Per hour    1 to 50 Employees  Company - Private   \n",
              "3   $60.00 - $68.00 Per hour  51 to 200 Employees  Company - Private   \n",
              "4   $45.00 - $50.00 Per hour    1 to 50 Employees   Company - Public   \n",
              "\n",
              "           company_sector                         company_industry  \\\n",
              "0                    #N/A                                     #N/A   \n",
              "1                    #N/A                                     #N/A   \n",
              "2                    #N/A                                     #N/A   \n",
              "3  Information Technology  Information Technology Support Services   \n",
              "4                    #N/A                                     #N/A   \n",
              "\n",
              "  company_founded           company_revenue multiplicador min_salary  \\\n",
              "0            #N/A  Unknown / Non-Applicable      Per hour      65.00   \n",
              "1            #N/A  Unknown / Non-Applicable      Per hour      90.00   \n",
              "2            #N/A  Unknown / Non-Applicable      Per hour      55.00   \n",
              "3            2003   $5 to $25 million (USD)      Per hour      60.00   \n",
              "4            #N/A  Unknown / Non-Applicable      Per hour      45.00   \n",
              "\n",
              "  max_salary  \n",
              "0      75.00  \n",
              "1     120.00  \n",
              "2      85.00  \n",
              "3      68.00  \n",
              "4      50.00  "
            ],
            "text/html": [
              "\n",
              "  <div id=\"df-b8c5ef04-fbd4-477e-aec6-20132e591c7e\">\n",
              "    <div class=\"colab-df-container\">\n",
              "      <div>\n",
              "<style scoped>\n",
              "    .dataframe tbody tr th:only-of-type {\n",
              "        vertical-align: middle;\n",
              "    }\n",
              "\n",
              "    .dataframe tbody tr th {\n",
              "        vertical-align: top;\n",
              "    }\n",
              "\n",
              "    .dataframe thead th {\n",
              "        text-align: right;\n",
              "    }\n",
              "</style>\n",
              "<table border=\"1\" class=\"dataframe\">\n",
              "  <thead>\n",
              "    <tr style=\"text-align: right;\">\n",
              "      <th></th>\n",
              "      <th>company</th>\n",
              "      <th>job_title</th>\n",
              "      <th>location</th>\n",
              "      <th>job_description</th>\n",
              "      <th>salary_estimate</th>\n",
              "      <th>company_size</th>\n",
              "      <th>company_type</th>\n",
              "      <th>company_sector</th>\n",
              "      <th>company_industry</th>\n",
              "      <th>company_founded</th>\n",
              "      <th>company_revenue</th>\n",
              "      <th>multiplicador</th>\n",
              "      <th>min_salary</th>\n",
              "      <th>max_salary</th>\n",
              "    </tr>\n",
              "  </thead>\n",
              "  <tbody>\n",
              "    <tr>\n",
              "      <th>0</th>\n",
              "      <td>DataPattern</td>\n",
              "      <td>Sr. Data Engineer</td>\n",
              "      <td>Los Angeles, CA</td>\n",
              "      <td>Responsibilities\\n● Contribute to the design a...</td>\n",
              "      <td>$65.00 - $75.00 Per hour</td>\n",
              "      <td>1 to 50 Employees</td>\n",
              "      <td>Company - Public</td>\n",
              "      <td>#N/A</td>\n",
              "      <td>#N/A</td>\n",
              "      <td>#N/A</td>\n",
              "      <td>Unknown / Non-Applicable</td>\n",
              "      <td>Per hour</td>\n",
              "      <td>65.00</td>\n",
              "      <td>75.00</td>\n",
              "    </tr>\n",
              "    <tr>\n",
              "      <th>1</th>\n",
              "      <td>YT Global Network</td>\n",
              "      <td>Data Engineer- Remote</td>\n",
              "      <td>Remote</td>\n",
              "      <td>Data Engineer- Remote\\nRole: Data and Analytic...</td>\n",
              "      <td>$90.00 - $120.00 Per hour</td>\n",
              "      <td>Unknown</td>\n",
              "      <td>Company - Public</td>\n",
              "      <td>#N/A</td>\n",
              "      <td>#N/A</td>\n",
              "      <td>#N/A</td>\n",
              "      <td>Unknown / Non-Applicable</td>\n",
              "      <td>Per hour</td>\n",
              "      <td>90.00</td>\n",
              "      <td>120.00</td>\n",
              "    </tr>\n",
              "    <tr>\n",
              "      <th>2</th>\n",
              "      <td>Wevision LLC</td>\n",
              "      <td>Data Engineer</td>\n",
              "      <td>Irvine, CA</td>\n",
              "      <td>Job description\\nWe build services, data platf...</td>\n",
              "      <td>$55.00 - $85.00 Per hour</td>\n",
              "      <td>1 to 50 Employees</td>\n",
              "      <td>Company - Private</td>\n",
              "      <td>#N/A</td>\n",
              "      <td>#N/A</td>\n",
              "      <td>#N/A</td>\n",
              "      <td>Unknown / Non-Applicable</td>\n",
              "      <td>Per hour</td>\n",
              "      <td>55.00</td>\n",
              "      <td>85.00</td>\n",
              "    </tr>\n",
              "    <tr>\n",
              "      <th>3</th>\n",
              "      <td>kairos technologies</td>\n",
              "      <td>Data Engineer</td>\n",
              "      <td>Boston, MA</td>\n",
              "      <td>Job Title: Data Engineer with AWS – Hybrid\\nLo...</td>\n",
              "      <td>$60.00 - $68.00 Per hour</td>\n",
              "      <td>51 to 200 Employees</td>\n",
              "      <td>Company - Private</td>\n",
              "      <td>Information Technology</td>\n",
              "      <td>Information Technology Support Services</td>\n",
              "      <td>2003</td>\n",
              "      <td>$5 to $25 million (USD)</td>\n",
              "      <td>Per hour</td>\n",
              "      <td>60.00</td>\n",
              "      <td>68.00</td>\n",
              "    </tr>\n",
              "    <tr>\n",
              "      <th>4</th>\n",
              "      <td>Konnectingtree</td>\n",
              "      <td>Data Engineer</td>\n",
              "      <td>Remote</td>\n",
              "      <td>Greetings from KonnectingTree!\\nWe are looking...</td>\n",
              "      <td>$45.00 - $50.00 Per hour</td>\n",
              "      <td>1 to 50 Employees</td>\n",
              "      <td>Company - Public</td>\n",
              "      <td>#N/A</td>\n",
              "      <td>#N/A</td>\n",
              "      <td>#N/A</td>\n",
              "      <td>Unknown / Non-Applicable</td>\n",
              "      <td>Per hour</td>\n",
              "      <td>45.00</td>\n",
              "      <td>50.00</td>\n",
              "    </tr>\n",
              "  </tbody>\n",
              "</table>\n",
              "</div>\n",
              "      <button class=\"colab-df-convert\" onclick=\"convertToInteractive('df-b8c5ef04-fbd4-477e-aec6-20132e591c7e')\"\n",
              "              title=\"Convert this dataframe to an interactive table.\"\n",
              "              style=\"display:none;\">\n",
              "        \n",
              "  <svg xmlns=\"http://www.w3.org/2000/svg\" height=\"24px\"viewBox=\"0 0 24 24\"\n",
              "       width=\"24px\">\n",
              "    <path d=\"M0 0h24v24H0V0z\" fill=\"none\"/>\n",
              "    <path d=\"M18.56 5.44l.94 2.06.94-2.06 2.06-.94-2.06-.94-.94-2.06-.94 2.06-2.06.94zm-11 1L8.5 8.5l.94-2.06 2.06-.94-2.06-.94L8.5 2.5l-.94 2.06-2.06.94zm10 10l.94 2.06.94-2.06 2.06-.94-2.06-.94-.94-2.06-.94 2.06-2.06.94z\"/><path d=\"M17.41 7.96l-1.37-1.37c-.4-.4-.92-.59-1.43-.59-.52 0-1.04.2-1.43.59L10.3 9.45l-7.72 7.72c-.78.78-.78 2.05 0 2.83L4 21.41c.39.39.9.59 1.41.59.51 0 1.02-.2 1.41-.59l7.78-7.78 2.81-2.81c.8-.78.8-2.07 0-2.86zM5.41 20L4 18.59l7.72-7.72 1.47 1.35L5.41 20z\"/>\n",
              "  </svg>\n",
              "      </button>\n",
              "      \n",
              "  <style>\n",
              "    .colab-df-container {\n",
              "      display:flex;\n",
              "      flex-wrap:wrap;\n",
              "      gap: 12px;\n",
              "    }\n",
              "\n",
              "    .colab-df-convert {\n",
              "      background-color: #E8F0FE;\n",
              "      border: none;\n",
              "      border-radius: 50%;\n",
              "      cursor: pointer;\n",
              "      display: none;\n",
              "      fill: #1967D2;\n",
              "      height: 32px;\n",
              "      padding: 0 0 0 0;\n",
              "      width: 32px;\n",
              "    }\n",
              "\n",
              "    .colab-df-convert:hover {\n",
              "      background-color: #E2EBFA;\n",
              "      box-shadow: 0px 1px 2px rgba(60, 64, 67, 0.3), 0px 1px 3px 1px rgba(60, 64, 67, 0.15);\n",
              "      fill: #174EA6;\n",
              "    }\n",
              "\n",
              "    [theme=dark] .colab-df-convert {\n",
              "      background-color: #3B4455;\n",
              "      fill: #D2E3FC;\n",
              "    }\n",
              "\n",
              "    [theme=dark] .colab-df-convert:hover {\n",
              "      background-color: #434B5C;\n",
              "      box-shadow: 0px 1px 3px 1px rgba(0, 0, 0, 0.15);\n",
              "      filter: drop-shadow(0px 1px 2px rgba(0, 0, 0, 0.3));\n",
              "      fill: #FFFFFF;\n",
              "    }\n",
              "  </style>\n",
              "\n",
              "      <script>\n",
              "        const buttonEl =\n",
              "          document.querySelector('#df-b8c5ef04-fbd4-477e-aec6-20132e591c7e button.colab-df-convert');\n",
              "        buttonEl.style.display =\n",
              "          google.colab.kernel.accessAllowed ? 'block' : 'none';\n",
              "\n",
              "        async function convertToInteractive(key) {\n",
              "          const element = document.querySelector('#df-b8c5ef04-fbd4-477e-aec6-20132e591c7e');\n",
              "          const dataTable =\n",
              "            await google.colab.kernel.invokeFunction('convertToInteractive',\n",
              "                                                     [key], {});\n",
              "          if (!dataTable) return;\n",
              "\n",
              "          const docLinkHtml = 'Like what you see? Visit the ' +\n",
              "            '<a target=\"_blank\" href=https://colab.research.google.com/notebooks/data_table.ipynb>data table notebook</a>'\n",
              "            + ' to learn more about interactive tables.';\n",
              "          element.innerHTML = '';\n",
              "          dataTable['output_type'] = 'display_data';\n",
              "          await google.colab.output.renderOutput(dataTable, element);\n",
              "          const docLink = document.createElement('div');\n",
              "          docLink.innerHTML = docLinkHtml;\n",
              "          element.appendChild(docLink);\n",
              "        }\n",
              "      </script>\n",
              "    </div>\n",
              "  </div>\n",
              "  "
            ]
          },
          "metadata": {},
          "execution_count": 40
        }
      ]
    },
    {
      "cell_type": "code",
      "source": [
        "dados\\\n",
        "    .select('min_salary')\\\n",
        "    .groupBy('min_salary')\\\n",
        "    .count()\\\n",
        "    .sort(desc('count'))\\\n",
        "    .show(100)\n",
        "\n",
        "dados\\\n",
        "    .select('max_salary')\\\n",
        "    .groupBy('max_salary')\\\n",
        "    .count()\\\n",
        "    .sort(desc('count'))\\\n",
        "    .show(100)"
      ],
      "metadata": {
        "id": "QePC8gKtG6aT",
        "colab": {
          "base_uri": "https://localhost:8080/"
        },
        "outputId": "4c726bc9-e078-4942-b8e0-f407c4f535cf"
      },
      "execution_count": 41,
      "outputs": [
        {
          "output_type": "stream",
          "name": "stdout",
          "text": [
            "+----------+-----+\n",
            "|min_salary|count|\n",
            "+----------+-----+\n",
            "|  100000.0|   66|\n",
            "|     65.00|   32|\n",
            "|     60.00|   31|\n",
            "|   90000.0|   21|\n",
            "|     70.00|   20|\n",
            "|  200000.0|   17|\n",
            "|   85000.0|   15|\n",
            "|   95000.0|   15|\n",
            "|     42.96|   13|\n",
            "|   73000.0|   12|\n",
            "|   86000.0|   12|\n",
            "|     43.82|   11|\n",
            "|   83000.0|   11|\n",
            "|   88000.0|   11|\n",
            "|     73.00|   10|\n",
            "|    100.00|   10|\n",
            "|     55.00|   10|\n",
            "|     80.00|    9|\n",
            "|     90.00|    8|\n",
            "|   70000.0|    7|\n",
            "|   87000.0|    7|\n",
            "|     50.00|    6|\n",
            "|   91000.0|    6|\n",
            "|     39.86|    5|\n",
            "|   89000.0|    4|\n",
            "|   80000.0|    4|\n",
            "|     45.00|    4|\n",
            "|   96000.0|    3|\n",
            "|   75000.0|    3|\n",
            "|     42.14|    3|\n",
            "|     52.06|    2|\n",
            "|     72.00|    2|\n",
            "|   92000.0|    2|\n",
            "|   55000.0|    2|\n",
            "|   39000.0|    1|\n",
            "|   98000.0|    1|\n",
            "|   54000.0|    1|\n",
            "|   82000.0|    1|\n",
            "|   84000.0|    1|\n",
            "|   69000.0|    1|\n",
            "|   97000.0|    1|\n",
            "|   56000.0|    1|\n",
            "|   59000.0|    1|\n",
            "+----------+-----+\n",
            "\n",
            "+----------+-----+\n",
            "|max_salary|count|\n",
            "+----------+-----+\n",
            "|  100000.0|  140|\n",
            "|  200000.0|   69|\n",
            "|     70.00|   26|\n",
            "|     75.00|   20|\n",
            "|     65.00|   20|\n",
            "|     80.00|   16|\n",
            "|     60.00|   15|\n",
            "|     60.84|   13|\n",
            "|     66.67|   11|\n",
            "|     73.00|   10|\n",
            "|     95.00|    9|\n",
            "|    120.00|    7|\n",
            "|   75000.0|    7|\n",
            "|    125.00|    6|\n",
            "|     39.86|    5|\n",
            "|     50.00|    4|\n",
            "|  300000.0|    4|\n",
            "|     70.29|    3|\n",
            "|    103.00|    3|\n",
            "|   60000.0|    2|\n",
            "|     69.28|    2|\n",
            "|     90.00|    2|\n",
            "|     68.00|    1|\n",
            "|   80000.0|    1|\n",
            "|     85.00|    1|\n",
            "|   72000.0|    1|\n",
            "|     63.00|    1|\n",
            "|   58000.0|    1|\n",
            "|   88000.0|    1|\n",
            "|    100.00|    1|\n",
            "|   56000.0|    1|\n",
            "+----------+-----+\n",
            "\n"
          ]
        }
      ]
    },
    {
      "cell_type": "markdown",
      "source": [
        "Convertendo os valores de salário para o tipo **double**:"
      ],
      "metadata": {
        "id": "qXA2415WJLHX"
      }
    },
    {
      "cell_type": "code",
      "source": [
        "dados = dados\\\n",
        "    .withColumn('min_salary', dados['min_salary'].cast(DoubleType()))\\\n",
        "    .withColumn('max_salary', dados['max_salary'].cast(DoubleType()))"
      ],
      "metadata": {
        "id": "Wti-A1l90HQ3"
      },
      "execution_count": 42,
      "outputs": []
    },
    {
      "cell_type": "code",
      "source": [
        "dados.printSchema()"
      ],
      "metadata": {
        "colab": {
          "base_uri": "https://localhost:8080/"
        },
        "id": "HJWUCbR_BbwX",
        "outputId": "b22b86b4-0a52-4317-e006-a7448a9760b3"
      },
      "execution_count": 43,
      "outputs": [
        {
          "output_type": "stream",
          "name": "stdout",
          "text": [
            "root\n",
            " |-- company: string (nullable = true)\n",
            " |-- job_title: string (nullable = true)\n",
            " |-- location: string (nullable = true)\n",
            " |-- job_description: string (nullable = true)\n",
            " |-- salary_estimate: string (nullable = true)\n",
            " |-- company_size: string (nullable = true)\n",
            " |-- company_type: string (nullable = true)\n",
            " |-- company_sector: string (nullable = true)\n",
            " |-- company_industry: string (nullable = true)\n",
            " |-- company_founded: string (nullable = true)\n",
            " |-- company_revenue: string (nullable = true)\n",
            " |-- multiplicador: string (nullable = false)\n",
            " |-- min_salary: double (nullable = true)\n",
            " |-- max_salary: double (nullable = true)\n",
            "\n"
          ]
        }
      ]
    },
    {
      "cell_type": "markdown",
      "source": [
        "Cálculo final do salário médio (`salary_avg`):"
      ],
      "metadata": {
        "id": "9Nr1mKlFJfr1"
      }
    },
    {
      "cell_type": "code",
      "source": [
        "dados = dados\\\n",
        "    .withColumn('salary_avg', .5*(dados['min_salary'] + dados['max_salary']))\\\n",
        "    .drop('min_salary')\\\n",
        "    .drop('max_salary')\\\n",
        "    .drop('salary_estimate')"
      ],
      "metadata": {
        "id": "JEv9BRrO0s5b"
      },
      "execution_count": 44,
      "outputs": []
    },
    {
      "cell_type": "markdown",
      "source": [
        "Considerando um regime de trabalho de 40h semanais, ou seja 2080 horas trabalhadas no ano, converte-se as médias salarias categorizadas em `'Per hour'`:"
      ],
      "metadata": {
        "id": "78gP3ojr11ai"
      }
    },
    {
      "cell_type": "code",
      "source": [
        "dados = dados\\\n",
        "    .withColumn('salary_avg', when(dados['multiplicador'] == 'Per hour', dados['salary_avg']*2080).otherwise(dados['salary_avg']))\\\n",
        "    .drop('multiplicador')"
      ],
      "metadata": {
        "id": "6au075501j6y"
      },
      "execution_count": 45,
      "outputs": []
    },
    {
      "cell_type": "code",
      "source": [
        "dados.limit(10).toPandas()"
      ],
      "metadata": {
        "colab": {
          "base_uri": "https://localhost:8080/",
          "height": 774
        },
        "id": "wtNA_h6f4UuB",
        "outputId": "ed72dac4-8224-418a-be13-daa236476da2"
      },
      "execution_count": 46,
      "outputs": [
        {
          "output_type": "execute_result",
          "data": {
            "text/plain": [
              "                     company              job_title          location  \\\n",
              "0                DataPattern      Sr. Data Engineer   Los Angeles, CA   \n",
              "1          YT Global Network  Data Engineer- Remote            Remote   \n",
              "2               Wevision LLC          Data Engineer        Irvine, CA   \n",
              "3        kairos technologies          Data Engineer        Boston, MA   \n",
              "4             Konnectingtree          Data Engineer            Remote   \n",
              "5                Edmunds.com          Data Engineer  Santa Monica, CA   \n",
              "6  Kanini Software Solutions          Data Engineer            Remote   \n",
              "7                Gridiron IT          Data Engineer    Washington, DC   \n",
              "8                    STAND 8          DATA ENGINEER            Remote   \n",
              "9        Radiant Systems Inc    Azure Data Engineer     Milwaukee, WI   \n",
              "\n",
              "                                     job_description           company_size  \\\n",
              "0  Responsibilities\\n● Contribute to the design a...      1 to 50 Employees   \n",
              "1  Data Engineer- Remote\\nRole: Data and Analytic...                Unknown   \n",
              "2  Job description\\nWe build services, data platf...      1 to 50 Employees   \n",
              "3  Job Title: Data Engineer with AWS – Hybrid\\nLo...    51 to 200 Employees   \n",
              "4  Greetings from KonnectingTree!\\nWe are looking...      1 to 50 Employees   \n",
              "5  Edmunds offers flexibility to work fully remot...   201 to 500 Employees   \n",
              "6  About Kanini\\nKanini provides Agile Software D...  501 to 1000 Employees   \n",
              "7  Seeking a Data Engineer local to Washington, D...    51 to 200 Employees   \n",
              "8  STAND 8 is a global leader providing end-to-en...      1 to 50 Employees   \n",
              "9  Azure Synapse (no data bricks please)\\nSome Da...   201 to 500 Employees   \n",
              "\n",
              "        company_type          company_sector  \\\n",
              "0   Company - Public                    #N/A   \n",
              "1   Company - Public                    #N/A   \n",
              "2  Company - Private                    #N/A   \n",
              "3  Company - Private  Information Technology   \n",
              "4   Company - Public                    #N/A   \n",
              "5  Company - Private  Information Technology   \n",
              "6  Company - Private  Information Technology   \n",
              "7  Company - Private  Information Technology   \n",
              "8  Company - Private                    #N/A   \n",
              "9  Company - Private  Information Technology   \n",
              "\n",
              "                          company_industry company_founded  \\\n",
              "0                                     #N/A            #N/A   \n",
              "1                                     #N/A            #N/A   \n",
              "2                                     #N/A            #N/A   \n",
              "3  Information Technology Support Services            2003   \n",
              "4                                     #N/A            #N/A   \n",
              "5                  Internet & Web Services            1966   \n",
              "6  Enterprise Software & Network Solutions            2003   \n",
              "7  Information Technology Support Services            2017   \n",
              "8                                     #N/A            #N/A   \n",
              "9  Information Technology Support Services            1995   \n",
              "\n",
              "              company_revenue  salary_avg  \n",
              "0    Unknown / Non-Applicable    145600.0  \n",
              "1    Unknown / Non-Applicable    218400.0  \n",
              "2    Unknown / Non-Applicable    145600.0  \n",
              "3     $5 to $25 million (USD)    133120.0  \n",
              "4    Unknown / Non-Applicable     98800.0  \n",
              "5  $100 to $500 million (USD)    150000.0  \n",
              "6     $5 to $25 million (USD)    140400.0  \n",
              "7    Unknown / Non-Applicable    145600.0  \n",
              "8  Less than $1 million (USD)    135200.0  \n",
              "9    $25 to $50 million (USD)     93500.0  "
            ],
            "text/html": [
              "\n",
              "  <div id=\"df-0035a8d1-b82f-42df-af2a-3910225fe3c1\">\n",
              "    <div class=\"colab-df-container\">\n",
              "      <div>\n",
              "<style scoped>\n",
              "    .dataframe tbody tr th:only-of-type {\n",
              "        vertical-align: middle;\n",
              "    }\n",
              "\n",
              "    .dataframe tbody tr th {\n",
              "        vertical-align: top;\n",
              "    }\n",
              "\n",
              "    .dataframe thead th {\n",
              "        text-align: right;\n",
              "    }\n",
              "</style>\n",
              "<table border=\"1\" class=\"dataframe\">\n",
              "  <thead>\n",
              "    <tr style=\"text-align: right;\">\n",
              "      <th></th>\n",
              "      <th>company</th>\n",
              "      <th>job_title</th>\n",
              "      <th>location</th>\n",
              "      <th>job_description</th>\n",
              "      <th>company_size</th>\n",
              "      <th>company_type</th>\n",
              "      <th>company_sector</th>\n",
              "      <th>company_industry</th>\n",
              "      <th>company_founded</th>\n",
              "      <th>company_revenue</th>\n",
              "      <th>salary_avg</th>\n",
              "    </tr>\n",
              "  </thead>\n",
              "  <tbody>\n",
              "    <tr>\n",
              "      <th>0</th>\n",
              "      <td>DataPattern</td>\n",
              "      <td>Sr. Data Engineer</td>\n",
              "      <td>Los Angeles, CA</td>\n",
              "      <td>Responsibilities\\n● Contribute to the design a...</td>\n",
              "      <td>1 to 50 Employees</td>\n",
              "      <td>Company - Public</td>\n",
              "      <td>#N/A</td>\n",
              "      <td>#N/A</td>\n",
              "      <td>#N/A</td>\n",
              "      <td>Unknown / Non-Applicable</td>\n",
              "      <td>145600.0</td>\n",
              "    </tr>\n",
              "    <tr>\n",
              "      <th>1</th>\n",
              "      <td>YT Global Network</td>\n",
              "      <td>Data Engineer- Remote</td>\n",
              "      <td>Remote</td>\n",
              "      <td>Data Engineer- Remote\\nRole: Data and Analytic...</td>\n",
              "      <td>Unknown</td>\n",
              "      <td>Company - Public</td>\n",
              "      <td>#N/A</td>\n",
              "      <td>#N/A</td>\n",
              "      <td>#N/A</td>\n",
              "      <td>Unknown / Non-Applicable</td>\n",
              "      <td>218400.0</td>\n",
              "    </tr>\n",
              "    <tr>\n",
              "      <th>2</th>\n",
              "      <td>Wevision LLC</td>\n",
              "      <td>Data Engineer</td>\n",
              "      <td>Irvine, CA</td>\n",
              "      <td>Job description\\nWe build services, data platf...</td>\n",
              "      <td>1 to 50 Employees</td>\n",
              "      <td>Company - Private</td>\n",
              "      <td>#N/A</td>\n",
              "      <td>#N/A</td>\n",
              "      <td>#N/A</td>\n",
              "      <td>Unknown / Non-Applicable</td>\n",
              "      <td>145600.0</td>\n",
              "    </tr>\n",
              "    <tr>\n",
              "      <th>3</th>\n",
              "      <td>kairos technologies</td>\n",
              "      <td>Data Engineer</td>\n",
              "      <td>Boston, MA</td>\n",
              "      <td>Job Title: Data Engineer with AWS – Hybrid\\nLo...</td>\n",
              "      <td>51 to 200 Employees</td>\n",
              "      <td>Company - Private</td>\n",
              "      <td>Information Technology</td>\n",
              "      <td>Information Technology Support Services</td>\n",
              "      <td>2003</td>\n",
              "      <td>$5 to $25 million (USD)</td>\n",
              "      <td>133120.0</td>\n",
              "    </tr>\n",
              "    <tr>\n",
              "      <th>4</th>\n",
              "      <td>Konnectingtree</td>\n",
              "      <td>Data Engineer</td>\n",
              "      <td>Remote</td>\n",
              "      <td>Greetings from KonnectingTree!\\nWe are looking...</td>\n",
              "      <td>1 to 50 Employees</td>\n",
              "      <td>Company - Public</td>\n",
              "      <td>#N/A</td>\n",
              "      <td>#N/A</td>\n",
              "      <td>#N/A</td>\n",
              "      <td>Unknown / Non-Applicable</td>\n",
              "      <td>98800.0</td>\n",
              "    </tr>\n",
              "    <tr>\n",
              "      <th>5</th>\n",
              "      <td>Edmunds.com</td>\n",
              "      <td>Data Engineer</td>\n",
              "      <td>Santa Monica, CA</td>\n",
              "      <td>Edmunds offers flexibility to work fully remot...</td>\n",
              "      <td>201 to 500 Employees</td>\n",
              "      <td>Company - Private</td>\n",
              "      <td>Information Technology</td>\n",
              "      <td>Internet &amp; Web Services</td>\n",
              "      <td>1966</td>\n",
              "      <td>$100 to $500 million (USD)</td>\n",
              "      <td>150000.0</td>\n",
              "    </tr>\n",
              "    <tr>\n",
              "      <th>6</th>\n",
              "      <td>Kanini Software Solutions</td>\n",
              "      <td>Data Engineer</td>\n",
              "      <td>Remote</td>\n",
              "      <td>About Kanini\\nKanini provides Agile Software D...</td>\n",
              "      <td>501 to 1000 Employees</td>\n",
              "      <td>Company - Private</td>\n",
              "      <td>Information Technology</td>\n",
              "      <td>Enterprise Software &amp; Network Solutions</td>\n",
              "      <td>2003</td>\n",
              "      <td>$5 to $25 million (USD)</td>\n",
              "      <td>140400.0</td>\n",
              "    </tr>\n",
              "    <tr>\n",
              "      <th>7</th>\n",
              "      <td>Gridiron IT</td>\n",
              "      <td>Data Engineer</td>\n",
              "      <td>Washington, DC</td>\n",
              "      <td>Seeking a Data Engineer local to Washington, D...</td>\n",
              "      <td>51 to 200 Employees</td>\n",
              "      <td>Company - Private</td>\n",
              "      <td>Information Technology</td>\n",
              "      <td>Information Technology Support Services</td>\n",
              "      <td>2017</td>\n",
              "      <td>Unknown / Non-Applicable</td>\n",
              "      <td>145600.0</td>\n",
              "    </tr>\n",
              "    <tr>\n",
              "      <th>8</th>\n",
              "      <td>STAND 8</td>\n",
              "      <td>DATA ENGINEER</td>\n",
              "      <td>Remote</td>\n",
              "      <td>STAND 8 is a global leader providing end-to-en...</td>\n",
              "      <td>1 to 50 Employees</td>\n",
              "      <td>Company - Private</td>\n",
              "      <td>#N/A</td>\n",
              "      <td>#N/A</td>\n",
              "      <td>#N/A</td>\n",
              "      <td>Less than $1 million (USD)</td>\n",
              "      <td>135200.0</td>\n",
              "    </tr>\n",
              "    <tr>\n",
              "      <th>9</th>\n",
              "      <td>Radiant Systems Inc</td>\n",
              "      <td>Azure Data Engineer</td>\n",
              "      <td>Milwaukee, WI</td>\n",
              "      <td>Azure Synapse (no data bricks please)\\nSome Da...</td>\n",
              "      <td>201 to 500 Employees</td>\n",
              "      <td>Company - Private</td>\n",
              "      <td>Information Technology</td>\n",
              "      <td>Information Technology Support Services</td>\n",
              "      <td>1995</td>\n",
              "      <td>$25 to $50 million (USD)</td>\n",
              "      <td>93500.0</td>\n",
              "    </tr>\n",
              "  </tbody>\n",
              "</table>\n",
              "</div>\n",
              "      <button class=\"colab-df-convert\" onclick=\"convertToInteractive('df-0035a8d1-b82f-42df-af2a-3910225fe3c1')\"\n",
              "              title=\"Convert this dataframe to an interactive table.\"\n",
              "              style=\"display:none;\">\n",
              "        \n",
              "  <svg xmlns=\"http://www.w3.org/2000/svg\" height=\"24px\"viewBox=\"0 0 24 24\"\n",
              "       width=\"24px\">\n",
              "    <path d=\"M0 0h24v24H0V0z\" fill=\"none\"/>\n",
              "    <path d=\"M18.56 5.44l.94 2.06.94-2.06 2.06-.94-2.06-.94-.94-2.06-.94 2.06-2.06.94zm-11 1L8.5 8.5l.94-2.06 2.06-.94-2.06-.94L8.5 2.5l-.94 2.06-2.06.94zm10 10l.94 2.06.94-2.06 2.06-.94-2.06-.94-.94-2.06-.94 2.06-2.06.94z\"/><path d=\"M17.41 7.96l-1.37-1.37c-.4-.4-.92-.59-1.43-.59-.52 0-1.04.2-1.43.59L10.3 9.45l-7.72 7.72c-.78.78-.78 2.05 0 2.83L4 21.41c.39.39.9.59 1.41.59.51 0 1.02-.2 1.41-.59l7.78-7.78 2.81-2.81c.8-.78.8-2.07 0-2.86zM5.41 20L4 18.59l7.72-7.72 1.47 1.35L5.41 20z\"/>\n",
              "  </svg>\n",
              "      </button>\n",
              "      \n",
              "  <style>\n",
              "    .colab-df-container {\n",
              "      display:flex;\n",
              "      flex-wrap:wrap;\n",
              "      gap: 12px;\n",
              "    }\n",
              "\n",
              "    .colab-df-convert {\n",
              "      background-color: #E8F0FE;\n",
              "      border: none;\n",
              "      border-radius: 50%;\n",
              "      cursor: pointer;\n",
              "      display: none;\n",
              "      fill: #1967D2;\n",
              "      height: 32px;\n",
              "      padding: 0 0 0 0;\n",
              "      width: 32px;\n",
              "    }\n",
              "\n",
              "    .colab-df-convert:hover {\n",
              "      background-color: #E2EBFA;\n",
              "      box-shadow: 0px 1px 2px rgba(60, 64, 67, 0.3), 0px 1px 3px 1px rgba(60, 64, 67, 0.15);\n",
              "      fill: #174EA6;\n",
              "    }\n",
              "\n",
              "    [theme=dark] .colab-df-convert {\n",
              "      background-color: #3B4455;\n",
              "      fill: #D2E3FC;\n",
              "    }\n",
              "\n",
              "    [theme=dark] .colab-df-convert:hover {\n",
              "      background-color: #434B5C;\n",
              "      box-shadow: 0px 1px 3px 1px rgba(0, 0, 0, 0.15);\n",
              "      filter: drop-shadow(0px 1px 2px rgba(0, 0, 0, 0.3));\n",
              "      fill: #FFFFFF;\n",
              "    }\n",
              "  </style>\n",
              "\n",
              "      <script>\n",
              "        const buttonEl =\n",
              "          document.querySelector('#df-0035a8d1-b82f-42df-af2a-3910225fe3c1 button.colab-df-convert');\n",
              "        buttonEl.style.display =\n",
              "          google.colab.kernel.accessAllowed ? 'block' : 'none';\n",
              "\n",
              "        async function convertToInteractive(key) {\n",
              "          const element = document.querySelector('#df-0035a8d1-b82f-42df-af2a-3910225fe3c1');\n",
              "          const dataTable =\n",
              "            await google.colab.kernel.invokeFunction('convertToInteractive',\n",
              "                                                     [key], {});\n",
              "          if (!dataTable) return;\n",
              "\n",
              "          const docLinkHtml = 'Like what you see? Visit the ' +\n",
              "            '<a target=\"_blank\" href=https://colab.research.google.com/notebooks/data_table.ipynb>data table notebook</a>'\n",
              "            + ' to learn more about interactive tables.';\n",
              "          element.innerHTML = '';\n",
              "          dataTable['output_type'] = 'display_data';\n",
              "          await google.colab.output.renderOutput(dataTable, element);\n",
              "          const docLink = document.createElement('div');\n",
              "          docLink.innerHTML = docLinkHtml;\n",
              "          element.appendChild(docLink);\n",
              "        }\n",
              "      </script>\n",
              "    </div>\n",
              "  </div>\n",
              "  "
            ]
          },
          "metadata": {},
          "execution_count": 46
        }
      ]
    },
    {
      "cell_type": "code",
      "source": [
        "dados\\\n",
        "    .select('salary_avg')\\\n",
        "    .groupBy('salary_avg')\\\n",
        "    .count()\\\n",
        "    .sort(desc('count'))\\\n",
        "    .show(5)"
      ],
      "metadata": {
        "colab": {
          "base_uri": "https://localhost:8080/"
        },
        "id": "IuDL-qRgD_0z",
        "outputId": "dff39cc9-00a1-486a-8854-92d7404c5a37"
      },
      "execution_count": 47,
      "outputs": [
        {
          "output_type": "stream",
          "name": "stdout",
          "text": [
            "+----------+-----+\n",
            "|salary_avg|count|\n",
            "+----------+-----+\n",
            "|  150000.0|   52|\n",
            "|  145600.0|   30|\n",
            "|  135200.0|   21|\n",
            "|   95000.0|   19|\n",
            "|   92500.0|   15|\n",
            "+----------+-----+\n",
            "only showing top 5 rows\n",
            "\n"
          ]
        }
      ]
    },
    {
      "cell_type": "markdown",
      "source": [
        "### Análise de `'location'`"
      ],
      "metadata": {
        "id": "QixSwSSz6kmQ"
      }
    },
    {
      "cell_type": "code",
      "source": [
        "dados\\\n",
        "    .select('location')\\\n",
        "    .groupBy('location')\\\n",
        "    .count()\\\n",
        "    .sort(desc('count'))\\\n",
        "    .show(100)"
      ],
      "metadata": {
        "colab": {
          "base_uri": "https://localhost:8080/"
        },
        "id": "iNsg0Jpd7gdM",
        "outputId": "20fbc2ee-b4ae-47d6-befb-1de18c672b90"
      },
      "execution_count": 48,
      "outputs": [
        {
          "output_type": "stream",
          "name": "stdout",
          "text": [
            "+--------------------+-----+\n",
            "|            location|count|\n",
            "+--------------------+-----+\n",
            "|              Remote|   67|\n",
            "|        Columbus, OH|   26|\n",
            "|          Dallas, TX|   26|\n",
            "|        Richmond, VA|   16|\n",
            "|            Lehi, UT|   16|\n",
            "|        New York, NY|   13|\n",
            "|      Washington, DC|   12|\n",
            "|          Edison, NJ|   12|\n",
            "|          Boston, MA|   12|\n",
            "|    Independence, KS|   11|\n",
            "|   San Francisco, CA|   11|\n",
            "|     Los Angeles, CA|   11|\n",
            "|    Florham Park, NJ|   11|\n",
            "|       Beaverton, OR|   11|\n",
            "|     Springfield, VA|   11|\n",
            "|      Chelmsford, MA|   10|\n",
            "|        O Fallon, MO|    9|\n",
            "|        Bethesda, MD|    9|\n",
            "|       Princeton, NJ|    7|\n",
            "|         Norfolk, VA|    7|\n",
            "|      Louisville, KY|    7|\n",
            "|          Newark, NJ|    7|\n",
            "|  Pleasant Grove, UT|    6|\n",
            "|    Mount Laurel, NJ|    6|\n",
            "|      Alexandria, VA|    5|\n",
            "|      Alpharetta, GA|    5|\n",
            "|         Seattle, WA|    5|\n",
            "|         Phoenix, AZ|    4|\n",
            "|    Philadelphia, PA|    4|\n",
            "|         Hanover, NJ|    3|\n",
            "|         Houston, TX|    3|\n",
            "|        Lakeland, FL|    2|\n",
            "|South San Francis...|    2|\n",
            "|      Eau Claire, WI|    2|\n",
            "|           Plano, TX|    2|\n",
            "|        Honolulu, HI|    2|\n",
            "|          Austin, TX|    2|\n",
            "|       Milwaukee, WI|    2|\n",
            "|     Jersey City, NJ|    2|\n",
            "|         Chicago, IL|    2|\n",
            "|     Bentonville, AR|    1|\n",
            "|       Nashville, TN|    1|\n",
            "|           Akron, OH|    1|\n",
            "|    Santa Monica, CA|    1|\n",
            "|        San Jose, CA|    1|\n",
            "|         Redmond, WA|    1|\n",
            "|            Cary, NC|    1|\n",
            "|        Brooklyn, NY|    1|\n",
            "|    Auburn Hills, MI|    1|\n",
            "|      Pittsburgh, PA|    1|\n",
            "|      Smithfield, RI|    1|\n",
            "|     Chattanooga, TN|    1|\n",
            "|         Cypress, CA|    1|\n",
            "|         Herndon, VA|    1|\n",
            "|   Mountain View, CA|    1|\n",
            "|       Lake Mary, FL|    1|\n",
            "|       Arlington, VA|    1|\n",
            "|          Irvine, CA|    1|\n",
            "|           Miami, FL|    1|\n",
            "|      Broomfield, CO|    1|\n",
            "|          Albany, NY|    1|\n",
            "|       Cambridge, MA|    1|\n",
            "+--------------------+-----+\n",
            "\n"
          ]
        }
      ]
    },
    {
      "cell_type": "markdown",
      "source": [
        "Nada a fazer."
      ],
      "metadata": {
        "id": "fRq74yIg9Ian"
      }
    },
    {
      "cell_type": "markdown",
      "source": [
        "### Análise de `'company_size'`:"
      ],
      "metadata": {
        "id": "EnlZGeFK9K1Y"
      }
    },
    {
      "cell_type": "code",
      "source": [
        "dados\\\n",
        "    .select('company_size')\\\n",
        "    .groupBy('company_size')\\\n",
        "    .count()\\\n",
        "    .sort(desc('count'))\\\n",
        "    .show(100)"
      ],
      "metadata": {
        "colab": {
          "base_uri": "https://localhost:8080/"
        },
        "id": "ZBliEjpQ9g1x",
        "outputId": "48987428-0211-4c82-a102-53a050d9c0eb"
      },
      "execution_count": 49,
      "outputs": [
        {
          "output_type": "stream",
          "name": "stdout",
          "text": [
            "+--------------------+-----+\n",
            "|        company_size|count|\n",
            "+--------------------+-----+\n",
            "|   1 to 50 Employees|  126|\n",
            "| 51 to 200 Employees|   96|\n",
            "|201 to 500 Employees|   62|\n",
            "|                #N/A|   37|\n",
            "|1001 to 5000 Empl...|   29|\n",
            "|    10000+ Employees|   15|\n",
            "|501 to 1000 Emplo...|   15|\n",
            "|5001 to 10000 Emp...|   12|\n",
            "|             Unknown|   11|\n",
            "+--------------------+-----+\n",
            "\n"
          ]
        }
      ]
    },
    {
      "cell_type": "code",
      "source": [
        "dados = dados\\\n",
        "    .withColumn('company_size', when(dados['company_size'] == 'Unknown', '#N/A')\\\n",
        "                .otherwise(dados['company_size']))"
      ],
      "metadata": {
        "id": "sJ_EVH8b-rvF"
      },
      "execution_count": 50,
      "outputs": []
    },
    {
      "cell_type": "code",
      "source": [
        "dados\\\n",
        "    .select('company_size')\\\n",
        "    .groupBy('company_size')\\\n",
        "    .count()\\\n",
        "    .sort(desc('count'))\\\n",
        "    .show(100)"
      ],
      "metadata": {
        "colab": {
          "base_uri": "https://localhost:8080/"
        },
        "id": "EMDqmVzdAVJS",
        "outputId": "0b5df7c2-5f0b-4495-e4bc-fb8715d993fe"
      },
      "execution_count": 51,
      "outputs": [
        {
          "output_type": "stream",
          "name": "stdout",
          "text": [
            "+--------------------+-----+\n",
            "|        company_size|count|\n",
            "+--------------------+-----+\n",
            "|   1 to 50 Employees|  126|\n",
            "| 51 to 200 Employees|   96|\n",
            "|201 to 500 Employees|   62|\n",
            "|                #N/A|   48|\n",
            "|1001 to 5000 Empl...|   29|\n",
            "|    10000+ Employees|   15|\n",
            "|501 to 1000 Emplo...|   15|\n",
            "|5001 to 10000 Emp...|   12|\n",
            "+--------------------+-----+\n",
            "\n"
          ]
        }
      ]
    },
    {
      "cell_type": "markdown",
      "source": [
        "### Análise de `'company_type'`:"
      ],
      "metadata": {
        "id": "EBQdl588Aux8"
      }
    },
    {
      "cell_type": "code",
      "source": [
        "dados\\\n",
        "    .select('company_type')\\\n",
        "    .groupBy('company_type')\\\n",
        "    .count()\\\n",
        "    .sort(desc('count'))\\\n",
        "    .show(truncate=False)"
      ],
      "metadata": {
        "colab": {
          "base_uri": "https://localhost:8080/"
        },
        "outputId": "3b51c71a-dbf7-458d-ce1e-e5f87c886418",
        "id": "2ZJtUyRcAux-"
      },
      "execution_count": 52,
      "outputs": [
        {
          "output_type": "stream",
          "name": "stdout",
          "text": [
            "+------------------------------+-----+\n",
            "|company_type                  |count|\n",
            "+------------------------------+-----+\n",
            "|Company - Private             |281  |\n",
            "|Company - Public              |69   |\n",
            "|#N/A                          |37   |\n",
            "|Subsidiary or Business Segment|10   |\n",
            "|Private Practice / Firm       |4    |\n",
            "|Contract                      |1    |\n",
            "|Non-profit Organisation       |1    |\n",
            "+------------------------------+-----+\n",
            "\n"
          ]
        }
      ]
    },
    {
      "cell_type": "markdown",
      "source": [
        "### Análise de `'company_sector'`:"
      ],
      "metadata": {
        "id": "mQgsSfcACJBG"
      }
    },
    {
      "cell_type": "code",
      "source": [
        "dados\\\n",
        "    .select('company_sector')\\\n",
        "    .groupBy('company_sector')\\\n",
        "    .count()\\\n",
        "    .sort(desc('count'))\\\n",
        "    .show(truncate=False)"
      ],
      "metadata": {
        "colab": {
          "base_uri": "https://localhost:8080/"
        },
        "outputId": "00d0cb34-2821-45cd-d5da-5a6ab538b512",
        "id": "6CwsLsIiCJBG"
      },
      "execution_count": 53,
      "outputs": [
        {
          "output_type": "stream",
          "name": "stdout",
          "text": [
            "+------------------------------+-----+\n",
            "|company_sector                |count|\n",
            "+------------------------------+-----+\n",
            "|Information Technology        |205  |\n",
            "|#N/A                          |112  |\n",
            "|Finance                       |18   |\n",
            "|Human Resources & Staffing    |16   |\n",
            "|Transportation & Logistics    |13   |\n",
            "|Management & Consulting       |13   |\n",
            "|Retail & Wholesale            |9    |\n",
            "|Healthcare                    |7    |\n",
            "|Pharmaceutical & Biotechnology|3    |\n",
            "|Manufacturing                 |3    |\n",
            "|Insurance                     |2    |\n",
            "|Legal                         |1    |\n",
            "|Media & Communication         |1    |\n",
            "+------------------------------+-----+\n",
            "\n"
          ]
        }
      ]
    },
    {
      "cell_type": "code",
      "source": [
        "dados.limit(3).toPandas()"
      ],
      "metadata": {
        "colab": {
          "base_uri": "https://localhost:8080/",
          "height": 346
        },
        "id": "GkAlH1mgDCg8",
        "outputId": "ae2d04f9-82b0-44e2-da7a-2d265312f2d3"
      },
      "execution_count": 54,
      "outputs": [
        {
          "output_type": "execute_result",
          "data": {
            "text/plain": [
              "             company              job_title         location  \\\n",
              "0        DataPattern      Sr. Data Engineer  Los Angeles, CA   \n",
              "1  YT Global Network  Data Engineer- Remote           Remote   \n",
              "2       Wevision LLC          Data Engineer       Irvine, CA   \n",
              "\n",
              "                                     job_description       company_size  \\\n",
              "0  Responsibilities\\n● Contribute to the design a...  1 to 50 Employees   \n",
              "1  Data Engineer- Remote\\nRole: Data and Analytic...               #N/A   \n",
              "2  Job description\\nWe build services, data platf...  1 to 50 Employees   \n",
              "\n",
              "        company_type company_sector company_industry company_founded  \\\n",
              "0   Company - Public           #N/A             #N/A            #N/A   \n",
              "1   Company - Public           #N/A             #N/A            #N/A   \n",
              "2  Company - Private           #N/A             #N/A            #N/A   \n",
              "\n",
              "            company_revenue  salary_avg  \n",
              "0  Unknown / Non-Applicable    145600.0  \n",
              "1  Unknown / Non-Applicable    218400.0  \n",
              "2  Unknown / Non-Applicable    145600.0  "
            ],
            "text/html": [
              "\n",
              "  <div id=\"df-a11e4317-a930-497c-8b9b-81e6549f515b\">\n",
              "    <div class=\"colab-df-container\">\n",
              "      <div>\n",
              "<style scoped>\n",
              "    .dataframe tbody tr th:only-of-type {\n",
              "        vertical-align: middle;\n",
              "    }\n",
              "\n",
              "    .dataframe tbody tr th {\n",
              "        vertical-align: top;\n",
              "    }\n",
              "\n",
              "    .dataframe thead th {\n",
              "        text-align: right;\n",
              "    }\n",
              "</style>\n",
              "<table border=\"1\" class=\"dataframe\">\n",
              "  <thead>\n",
              "    <tr style=\"text-align: right;\">\n",
              "      <th></th>\n",
              "      <th>company</th>\n",
              "      <th>job_title</th>\n",
              "      <th>location</th>\n",
              "      <th>job_description</th>\n",
              "      <th>company_size</th>\n",
              "      <th>company_type</th>\n",
              "      <th>company_sector</th>\n",
              "      <th>company_industry</th>\n",
              "      <th>company_founded</th>\n",
              "      <th>company_revenue</th>\n",
              "      <th>salary_avg</th>\n",
              "    </tr>\n",
              "  </thead>\n",
              "  <tbody>\n",
              "    <tr>\n",
              "      <th>0</th>\n",
              "      <td>DataPattern</td>\n",
              "      <td>Sr. Data Engineer</td>\n",
              "      <td>Los Angeles, CA</td>\n",
              "      <td>Responsibilities\\n● Contribute to the design a...</td>\n",
              "      <td>1 to 50 Employees</td>\n",
              "      <td>Company - Public</td>\n",
              "      <td>#N/A</td>\n",
              "      <td>#N/A</td>\n",
              "      <td>#N/A</td>\n",
              "      <td>Unknown / Non-Applicable</td>\n",
              "      <td>145600.0</td>\n",
              "    </tr>\n",
              "    <tr>\n",
              "      <th>1</th>\n",
              "      <td>YT Global Network</td>\n",
              "      <td>Data Engineer- Remote</td>\n",
              "      <td>Remote</td>\n",
              "      <td>Data Engineer- Remote\\nRole: Data and Analytic...</td>\n",
              "      <td>#N/A</td>\n",
              "      <td>Company - Public</td>\n",
              "      <td>#N/A</td>\n",
              "      <td>#N/A</td>\n",
              "      <td>#N/A</td>\n",
              "      <td>Unknown / Non-Applicable</td>\n",
              "      <td>218400.0</td>\n",
              "    </tr>\n",
              "    <tr>\n",
              "      <th>2</th>\n",
              "      <td>Wevision LLC</td>\n",
              "      <td>Data Engineer</td>\n",
              "      <td>Irvine, CA</td>\n",
              "      <td>Job description\\nWe build services, data platf...</td>\n",
              "      <td>1 to 50 Employees</td>\n",
              "      <td>Company - Private</td>\n",
              "      <td>#N/A</td>\n",
              "      <td>#N/A</td>\n",
              "      <td>#N/A</td>\n",
              "      <td>Unknown / Non-Applicable</td>\n",
              "      <td>145600.0</td>\n",
              "    </tr>\n",
              "  </tbody>\n",
              "</table>\n",
              "</div>\n",
              "      <button class=\"colab-df-convert\" onclick=\"convertToInteractive('df-a11e4317-a930-497c-8b9b-81e6549f515b')\"\n",
              "              title=\"Convert this dataframe to an interactive table.\"\n",
              "              style=\"display:none;\">\n",
              "        \n",
              "  <svg xmlns=\"http://www.w3.org/2000/svg\" height=\"24px\"viewBox=\"0 0 24 24\"\n",
              "       width=\"24px\">\n",
              "    <path d=\"M0 0h24v24H0V0z\" fill=\"none\"/>\n",
              "    <path d=\"M18.56 5.44l.94 2.06.94-2.06 2.06-.94-2.06-.94-.94-2.06-.94 2.06-2.06.94zm-11 1L8.5 8.5l.94-2.06 2.06-.94-2.06-.94L8.5 2.5l-.94 2.06-2.06.94zm10 10l.94 2.06.94-2.06 2.06-.94-2.06-.94-.94-2.06-.94 2.06-2.06.94z\"/><path d=\"M17.41 7.96l-1.37-1.37c-.4-.4-.92-.59-1.43-.59-.52 0-1.04.2-1.43.59L10.3 9.45l-7.72 7.72c-.78.78-.78 2.05 0 2.83L4 21.41c.39.39.9.59 1.41.59.51 0 1.02-.2 1.41-.59l7.78-7.78 2.81-2.81c.8-.78.8-2.07 0-2.86zM5.41 20L4 18.59l7.72-7.72 1.47 1.35L5.41 20z\"/>\n",
              "  </svg>\n",
              "      </button>\n",
              "      \n",
              "  <style>\n",
              "    .colab-df-container {\n",
              "      display:flex;\n",
              "      flex-wrap:wrap;\n",
              "      gap: 12px;\n",
              "    }\n",
              "\n",
              "    .colab-df-convert {\n",
              "      background-color: #E8F0FE;\n",
              "      border: none;\n",
              "      border-radius: 50%;\n",
              "      cursor: pointer;\n",
              "      display: none;\n",
              "      fill: #1967D2;\n",
              "      height: 32px;\n",
              "      padding: 0 0 0 0;\n",
              "      width: 32px;\n",
              "    }\n",
              "\n",
              "    .colab-df-convert:hover {\n",
              "      background-color: #E2EBFA;\n",
              "      box-shadow: 0px 1px 2px rgba(60, 64, 67, 0.3), 0px 1px 3px 1px rgba(60, 64, 67, 0.15);\n",
              "      fill: #174EA6;\n",
              "    }\n",
              "\n",
              "    [theme=dark] .colab-df-convert {\n",
              "      background-color: #3B4455;\n",
              "      fill: #D2E3FC;\n",
              "    }\n",
              "\n",
              "    [theme=dark] .colab-df-convert:hover {\n",
              "      background-color: #434B5C;\n",
              "      box-shadow: 0px 1px 3px 1px rgba(0, 0, 0, 0.15);\n",
              "      filter: drop-shadow(0px 1px 2px rgba(0, 0, 0, 0.3));\n",
              "      fill: #FFFFFF;\n",
              "    }\n",
              "  </style>\n",
              "\n",
              "      <script>\n",
              "        const buttonEl =\n",
              "          document.querySelector('#df-a11e4317-a930-497c-8b9b-81e6549f515b button.colab-df-convert');\n",
              "        buttonEl.style.display =\n",
              "          google.colab.kernel.accessAllowed ? 'block' : 'none';\n",
              "\n",
              "        async function convertToInteractive(key) {\n",
              "          const element = document.querySelector('#df-a11e4317-a930-497c-8b9b-81e6549f515b');\n",
              "          const dataTable =\n",
              "            await google.colab.kernel.invokeFunction('convertToInteractive',\n",
              "                                                     [key], {});\n",
              "          if (!dataTable) return;\n",
              "\n",
              "          const docLinkHtml = 'Like what you see? Visit the ' +\n",
              "            '<a target=\"_blank\" href=https://colab.research.google.com/notebooks/data_table.ipynb>data table notebook</a>'\n",
              "            + ' to learn more about interactive tables.';\n",
              "          element.innerHTML = '';\n",
              "          dataTable['output_type'] = 'display_data';\n",
              "          await google.colab.output.renderOutput(dataTable, element);\n",
              "          const docLink = document.createElement('div');\n",
              "          docLink.innerHTML = docLinkHtml;\n",
              "          element.appendChild(docLink);\n",
              "        }\n",
              "      </script>\n",
              "    </div>\n",
              "  </div>\n",
              "  "
            ]
          },
          "metadata": {},
          "execution_count": 54
        }
      ]
    },
    {
      "cell_type": "markdown",
      "source": [
        "### Análise de `'company_industry'`:\n",
        "\n"
      ],
      "metadata": {
        "id": "2IeEuXdSDMWe"
      }
    },
    {
      "cell_type": "code",
      "source": [
        "dados\\\n",
        "    .select('company_industry')\\\n",
        "    .groupBy('company_industry')\\\n",
        "    .count()\\\n",
        "    .sort(desc('count'))\\\n",
        "    .show(truncate=False)"
      ],
      "metadata": {
        "colab": {
          "base_uri": "https://localhost:8080/"
        },
        "outputId": "1eafbe07-6336-4ddd-aeb5-e59527f4aab7",
        "id": "6RdUwZAWDMWf"
      },
      "execution_count": 55,
      "outputs": [
        {
          "output_type": "stream",
          "name": "stdout",
          "text": [
            "+---------------------------------------+-----+\n",
            "|company_industry                       |count|\n",
            "+---------------------------------------+-----+\n",
            "|Information Technology Support Services|129  |\n",
            "|#N/A                                   |112  |\n",
            "|Computer Hardware Development          |29   |\n",
            "|Software Development                   |22   |\n",
            "|Enterprise Software & Network Solutions|21   |\n",
            "|Investment & Asset Management          |14   |\n",
            "|Business Consulting                    |13   |\n",
            "|Shipping & Trucking                    |12   |\n",
            "|Staffing, Recruitment & Subcontracting |11   |\n",
            "|Healthcare Services & Hospitals        |7    |\n",
            "|Automotive Parts & Accessories Stores  |6    |\n",
            "|HR Consulting                          |5    |\n",
            "|Internet & Web Services                |4    |\n",
            "|Biotech & Pharmaceuticals              |3    |\n",
            "|Grocery Stores                         |2    |\n",
            "|Banking & Lending                      |2    |\n",
            "|Accounting & Tax                       |2    |\n",
            "|Machinery Manufacturing                |2    |\n",
            "|Broadcast Media                        |1    |\n",
            "|Insurance Carriers                     |1    |\n",
            "+---------------------------------------+-----+\n",
            "only showing top 20 rows\n",
            "\n"
          ]
        }
      ]
    },
    {
      "cell_type": "markdown",
      "source": [
        "### Dados faltantes\n",
        "\n",
        "[Functions](https://spark.apache.org/docs/latest/api/python/reference/pyspark.sql.html#functions)\n"
      ],
      "metadata": {
        "id": "lA0QydxEij3D"
      }
    },
    {
      "cell_type": "code",
      "source": [
        "import pyspark.sql.functions as f"
      ],
      "metadata": {
        "id": "yhKW5kLeUe28"
      },
      "execution_count": 56,
      "outputs": []
    },
    {
      "cell_type": "code",
      "source": [
        "dados\\\n",
        "    .select([f.count(f.when(f.isnan(c) | f.isnull(c), True)).alias(c) for c in dados.columns])\\\n",
        "    .show()"
      ],
      "metadata": {
        "id": "19VOMNHcWBxr",
        "colab": {
          "base_uri": "https://localhost:8080/"
        },
        "outputId": "2dfc7c23-45e8-4b6a-d9f5-8e89f5d81ee6"
      },
      "execution_count": 57,
      "outputs": [
        {
          "output_type": "stream",
          "name": "stdout",
          "text": [
            "+-------+---------+--------+---------------+------------+------------+--------------+----------------+---------------+---------------+----------+\n",
            "|company|job_title|location|job_description|company_size|company_type|company_sector|company_industry|company_founded|company_revenue|salary_avg|\n",
            "+-------+---------+--------+---------------+------------+------------+--------------+----------------+---------------+---------------+----------+\n",
            "|      0|        0|       0|              0|           0|           0|             0|               0|              0|              0|         0|\n",
            "+-------+---------+--------+---------------+------------+------------+--------------+----------------+---------------+---------------+----------+\n",
            "\n"
          ]
        }
      ]
    },
    {
      "cell_type": "markdown",
      "source": [
        "## Gerando uma nova feature: `senioridade`"
      ],
      "metadata": {
        "id": "Q-DT3XCjKTQp"
      }
    },
    {
      "cell_type": "markdown",
      "source": [
        "Realiza-se uma varredura pelas colunas `'job_title'` e `'job_description'` para verificar a existência de menções à senioridade da vaga:"
      ],
      "metadata": {
        "id": "6ptRBjyGTBxS"
      }
    },
    {
      "cell_type": "code",
      "source": [
        "from functools import reduce"
      ],
      "metadata": {
        "id": "9cB9rra-JyLv"
      },
      "execution_count": 58,
      "outputs": []
    },
    {
      "cell_type": "code",
      "source": [
        "sr_exp_title = reduce(lambda a, b: a | b, [\n",
        "    dados['job_title'].rlike(\"(?i)sr\"),\n",
        "    dados['job_title'].rlike(\"(?i)senior\"),\n",
        "    dados['job_title'].rlike(\"(?i)lead\"),\n",
        "    dados['job_title'].rlike(\"(?i)principal\"),\n",
        "    dados['job_title'].rlike(\"(?i)manager\")\n",
        "])\n",
        "\n",
        "jr_exp_title = reduce(lambda a, b: a | b, [\n",
        "    dados['job_title'].rlike(\"(?i)jr\"),\n",
        "    dados['job_title'].rlike(\"(?i)junior\"),\n",
        "    dados['job_title'].rlike(\"(?i)entry\"),\n",
        "    dados['job_title'].rlike(\"(?i)associate\"),\n",
        "    dados['job_title'].rlike(\"(?i)intern\")\n",
        "])\n",
        "\n",
        "sr_exp_desc = reduce(lambda a, b: a | b, [\n",
        "    dados['job_description'].rlike(\"(?i)sr\"),\n",
        "    dados['job_description'].rlike(\"(?i)senior\"),\n",
        "    dados['job_description'].rlike(\"(?i)lead\"),\n",
        "    dados['job_description'].rlike(\"(?i)principal\"),\n",
        "    dados['job_description'].rlike(\"(?i)manager\")\n",
        "])\n",
        "\n",
        "\n",
        "jr_exp_desc = reduce(lambda a, b: a | b, [\n",
        "    dados['job_description'].rlike(\"(?i)jr\"),\n",
        "    dados['job_description'].rlike(\"(?i)junior\"),\n",
        "    dados['job_description'].rlike(\"(?i)entry\"),\n",
        "    dados['job_description'].rlike(\"(?i)associate\"),\n",
        "    dados['job_description'].rlike(\"(?i)intern\")\n",
        "])"
      ],
      "metadata": {
        "id": "JL4LkldaJkih"
      },
      "execution_count": 59,
      "outputs": []
    },
    {
      "cell_type": "code",
      "source": [
        "dados = dados\\\n",
        "    .withColumn('seniority_by_title', when(sr_exp_title, 'Senior').when(jr_exp_title, 'Junior').otherwise(None))\\\n",
        "    .withColumn('seniority_by_desc', when(sr_exp_desc, 'Senior').when(jr_exp_desc, 'Junior').otherwise(None))"
      ],
      "metadata": {
        "id": "JpUiMPZlHw-I"
      },
      "execution_count": 60,
      "outputs": []
    },
    {
      "cell_type": "code",
      "source": [
        "dados\\\n",
        "    .select('seniority_by_title')\\\n",
        "    .groupBy('seniority_by_title')\\\n",
        "    .count()\\\n",
        "    .sort(desc('count'))\\\n",
        "    .show(truncate=False)\n",
        "\n",
        "dados\\\n",
        "    .select('seniority_by_desc')\\\n",
        "    .groupBy('seniority_by_desc')\\\n",
        "    .count()\\\n",
        "    .sort(desc('count'))\\\n",
        "    .show(truncate=False)"
      ],
      "metadata": {
        "colab": {
          "base_uri": "https://localhost:8080/"
        },
        "id": "KKeXoODYNX_h",
        "outputId": "5b51a78e-b511-492b-c14d-d92e053e6205"
      },
      "execution_count": 61,
      "outputs": [
        {
          "output_type": "stream",
          "name": "stdout",
          "text": [
            "+------------------+-----+\n",
            "|seniority_by_title|count|\n",
            "+------------------+-----+\n",
            "|null              |241  |\n",
            "|Senior            |158  |\n",
            "|Junior            |4    |\n",
            "+------------------+-----+\n",
            "\n",
            "+-----------------+-----+\n",
            "|seniority_by_desc|count|\n",
            "+-----------------+-----+\n",
            "|Senior           |248  |\n",
            "|null             |136  |\n",
            "|Junior           |19   |\n",
            "+-----------------+-----+\n",
            "\n"
          ]
        }
      ]
    },
    {
      "cell_type": "markdown",
      "source": [
        "**Regras para escolher a informação de senioridade:**\n",
        "\n",
        "1. Prioriza-se as atribuições da descrição dada pelo *título da vaga* por serem explícitas\n",
        "2. Quando as senioridades são iguais nas duas colunas, mantém-se-a\n",
        "3. Quando a senioridade no título é nula e da descrição não, aproveita-se a serionidade capturada na descrição\n",
        "4. os demais casos são considerados vagas plenas (Mid-level)"
      ],
      "metadata": {
        "id": "nl4c4NF-TDyB"
      }
    },
    {
      "cell_type": "code",
      "source": [
        "dados = dados\\\n",
        "    .withColumn(\n",
        "        'seniority',\n",
        "        when(dados['seniority_by_title'].isNotNull(), dados['seniority_by_title'])\\\n",
        "        .when(dados['seniority_by_title'] == dados['seniority_by_desc'], dados['seniority_by_title'])\\\n",
        "        .when(dados['seniority_by_title'].isNull() & dados['seniority_by_desc'].isNotNull(), dados['seniority_by_desc'])\\\n",
        "        .otherwise('Mid'))"
      ],
      "metadata": {
        "id": "SR3iQkBEi6Za"
      },
      "execution_count": 62,
      "outputs": []
    },
    {
      "cell_type": "code",
      "source": [
        "dados\\\n",
        "    .select('seniority')\\\n",
        "    .groupBy('seniority')\\\n",
        "    .count()\\\n",
        "    .orderBy(desc('count'))\\\n",
        "    .show()"
      ],
      "metadata": {
        "colab": {
          "base_uri": "https://localhost:8080/"
        },
        "id": "7BXWHAv7RIgs",
        "outputId": "944ac91c-8679-4ed1-a610-c83d95e1e105"
      },
      "execution_count": 63,
      "outputs": [
        {
          "output_type": "stream",
          "name": "stdout",
          "text": [
            "+---------+-----+\n",
            "|seniority|count|\n",
            "+---------+-----+\n",
            "|   Senior|  276|\n",
            "|      Mid|  106|\n",
            "|   Junior|   21|\n",
            "+---------+-----+\n",
            "\n"
          ]
        }
      ]
    },
    {
      "cell_type": "markdown",
      "source": [
        "## Gerando uma nova feature: `skills`\n"
      ],
      "metadata": {
        "id": "kVdY1LTrnZzG"
      }
    },
    {
      "cell_type": "markdown",
      "source": [
        "Listei algumas ferramentas de Engenharia de Dados muito requisitadas pelo mercado e agreguei a ocorrência delas em `'job_description'` na coluna `'skills'` através de uma lista:\n"
      ],
      "metadata": {
        "id": "paFmRG_jybiP"
      }
    },
    {
      "cell_type": "code",
      "source": [
        "tools = ['AWS',    'GCP',    'Azure',    'Snowflake',    'Databricks',    'Airflow',    'NiFi',    'Talend',    'StreamSets',    'AWS Glue',    'Python',    'SQL',    'Java',    'Scala',    'Bash',    'Spark',    'Hadoop',    'Flink',    'Kafka',    'Presto',    'PostgreSQL',    'MySQL',    'Oracle',    'MongoDB',    'Cassandra',    'Git',    'Jupyter Notebook',    'Tableau',    'Grafana',    'TensorFlow']\n",
        "\n",
        "tools = [tool.lower() for tool in tools]"
      ],
      "metadata": {
        "id": "ygZK2UCUipRf"
      },
      "execution_count": 64,
      "outputs": []
    },
    {
      "cell_type": "code",
      "source": [
        "from pyspark.sql.functions import array, lower"
      ],
      "metadata": {
        "id": "VUpQgXpRuXmV"
      },
      "execution_count": 65,
      "outputs": []
    },
    {
      "cell_type": "code",
      "source": [
        "dados\\\n",
        "    .withColumn('skills', array(*[when(lower(dados['job_description']).contains(tool), 1).otherwise(0) for tool in tools]))\\\n",
        "    .show(5)"
      ],
      "metadata": {
        "colab": {
          "base_uri": "https://localhost:8080/"
        },
        "id": "Jq3KxM4Ov9rm",
        "outputId": "a8177309-e2f9-4695-df4e-48d1f5949ea2"
      },
      "execution_count": 66,
      "outputs": [
        {
          "output_type": "stream",
          "name": "stdout",
          "text": [
            "+-------------------+--------------------+---------------+--------------------+-------------------+-----------------+--------------------+--------------------+---------------+--------------------+----------+------------------+-----------------+---------+--------------------+\n",
            "|            company|           job_title|       location|     job_description|       company_size|     company_type|      company_sector|    company_industry|company_founded|     company_revenue|salary_avg|seniority_by_title|seniority_by_desc|seniority|              skills|\n",
            "+-------------------+--------------------+---------------+--------------------+-------------------+-----------------+--------------------+--------------------+---------------+--------------------+----------+------------------+-----------------+---------+--------------------+\n",
            "|        DataPattern|   Sr. Data Engineer|Los Angeles, CA|Responsibilities\n",
            "...|  1 to 50 Employees| Company - Public|                #N/A|                #N/A|           #N/A|Unknown / Non-App...|  145600.0|            Senior|           Senior|   Senior|[1, 0, 0, 1, 0, 1...|\n",
            "|  YT Global Network|Data Engineer- Re...|         Remote|Data Engineer- Re...|               #N/A| Company - Public|                #N/A|                #N/A|           #N/A|Unknown / Non-App...|  218400.0|              null|           Junior|   Junior|[1, 0, 0, 1, 0, 0...|\n",
            "|       Wevision LLC|       Data Engineer|     Irvine, CA|Job description\n",
            "W...|  1 to 50 Employees|Company - Private|                #N/A|                #N/A|           #N/A|Unknown / Non-App...|  145600.0|              null|           Senior|   Senior|[1, 0, 0, 0, 0, 1...|\n",
            "|kairos technologies|       Data Engineer|     Boston, MA|Job Title: Data E...|51 to 200 Employees|Company - Private|Information Techn...|Information Techn...|           2003|$5 to $25 million...|  133120.0|              null|             null|      Mid|[1, 0, 0, 0, 0, 0...|\n",
            "|     Konnectingtree|       Data Engineer|         Remote|Greetings from Ko...|  1 to 50 Employees| Company - Public|                #N/A|                #N/A|           #N/A|Unknown / Non-App...|   98800.0|              null|             null|      Mid|[1, 0, 0, 0, 0, 0...|\n",
            "+-------------------+--------------------+---------------+--------------------+-------------------+-----------------+--------------------+--------------------+---------------+--------------------+----------+------------------+-----------------+---------+--------------------+\n",
            "only showing top 5 rows\n",
            "\n"
          ]
        }
      ]
    },
    {
      "cell_type": "code",
      "source": [
        "dados = dados\\\n",
        "    .withColumn('skills', array(*[when(lower(dados['job_description']).contains(tool), 1).otherwise(0) for tool in tools]))"
      ],
      "metadata": {
        "id": "KdK-Uso70_XK"
      },
      "execution_count": 67,
      "outputs": []
    },
    {
      "cell_type": "markdown",
      "source": [
        "## Gerando uma nova feature: `work_mode`\n"
      ],
      "metadata": {
        "id": "74BRmm4kl5_T"
      }
    },
    {
      "cell_type": "markdown",
      "source": [
        "Busca para saber se existe a possibilidade de trabalho remoto:\n"
      ],
      "metadata": {
        "id": "7gAj3HWYl5_W"
      }
    },
    {
      "cell_type": "code",
      "source": [
        "remote_exp = ['Telecommute',    'Remote',    'Virtual office',    'Teleworking',    'Work from home', 'Distributed team', 'Off site']\n",
        "onsite_exp = ['On-site',    'In-person',    'Office based',    'Desk job',    'Workplace-based', 'Location-based']\n",
        "\n",
        "remote_exp = [r.lower().replace('-',' ') for r in remote_exp]\n",
        "onsite_exp = [o.lower().replace('-',' ') for o in onsite_exp]"
      ],
      "metadata": {
        "id": "Ts6pKf8sl5_X"
      },
      "execution_count": 68,
      "outputs": []
    },
    {
      "cell_type": "code",
      "source": [
        "dados\\\n",
        "    .withColumn('remote0', array(*[when(lower(dados['job_description']).contains(r), 1).otherwise(0) for r in remote_exp]))\\\n",
        "    .withColumn('onsite0', array(*[when(lower(dados['job_description']).contains(o), 1).otherwise(0) for o in onsite_exp]))\\\n",
        "    .show(5)"
      ],
      "metadata": {
        "colab": {
          "base_uri": "https://localhost:8080/"
        },
        "id": "zI_fbIg50PXD",
        "outputId": "4be1dfe4-d1ff-4ea0-d1a5-dbdde6329bcf"
      },
      "execution_count": 69,
      "outputs": [
        {
          "output_type": "stream",
          "name": "stdout",
          "text": [
            "+-------------------+--------------------+---------------+--------------------+-------------------+-----------------+--------------------+--------------------+---------------+--------------------+----------+------------------+-----------------+---------+--------------------+--------------------+------------------+\n",
            "|            company|           job_title|       location|     job_description|       company_size|     company_type|      company_sector|    company_industry|company_founded|     company_revenue|salary_avg|seniority_by_title|seniority_by_desc|seniority|              skills|             remote0|           onsite0|\n",
            "+-------------------+--------------------+---------------+--------------------+-------------------+-----------------+--------------------+--------------------+---------------+--------------------+----------+------------------+-----------------+---------+--------------------+--------------------+------------------+\n",
            "|        DataPattern|   Sr. Data Engineer|Los Angeles, CA|Responsibilities\n",
            "...|  1 to 50 Employees| Company - Public|                #N/A|                #N/A|           #N/A|Unknown / Non-App...|  145600.0|            Senior|           Senior|   Senior|[1, 0, 0, 1, 0, 1...|[0, 0, 0, 0, 0, 0...|[0, 0, 0, 0, 0, 0]|\n",
            "|  YT Global Network|Data Engineer- Re...|         Remote|Data Engineer- Re...|               #N/A| Company - Public|                #N/A|                #N/A|           #N/A|Unknown / Non-App...|  218400.0|              null|           Junior|   Junior|[1, 0, 0, 1, 0, 0...|[0, 1, 0, 0, 0, 0...|[0, 0, 0, 0, 0, 0]|\n",
            "|       Wevision LLC|       Data Engineer|     Irvine, CA|Job description\n",
            "W...|  1 to 50 Employees|Company - Private|                #N/A|                #N/A|           #N/A|Unknown / Non-App...|  145600.0|              null|           Senior|   Senior|[1, 0, 0, 0, 0, 1...|[0, 1, 0, 0, 0, 0...|[0, 0, 0, 0, 0, 0]|\n",
            "|kairos technologies|       Data Engineer|     Boston, MA|Job Title: Data E...|51 to 200 Employees|Company - Private|Information Techn...|Information Techn...|           2003|$5 to $25 million...|  133120.0|              null|             null|      Mid|[1, 0, 0, 0, 0, 0...|[0, 0, 0, 0, 0, 0...|[0, 0, 0, 0, 0, 0]|\n",
            "|     Konnectingtree|       Data Engineer|         Remote|Greetings from Ko...|  1 to 50 Employees| Company - Public|                #N/A|                #N/A|           #N/A|Unknown / Non-App...|   98800.0|              null|             null|      Mid|[1, 0, 0, 0, 0, 0...|[0, 1, 0, 0, 0, 0...|[0, 0, 0, 0, 0, 0]|\n",
            "+-------------------+--------------------+---------------+--------------------+-------------------+-----------------+--------------------+--------------------+---------------+--------------------+----------+------------------+-----------------+---------+--------------------+--------------------+------------------+\n",
            "only showing top 5 rows\n",
            "\n"
          ]
        }
      ]
    },
    {
      "cell_type": "code",
      "source": [
        "dados = dados\\\n",
        "    .withColumn('remote0', array(*[when(lower(dados['job_description']).contains(r), 1).otherwise(0) for r in remote_exp]))\\\n",
        "    .withColumn('onsite0', array(*[when(lower(dados['job_description']).contains(o), 1).otherwise(0) for o in onsite_exp]))"
      ],
      "metadata": {
        "id": "6r3vmJg2xw6P"
      },
      "execution_count": 70,
      "outputs": []
    },
    {
      "cell_type": "code",
      "source": [
        "from pyspark.sql.functions import udf\n",
        "from pyspark.sql.types import IntegerType\n",
        "\n",
        "def bin_reduce(mode_list):\n",
        "    return reduce(lambda a, b: a|b, mode_list)\n",
        "\n",
        "bin_reduce_udf = udf(bin_reduce, IntegerType())"
      ],
      "metadata": {
        "id": "lUIeaib2l5_Y"
      },
      "execution_count": 71,
      "outputs": []
    },
    {
      "cell_type": "code",
      "source": [
        "dados\\\n",
        "    .withColumn('remote0', bin_reduce_udf(dados['remote0']))\\\n",
        "    .withColumn('onsite0', bin_reduce_udf(dados['onsite0']))\\\n",
        "    .show(5)"
      ],
      "metadata": {
        "colab": {
          "base_uri": "https://localhost:8080/"
        },
        "id": "WzgqVwzwu6WX",
        "outputId": "549789f3-99ba-422f-c39f-956c3fbd04b4"
      },
      "execution_count": 72,
      "outputs": [
        {
          "output_type": "stream",
          "name": "stdout",
          "text": [
            "+-------------------+--------------------+---------------+--------------------+-------------------+-----------------+--------------------+--------------------+---------------+--------------------+----------+------------------+-----------------+---------+--------------------+-------+-------+\n",
            "|            company|           job_title|       location|     job_description|       company_size|     company_type|      company_sector|    company_industry|company_founded|     company_revenue|salary_avg|seniority_by_title|seniority_by_desc|seniority|              skills|remote0|onsite0|\n",
            "+-------------------+--------------------+---------------+--------------------+-------------------+-----------------+--------------------+--------------------+---------------+--------------------+----------+------------------+-----------------+---------+--------------------+-------+-------+\n",
            "|        DataPattern|   Sr. Data Engineer|Los Angeles, CA|Responsibilities\n",
            "...|  1 to 50 Employees| Company - Public|                #N/A|                #N/A|           #N/A|Unknown / Non-App...|  145600.0|            Senior|           Senior|   Senior|[1, 0, 0, 1, 0, 1...|      0|      0|\n",
            "|  YT Global Network|Data Engineer- Re...|         Remote|Data Engineer- Re...|               #N/A| Company - Public|                #N/A|                #N/A|           #N/A|Unknown / Non-App...|  218400.0|              null|           Junior|   Junior|[1, 0, 0, 1, 0, 0...|      1|      0|\n",
            "|       Wevision LLC|       Data Engineer|     Irvine, CA|Job description\n",
            "W...|  1 to 50 Employees|Company - Private|                #N/A|                #N/A|           #N/A|Unknown / Non-App...|  145600.0|              null|           Senior|   Senior|[1, 0, 0, 0, 0, 1...|      1|      0|\n",
            "|kairos technologies|       Data Engineer|     Boston, MA|Job Title: Data E...|51 to 200 Employees|Company - Private|Information Techn...|Information Techn...|           2003|$5 to $25 million...|  133120.0|              null|             null|      Mid|[1, 0, 0, 0, 0, 0...|      0|      0|\n",
            "|     Konnectingtree|       Data Engineer|         Remote|Greetings from Ko...|  1 to 50 Employees| Company - Public|                #N/A|                #N/A|           #N/A|Unknown / Non-App...|   98800.0|              null|             null|      Mid|[1, 0, 0, 0, 0, 0...|      1|      0|\n",
            "+-------------------+--------------------+---------------+--------------------+-------------------+-----------------+--------------------+--------------------+---------------+--------------------+----------+------------------+-----------------+---------+--------------------+-------+-------+\n",
            "only showing top 5 rows\n",
            "\n"
          ]
        }
      ]
    },
    {
      "cell_type": "code",
      "source": [
        "dados = dados\\\n",
        "    .withColumn('remote0', bin_reduce_udf(dados['remote0']))\\\n",
        "    .withColumn('onsite0', bin_reduce_udf(dados['onsite0']))"
      ],
      "metadata": {
        "id": "InnyVWA5l5_Y"
      },
      "execution_count": 73,
      "outputs": []
    },
    {
      "cell_type": "code",
      "source": [
        "dados\\\n",
        "    .withColumn('remote', when(dados['location'] == 'Remote', 1).otherwise(dados['remote0']))\\\n",
        "    .withColumn('onsite', when(dados['location'] == 'Remote', 0).otherwise(dados['onsite0']))\\\n",
        "    .show(5)"
      ],
      "metadata": {
        "colab": {
          "base_uri": "https://localhost:8080/"
        },
        "id": "Jv2W-BPM1etH",
        "outputId": "e87756dd-0710-469c-d44e-c31d1f4e7412"
      },
      "execution_count": 74,
      "outputs": [
        {
          "output_type": "stream",
          "name": "stdout",
          "text": [
            "+-------------------+--------------------+---------------+--------------------+-------------------+-----------------+--------------------+--------------------+---------------+--------------------+----------+------------------+-----------------+---------+--------------------+-------+-------+------+------+\n",
            "|            company|           job_title|       location|     job_description|       company_size|     company_type|      company_sector|    company_industry|company_founded|     company_revenue|salary_avg|seniority_by_title|seniority_by_desc|seniority|              skills|remote0|onsite0|remote|onsite|\n",
            "+-------------------+--------------------+---------------+--------------------+-------------------+-----------------+--------------------+--------------------+---------------+--------------------+----------+------------------+-----------------+---------+--------------------+-------+-------+------+------+\n",
            "|        DataPattern|   Sr. Data Engineer|Los Angeles, CA|Responsibilities\n",
            "...|  1 to 50 Employees| Company - Public|                #N/A|                #N/A|           #N/A|Unknown / Non-App...|  145600.0|            Senior|           Senior|   Senior|[1, 0, 0, 1, 0, 1...|      0|      0|     0|     0|\n",
            "|  YT Global Network|Data Engineer- Re...|         Remote|Data Engineer- Re...|               #N/A| Company - Public|                #N/A|                #N/A|           #N/A|Unknown / Non-App...|  218400.0|              null|           Junior|   Junior|[1, 0, 0, 1, 0, 0...|      1|      0|     1|     0|\n",
            "|       Wevision LLC|       Data Engineer|     Irvine, CA|Job description\n",
            "W...|  1 to 50 Employees|Company - Private|                #N/A|                #N/A|           #N/A|Unknown / Non-App...|  145600.0|              null|           Senior|   Senior|[1, 0, 0, 0, 0, 1...|      1|      0|     1|     0|\n",
            "|kairos technologies|       Data Engineer|     Boston, MA|Job Title: Data E...|51 to 200 Employees|Company - Private|Information Techn...|Information Techn...|           2003|$5 to $25 million...|  133120.0|              null|             null|      Mid|[1, 0, 0, 0, 0, 0...|      0|      0|     0|     0|\n",
            "|     Konnectingtree|       Data Engineer|         Remote|Greetings from Ko...|  1 to 50 Employees| Company - Public|                #N/A|                #N/A|           #N/A|Unknown / Non-App...|   98800.0|              null|             null|      Mid|[1, 0, 0, 0, 0, 0...|      1|      0|     1|     0|\n",
            "+-------------------+--------------------+---------------+--------------------+-------------------+-----------------+--------------------+--------------------+---------------+--------------------+----------+------------------+-----------------+---------+--------------------+-------+-------+------+------+\n",
            "only showing top 5 rows\n",
            "\n"
          ]
        }
      ]
    },
    {
      "cell_type": "markdown",
      "source": [
        "Tratativa para apenas remoto:"
      ],
      "metadata": {
        "id": "bdU_I8vG_k2m"
      }
    },
    {
      "cell_type": "code",
      "source": [
        "dados = dados\\\n",
        "    .withColumn('remote', when(dados['location'] == 'Remote', 1).otherwise(dados['remote0']))\\\n",
        "    .withColumn('onsite', when(dados['location'] == 'Remote', 0).otherwise(dados['onsite0']))\\\n",
        "    .drop('remote0')\\\n",
        "    .drop('onsite0')"
      ],
      "metadata": {
        "id": "L937gWvK6vO6"
      },
      "execution_count": 75,
      "outputs": []
    },
    {
      "cell_type": "code",
      "source": [
        "dados.show()"
      ],
      "metadata": {
        "colab": {
          "base_uri": "https://localhost:8080/"
        },
        "id": "YFFutK9tBAdJ",
        "outputId": "b58c0b52-6e7e-42a2-bf40-5fba0a1ef92d"
      },
      "execution_count": 76,
      "outputs": [
        {
          "output_type": "stream",
          "name": "stdout",
          "text": [
            "+--------------------+--------------------+----------------+--------------------+--------------------+--------------------+--------------------+--------------------+---------------+--------------------+----------+------------------+-----------------+---------+--------------------+------+------+\n",
            "|             company|           job_title|        location|     job_description|        company_size|        company_type|      company_sector|    company_industry|company_founded|     company_revenue|salary_avg|seniority_by_title|seniority_by_desc|seniority|              skills|remote|onsite|\n",
            "+--------------------+--------------------+----------------+--------------------+--------------------+--------------------+--------------------+--------------------+---------------+--------------------+----------+------------------+-----------------+---------+--------------------+------+------+\n",
            "|         DataPattern|   Sr. Data Engineer| Los Angeles, CA|Responsibilities\n",
            "...|   1 to 50 Employees|    Company - Public|                #N/A|                #N/A|           #N/A|Unknown / Non-App...|  145600.0|            Senior|           Senior|   Senior|[1, 0, 0, 1, 0, 1...|     0|     0|\n",
            "|   YT Global Network|Data Engineer- Re...|          Remote|Data Engineer- Re...|                #N/A|    Company - Public|                #N/A|                #N/A|           #N/A|Unknown / Non-App...|  218400.0|              null|           Junior|   Junior|[1, 0, 0, 1, 0, 0...|     1|     0|\n",
            "|        Wevision LLC|       Data Engineer|      Irvine, CA|Job description\n",
            "W...|   1 to 50 Employees|   Company - Private|                #N/A|                #N/A|           #N/A|Unknown / Non-App...|  145600.0|              null|           Senior|   Senior|[1, 0, 0, 0, 0, 1...|     1|     0|\n",
            "| kairos technologies|       Data Engineer|      Boston, MA|Job Title: Data E...| 51 to 200 Employees|   Company - Private|Information Techn...|Information Techn...|           2003|$5 to $25 million...|  133120.0|              null|             null|      Mid|[1, 0, 0, 0, 0, 0...|     0|     0|\n",
            "|      Konnectingtree|       Data Engineer|          Remote|Greetings from Ko...|   1 to 50 Employees|    Company - Public|                #N/A|                #N/A|           #N/A|Unknown / Non-App...|   98800.0|              null|             null|      Mid|[1, 0, 0, 0, 0, 0...|     1|     0|\n",
            "|         Edmunds.com|       Data Engineer|Santa Monica, CA|Edmunds offers fl...|201 to 500 Employees|   Company - Private|Information Techn...|Internet & Web Se...|           1966|$100 to $500 mill...|  150000.0|              null|           Senior|   Senior|[1, 0, 0, 0, 1, 0...|     1|     0|\n",
            "|Kanini Software S...|       Data Engineer|          Remote|About Kanini\n",
            "Kani...|501 to 1000 Emplo...|   Company - Private|Information Techn...|Enterprise Softwa...|           2003|$5 to $25 million...|  140400.0|              null|           Senior|   Senior|[1, 1, 1, 0, 0, 0...|     1|     0|\n",
            "|         Gridiron IT|       Data Engineer|  Washington, DC|Seeking a Data En...| 51 to 200 Employees|   Company - Private|Information Techn...|Information Techn...|           2017|Unknown / Non-App...|  145600.0|              null|             null|      Mid|[1, 0, 0, 0, 0, 0...|     0|     1|\n",
            "|             STAND 8|       DATA ENGINEER|          Remote|STAND 8 is a glob...|   1 to 50 Employees|   Company - Private|                #N/A|                #N/A|           #N/A|Less than $1 mill...|  135200.0|              null|           Senior|   Senior|[1, 0, 0, 0, 0, 0...|     1|     0|\n",
            "| Radiant Systems Inc| Azure Data Engineer|   Milwaukee, WI|Azure Synapse (no...|201 to 500 Employees|   Company - Private|Information Techn...|Information Techn...|           1995|$25 to $50 millio...|   93500.0|              null|             null|      Mid|[0, 0, 1, 0, 0, 0...|     1|     0|\n",
            "|  Freemind solutions|Big Data Engineer...|          Remote|Required Skillset...|   1 to 50 Employees|    Company - Public|                #N/A|                #N/A|           #N/A|Unknown / Non-App...|  130000.0|              null|           Junior|   Junior|[1, 0, 1, 0, 1, 0...|     1|     0|\n",
            "|       Glow Networks|       Data Engineer|      Dallas, TX|Data Engineer\n",
            "Pay...| 51 to 200 Employees|Subsidiary or Bus...|Information Techn...|Information Techn...|           2003|$5 to $25 million...|  151840.0|              null|           Senior|   Senior|[1, 0, 0, 1, 1, 1...|     0|     0|\n",
            "|Kenco Management ...|       Data Engineer| Chattanooga, TN|About the Positio...|1001 to 5000 Empl...|   Company - Private|Transportation & ...| Shipping & Trucking|           1950|$500 million to $...|   87500.0|              null|           Senior|   Senior|[1, 0, 0, 1, 0, 0...|     1|     0|\n",
            "|         ERPMark Inc|Data Engineer (Sc...| Bentonville, AR|Title: Scala Engi...|   1 to 50 Employees|   Company - Private|Management & Cons...| Business Consulting|           #N/A|Less than $1 mill...|  130000.0|              null|           Senior|   Senior|[0, 1, 0, 0, 0, 1...|     0|     1|\n",
            "|              TikTok|Data Engineer, E-...|    San Jose, CA|Responsibilities\n",
            "...|    10000+ Employees|   Company - Private|Information Techn...|Internet & Web Se...|           2016|Unknown / Non-App...|  200000.0|              null|           Senior|   Senior|[0, 0, 0, 0, 0, 0...|     0|     0|\n",
            "|           BlueOcean|       Data Engineer|          Remote|BlueOcean is a di...|                #N/A|                #N/A|                #N/A|                #N/A|           #N/A|                #N/A|  150000.0|              null|           Senior|   Senior|[1, 0, 0, 0, 0, 1...|     1|     0|\n",
            "|Zoll Medical Corp...|       Data Engineer|  Broomfield, CO|Data\n",
            "Who We Are: ...|1001 to 5000 Empl...|   Company - Private|       Manufacturing|Health Care Produ...|           1980|$100 to $500 mill...|  100000.0|              null|           Senior|   Senior|[1, 0, 0, 0, 0, 1...|     1|     0|\n",
            "|     Robert W. Baird|Data & Analytics ...|   Milwaukee, WI|As we continue to...|1001 to 5000 Empl...|   Company - Private|             Finance|Investment & Asse...|           1919|$2 to $5 billion ...|   92000.0|              null|           Senior|   Senior|[0, 0, 0, 0, 0, 0...|     1|     0|\n",
            "|               Jetty|       Data Engineer|    New York, NY|Welcome to Jetty,...| 51 to 200 Employees|   Company - Private|           Insurance|Insurance Agencie...|           2015|Unknown / Non-App...|   98500.0|              null|           Senior|   Senior|[1, 0, 0, 1, 0, 0...|     1|     0|\n",
            "|   DevCare Solutions|       Data Engineer|    Columbus, OH|Identifies data s...| 51 to 200 Employees|   Company - Private|Information Techn...|Information Techn...|           2005|Unknown / Non-App...|  124800.0|              null|             null|      Mid|[0, 0, 0, 0, 0, 0...|     1|     0|\n",
            "+--------------------+--------------------+----------------+--------------------+--------------------+--------------------+--------------------+--------------------+---------------+--------------------+----------+------------------+-----------------+---------+--------------------+------+------+\n",
            "only showing top 20 rows\n",
            "\n"
          ]
        }
      ]
    },
    {
      "cell_type": "markdown",
      "source": [
        "## Disponibilização do dataset em parquet"
      ],
      "metadata": {
        "id": "P_RcWy6gEh7K"
      }
    },
    {
      "cell_type": "code",
      "source": [
        "dados.write.mode('overwrite').parquet('/content/previsao_remuneracao/tratamento/dados_parquet')"
      ],
      "metadata": {
        "id": "OboSi9EJEpP8"
      },
      "execution_count": 101,
      "outputs": []
    },
    {
      "cell_type": "code",
      "source": [
        "!pwd"
      ],
      "metadata": {
        "colab": {
          "base_uri": "https://localhost:8080/"
        },
        "id": "nVox7NaVJCgL",
        "outputId": "f48a0219-bca0-4d90-de0e-720224264b99"
      },
      "execution_count": 102,
      "outputs": [
        {
          "output_type": "stream",
          "name": "stdout",
          "text": [
            "/content\n"
          ]
        }
      ]
    },
    {
      "cell_type": "code",
      "source": [
        "!ls"
      ],
      "metadata": {
        "colab": {
          "base_uri": "https://localhost:8080/"
        },
        "id": "r516JCnwJGa4",
        "outputId": "490867b9-4f62-49a0-943f-61b8a7edc12e"
      },
      "execution_count": 116,
      "outputs": [
        {
          "output_type": "stream",
          "name": "stdout",
          "text": [
            "previsao_remuneracao  spark-3.1.2-bin-hadoop2.7\n",
            "sample_data\t      spark-3.1.2-bin-hadoop2.7.tgz\n"
          ]
        }
      ]
    },
    {
      "cell_type": "code",
      "source": [
        "%cd /content/previsao_remuneracao/"
      ],
      "metadata": {
        "colab": {
          "base_uri": "https://localhost:8080/"
        },
        "id": "wMvtzQfbLICN",
        "outputId": "5eb6d0b7-3732-4a36-81e8-4fd50410dbb0"
      },
      "execution_count": 130,
      "outputs": [
        {
          "output_type": "stream",
          "name": "stdout",
          "text": [
            "/content/previsao_remuneracao\n"
          ]
        }
      ]
    },
    {
      "cell_type": "code",
      "source": [
        "!pwd"
      ],
      "metadata": {
        "colab": {
          "base_uri": "https://localhost:8080/"
        },
        "id": "z96HCSWcMIT4",
        "outputId": "6a86b618-befb-4246-e2e1-5f4e6b3ab736"
      },
      "execution_count": 131,
      "outputs": [
        {
          "output_type": "stream",
          "name": "stdout",
          "text": [
            "/content/previsao_remuneracao\n"
          ]
        }
      ]
    },
    {
      "cell_type": "code",
      "source": [
        "!ls"
      ],
      "metadata": {
        "colab": {
          "base_uri": "https://localhost:8080/"
        },
        "id": "so6ExrE2Ldde",
        "outputId": "4560d9f0-1352-44b9-d01f-d9340eb8d5d0"
      },
      "execution_count": 132,
      "outputs": [
        {
          "output_type": "stream",
          "name": "stdout",
          "text": [
            "airflow_script\t  notebook_scrapping  tratamento\n",
            "machine_learning  README.md\t      venv\n"
          ]
        }
      ]
    },
    {
      "cell_type": "code",
      "source": [
        "!git status"
      ],
      "metadata": {
        "colab": {
          "base_uri": "https://localhost:8080/"
        },
        "id": "ejivVKkiHbpj",
        "outputId": "d266030a-5770-47b4-cb19-747ddd71ab5b"
      },
      "execution_count": 151,
      "outputs": [
        {
          "output_type": "stream",
          "name": "stdout",
          "text": [
            "On branch master\n",
            "Your branch is up to date with 'origin/master'.\n",
            "\n",
            "Changes to be committed:\n",
            "  (use \"git restore --staged <file>...\" to unstage)\n",
            "\t\u001b[32mnew file:   tratamento/dados_parquet/._SUCCESS.crc\u001b[m\n",
            "\t\u001b[32mnew file:   tratamento/dados_parquet/.part-00000-c7d82ceb-8664-42d7-8fcf-3bbd78e4bd7c-c000.snappy.parquet.crc\u001b[m\n",
            "\t\u001b[32mnew file:   tratamento/dados_parquet/_SUCCESS\u001b[m\n",
            "\t\u001b[32mnew file:   tratamento/dados_parquet/part-00000-c7d82ceb-8664-42d7-8fcf-3bbd78e4bd7c-c000.snappy.parquet\u001b[m\n",
            "\n"
          ]
        }
      ]
    },
    {
      "cell_type": "code",
      "source": [
        "!git add ."
      ],
      "metadata": {
        "id": "fVxLfrsRIQeR"
      },
      "execution_count": 152,
      "outputs": []
    },
    {
      "cell_type": "code",
      "source": [
        "!git commit -m \"disponibilizacao do dataset para ml em parquet 1\""
      ],
      "metadata": {
        "colab": {
          "base_uri": "https://localhost:8080/"
        },
        "id": "EWFnQSjHIS3g",
        "outputId": "1fbe5483-c21f-4221-8c60-20d900df9a23"
      },
      "execution_count": 158,
      "outputs": [
        {
          "output_type": "stream",
          "name": "stdout",
          "text": [
            "On branch master\n",
            "Your branch is ahead of 'origin/master' by 1 commit.\n",
            "  (use \"git push\" to publish your local commits)\n",
            "\n",
            "nothing to commit, working tree clean\n"
          ]
        }
      ]
    },
    {
      "cell_type": "code",
      "source": [
        "!git push https://edinaldoab:<token>/edinaldoab/previsao_remuneracao"
      ],
      "metadata": {
        "colab": {
          "base_uri": "https://localhost:8080/"
        },
        "id": "uKuAAPqxIjYD",
        "outputId": "d2f90925-95e3-4375-b87f-559ef75b5abf"
      },
      "execution_count": 160,
      "outputs": [
        {
          "output_type": "stream",
          "name": "stdout",
          "text": [
            "Everything up-to-date\n"
          ]
        }
      ]
    }
  ],
  "metadata": {
    "colab": {
      "provenance": [],
      "include_colab_link": true
    },
    "kernelspec": {
      "display_name": "Python 3",
      "language": "python",
      "name": "python3"
    },
    "language_info": {
      "codemirror_mode": {
        "name": "ipython",
        "version": 3
      },
      "file_extension": ".py",
      "mimetype": "text/x-python",
      "name": "python",
      "nbconvert_exporter": "python",
      "pygments_lexer": "ipython3",
      "version": "3.8.8"
    }
  },
  "nbformat": 4,
  "nbformat_minor": 0
}